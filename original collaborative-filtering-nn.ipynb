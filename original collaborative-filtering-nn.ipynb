{
 "cells": [
  {
   "cell_type": "markdown",
   "metadata": {},
   "source": [
    "# Collaborative Filtering with Neural Networks"
   ]
  },
  {
   "cell_type": "markdown",
   "metadata": {},
   "source": [
    "In this notebook we will write a matrix factorization model in pytorch to solve a recommendation problem. Then we will write a more general neural model for the same problem."
   ]
  },
  {
   "cell_type": "markdown",
   "metadata": {},
   "source": [
    "The MovieLens dataset (ml-latest-small) describes 5-star rating and free-text tagging activity from MovieLens, a movie recommendation service. It contains 100004 ratings and 1296 tag applications across 9125 movies. https://grouplens.org/datasets/movielens/. To get the data:\n",
    "\n",
    "`wget http://files.grouplens.org/datasets/movielens/ml-latest-small.zip`"
   ]
  },
  {
   "cell_type": "markdown",
   "metadata": {},
   "source": [
    "## MovieLens dataset"
   ]
  },
  {
   "cell_type": "code",
   "execution_count": 2,
   "metadata": {},
   "outputs": [],
   "source": [
    "from pathlib import Path\n",
    "import pandas as pd\n",
    "import numpy as np"
   ]
  },
  {
   "cell_type": "code",
   "execution_count": 3,
   "metadata": {},
   "outputs": [
    {
     "data": {
      "text/plain": [
       "[PosixPath('ml-25m/genome-scores.csv'),\n",
       " PosixPath('ml-25m/movies.csv'),\n",
       " PosixPath('ml-25m/genome-tags.csv'),\n",
       " PosixPath('ml-25m/tags.csv'),\n",
       " PosixPath('ml-25m/README.txt'),\n",
       " PosixPath('ml-25m/links.csv'),\n",
       " PosixPath('ml-25m/original collaborative-filtering-nn.ipynb'),\n",
       " PosixPath('ml-25m/ratings.csv')]"
      ]
     },
     "execution_count": 3,
     "metadata": {},
     "output_type": "execute_result"
    }
   ],
   "source": [
    "PATH = Path(\"ml-25m/\")\n",
    "#PATH = Path(\"/data2/yinterian/ml-latest-small/\")\n",
    "list(PATH.iterdir())"
   ]
  },
  {
   "cell_type": "code",
   "execution_count": 4,
   "metadata": {},
   "outputs": [],
   "source": [
    "data = pd.read_csv(PATH/\"ratings.csv\")"
   ]
  },
  {
   "cell_type": "code",
   "execution_count": 5,
   "metadata": {},
   "outputs": [
    {
     "data": {
      "text/html": [
       "<div>\n",
       "<style scoped>\n",
       "    .dataframe tbody tr th:only-of-type {\n",
       "        vertical-align: middle;\n",
       "    }\n",
       "\n",
       "    .dataframe tbody tr th {\n",
       "        vertical-align: top;\n",
       "    }\n",
       "\n",
       "    .dataframe thead th {\n",
       "        text-align: right;\n",
       "    }\n",
       "</style>\n",
       "<table border=\"1\" class=\"dataframe\">\n",
       "  <thead>\n",
       "    <tr style=\"text-align: right;\">\n",
       "      <th></th>\n",
       "      <th>userId</th>\n",
       "      <th>movieId</th>\n",
       "      <th>rating</th>\n",
       "      <th>timestamp</th>\n",
       "    </tr>\n",
       "  </thead>\n",
       "  <tbody>\n",
       "    <tr>\n",
       "      <th>0</th>\n",
       "      <td>1</td>\n",
       "      <td>296</td>\n",
       "      <td>5.0</td>\n",
       "      <td>1147880044</td>\n",
       "    </tr>\n",
       "    <tr>\n",
       "      <th>1</th>\n",
       "      <td>1</td>\n",
       "      <td>306</td>\n",
       "      <td>3.5</td>\n",
       "      <td>1147868817</td>\n",
       "    </tr>\n",
       "    <tr>\n",
       "      <th>2</th>\n",
       "      <td>1</td>\n",
       "      <td>307</td>\n",
       "      <td>5.0</td>\n",
       "      <td>1147868828</td>\n",
       "    </tr>\n",
       "    <tr>\n",
       "      <th>3</th>\n",
       "      <td>1</td>\n",
       "      <td>665</td>\n",
       "      <td>5.0</td>\n",
       "      <td>1147878820</td>\n",
       "    </tr>\n",
       "    <tr>\n",
       "      <th>4</th>\n",
       "      <td>1</td>\n",
       "      <td>899</td>\n",
       "      <td>3.5</td>\n",
       "      <td>1147868510</td>\n",
       "    </tr>\n",
       "  </tbody>\n",
       "</table>\n",
       "</div>"
      ],
      "text/plain": [
       "   userId  movieId  rating   timestamp\n",
       "0       1      296     5.0  1147880044\n",
       "1       1      306     3.5  1147868817\n",
       "2       1      307     5.0  1147868828\n",
       "3       1      665     5.0  1147878820\n",
       "4       1      899     3.5  1147868510"
      ]
     },
     "execution_count": 5,
     "metadata": {},
     "output_type": "execute_result"
    }
   ],
   "source": [
    "data.head()"
   ]
  },
  {
   "cell_type": "markdown",
   "metadata": {},
   "source": [
    "### Encoding data\n",
    "We enconde the data to have contiguous ids for users and movies. You can think about this as a categorical encoding of our two categorical variables userId and movieId."
   ]
  },
  {
   "cell_type": "code",
   "execution_count": 6,
   "metadata": {},
   "outputs": [],
   "source": [
    "# split train and validation before encoding\n",
    "np.random.seed(3)\n",
    "msk = np.random.rand(len(data)) < 0.8\n",
    "train = data[msk].copy()\n",
    "val = data[~msk].copy()"
   ]
  },
  {
   "cell_type": "code",
   "execution_count": 7,
   "metadata": {},
   "outputs": [],
   "source": [
    "# here is a handy function modified from fast.ai\n",
    "def proc_col(col, train_col=None):\n",
    "    \"\"\"Encodes a pandas column with continous ids. \n",
    "    \"\"\"\n",
    "    if train_col is not None:\n",
    "        uniq = train_col.unique()\n",
    "    else:\n",
    "        uniq = col.unique()\n",
    "    name2idx = {o:i for i,o in enumerate(uniq)}\n",
    "    return name2idx, np.array([name2idx.get(x, -1) for x in col]), len(uniq)"
   ]
  },
  {
   "cell_type": "code",
   "execution_count": 8,
   "metadata": {},
   "outputs": [],
   "source": [
    "def encode_data(df, train=None):\n",
    "    \"\"\" Encodes rating data with continous user and movie ids. \n",
    "    If train is provided, encodes df with the same encoding as train.\n",
    "    \"\"\"\n",
    "    df = df.copy()\n",
    "    for col_name in [\"userId\", \"movieId\"]:\n",
    "        train_col = None\n",
    "        if train is not None:\n",
    "            train_col = train[col_name]\n",
    "        _,col,_ = proc_col(df[col_name], train_col)\n",
    "        df[col_name] = col\n",
    "        df = df[df[col_name] >= 0]\n",
    "    return df"
   ]
  },
  {
   "cell_type": "code",
   "execution_count": 9,
   "metadata": {},
   "outputs": [],
   "source": [
    "# encoding the train and validation data\n",
    "df_train = encode_data(train)\n",
    "df_val = encode_data(val, train)"
   ]
  },
  {
   "cell_type": "markdown",
   "metadata": {},
   "source": [
    "## Embedding layer"
   ]
  },
  {
   "cell_type": "code",
   "execution_count": 10,
   "metadata": {},
   "outputs": [
    {
     "name": "stderr",
     "output_type": "stream",
     "text": [
      "/home/kangjunekoo/anaconda3/envs/Pytorch2/lib/python3.9/site-packages/tqdm/auto.py:22: TqdmWarning: IProgress not found. Please update jupyter and ipywidgets. See https://ipywidgets.readthedocs.io/en/stable/user_install.html\n",
      "  from .autonotebook import tqdm as notebook_tqdm\n"
     ]
    }
   ],
   "source": [
    "import torch\n",
    "import torch.nn as nn\n",
    "import torch.nn.functional as F"
   ]
  },
  {
   "cell_type": "code",
   "execution_count": 11,
   "metadata": {},
   "outputs": [
    {
     "name": "stdout",
     "output_type": "stream",
     "text": [
      "162541 56642\n"
     ]
    }
   ],
   "source": [
    "num_users = len(df_train.userId.unique())\n",
    "num_items = len(df_train.movieId.unique())\n",
    "print(num_users, num_items) "
   ]
  },
  {
   "cell_type": "code",
   "execution_count": 12,
   "metadata": {},
   "outputs": [],
   "source": [
    "global train_losses\n",
    "train_losses=[]\n",
    "def train_epocs(model, epochs=10, lr=0.01, wd=0.0, unsqueeze=False):\n",
    "    optimizer = torch.optim.Adam(model.parameters(), lr=lr, weight_decay=wd)\n",
    "    model.train()\n",
    "    for i in range(epochs):\n",
    "        global users,items,ratings\n",
    "        users = torch.LongTensor(df_train.userId.values) # .cuda()\n",
    "        items = torch.LongTensor(df_train.movieId.values) #.cuda()\n",
    "        ratings = torch.FloatTensor(df_train.rating.values) #.cuda()\n",
    "        if unsqueeze:\n",
    "            ratings = ratings.unsqueeze(1)\n",
    "        y_hat = model(users, items)\n",
    "        loss = F.mse_loss(y_hat, ratings)\n",
    "        train_losses.append(loss)\n",
    "        optimizer.zero_grad()\n",
    "        loss.backward()\n",
    "        optimizer.step()\n",
    "        print(\"epochs : \",i) \n",
    "        print(\"train loss %.3f \" % loss.item()) \n",
    "        test_loss(model, unsqueeze)"
   ]
  },
  {
   "cell_type": "code",
   "execution_count": 13,
   "metadata": {},
   "outputs": [
    {
     "name": "stdout",
     "output_type": "stream",
     "text": [
      "torch.Size([19999967])\n",
      "torch.Size([19999967, 1])\n"
     ]
    }
   ],
   "source": [
    "# Here is what unsqueeze does\n",
    "ratings = torch.FloatTensor(df_train.rating.values)\n",
    "print(ratings.shape)\n",
    "ratings = ratings.unsqueeze(1) # .cuda()\n",
    "print(ratings.shape)"
   ]
  },
  {
   "cell_type": "code",
   "execution_count": 14,
   "metadata": {},
   "outputs": [],
   "source": [
    "import pandas as pd\n",
    "global val_losses\n",
    "val_losses=[]\n",
    "def test_loss(model, unsqueeze=False):\n",
    "    model.eval()\n",
    "    global users,items,ratings,y_hat\n",
    "    users = torch.LongTensor(df_val.userId.values) #.cuda()\n",
    "    items = torch.LongTensor(df_val.movieId.values) #.cuda()\n",
    "    ratings = torch.FloatTensor(df_val.rating.values) #.cuda()\n",
    "    if unsqueeze:\n",
    "        ratings = ratings.unsqueeze(1)\n",
    "    y_hat = model(users, items)\n",
    "    global df_users,df_items,df_y_hat,df_ratings\n",
    "    df_users=pd.DataFrame(users.numpy())\n",
    "    df_items=pd.DataFrame(items.numpy())\n",
    "    df_y_hat=pd.DataFrame(y_hat.detach().numpy())\n",
    "    df_ratings=pd.DataFrame(ratings.numpy())\n",
    "\n",
    "    loss = F.mse_loss(y_hat, ratings)\n",
    "    val_losses.append(loss)\n",
    "    print(\"validation loss %.3f \" % loss.item())"
   ]
  },
  {
   "cell_type": "markdown",
   "metadata": {},
   "source": [
    "## Neural Network Model"
   ]
  },
  {
   "cell_type": "code",
   "execution_count": 15,
   "metadata": {},
   "outputs": [],
   "source": [
    "# Note here there is no matrix multiplication, we could potentially make the embeddings of different sizes.\n",
    "# Here we could get better results by keep playing with regularization.\n",
    "    \n",
    "class CollabFNet(nn.Module):\n",
    "    def __init__(self, num_users, num_items, emb_size=100, n_hidden=10):\n",
    "        super(CollabFNet, self).__init__()\n",
    "        self.user_emb = nn.Embedding(num_users, emb_size)\n",
    "        self.item_emb = nn.Embedding(num_items, emb_size)\n",
    "        self.lin1 = nn.Linear(emb_size*2, n_hidden)\n",
    "        self.lin2 = nn.Linear(n_hidden, 1)\n",
    "        self.drop1 = nn.Dropout(0.1)\n",
    "        \n",
    "    def forward(self, u, v):\n",
    "        global U,V\n",
    "        U = self.user_emb(u)\n",
    "        V = self.item_emb(v)\n",
    "        x = F.relu(torch.cat([U, V], dim=1))\n",
    "        x = self.drop1(x)\n",
    "        x = F.relu(self.lin1(x))\n",
    "        x = self.lin2(x)\n",
    "        return x"
   ]
  },
  {
   "cell_type": "code",
   "execution_count": 16,
   "metadata": {},
   "outputs": [],
   "source": [
    "model = CollabFNet(num_users, num_items, emb_size=100) #.cuda()"
   ]
  },
  {
   "cell_type": "code",
   "execution_count": 17,
   "metadata": {},
   "outputs": [
    {
     "name": "stdout",
     "output_type": "stream",
     "text": [
      "epochs :  0\n",
      "train loss 13.962 \n",
      "validation loss 3.316 \n",
      "epochs :  1\n",
      "train loss 3.320 \n",
      "validation loss 1.293 \n",
      "epochs :  2\n",
      "train loss 1.294 \n",
      "validation loss 1.886 \n",
      "epochs :  3\n",
      "train loss 1.885 \n",
      "validation loss 1.866 \n",
      "epochs :  4\n",
      "train loss 1.864 \n",
      "validation loss 1.213 \n",
      "epochs :  5\n",
      "train loss 1.212 \n",
      "validation loss 1.243 \n",
      "epochs :  6\n",
      "train loss 1.243 \n",
      "validation loss 1.478 \n",
      "epochs :  7\n",
      "train loss 1.477 \n",
      "validation loss 1.127 \n",
      "epochs :  8\n",
      "train loss 1.125 \n",
      "validation loss 0.988 \n",
      "epochs :  9\n",
      "train loss 0.985 \n",
      "validation loss 1.161 \n",
      "epochs :  10\n",
      "train loss 1.156 \n",
      "validation loss 1.181 \n",
      "epochs :  11\n",
      "train loss 1.176 \n",
      "validation loss 0.991 \n",
      "epochs :  12\n",
      "train loss 0.986 \n",
      "validation loss 0.891 \n",
      "epochs :  13\n",
      "train loss 0.886 \n",
      "validation loss 1.005 \n",
      "epochs :  14\n",
      "train loss 1.000 \n",
      "validation loss 1.022 \n",
      "epochs :  15\n",
      "train loss 1.017 \n",
      "validation loss 0.898 \n",
      "epochs :  16\n",
      "train loss 0.892 \n",
      "validation loss 0.884 \n",
      "epochs :  17\n",
      "train loss 0.877 \n",
      "validation loss 0.963 \n",
      "epochs :  18\n",
      "train loss 0.956 \n",
      "validation loss 0.966 \n",
      "epochs :  19\n",
      "train loss 0.959 \n",
      "validation loss 0.889 \n",
      "epochs :  20\n",
      "train loss 0.882 \n",
      "validation loss 0.862 \n",
      "epochs :  21\n",
      "train loss 0.854 \n",
      "validation loss 0.906 \n",
      "epochs :  22\n",
      "train loss 0.898 \n",
      "validation loss 0.901 \n",
      "epochs :  23\n",
      "train loss 0.894 \n",
      "validation loss 0.851 \n",
      "epochs :  24\n",
      "train loss 0.843 \n",
      "validation loss 0.851 \n",
      "epochs :  25\n",
      "train loss 0.843 \n",
      "validation loss 0.881 \n",
      "epochs :  26\n",
      "train loss 0.873 \n",
      "validation loss 0.873 \n",
      "epochs :  27\n",
      "train loss 0.865 \n",
      "validation loss 0.838 \n",
      "epochs :  28\n",
      "train loss 0.830 \n",
      "validation loss 0.834 \n",
      "epochs :  29\n",
      "train loss 0.826 \n",
      "validation loss 0.850 \n"
     ]
    }
   ],
   "source": [
    "train_epocs(model, epochs=30, lr=0.05, wd=1e-6, unsqueeze=True) "
   ]
  },
  {
   "cell_type": "code",
   "execution_count": 18,
   "metadata": {},
   "outputs": [
    {
     "name": "stderr",
     "output_type": "stream",
     "text": [
      "/home/kangjunekoo/anaconda3/envs/Pytorch2/lib/python3.9/site-packages/seaborn/_decorators.py:36: FutureWarning: Pass the following variables as keyword args: x, y. From version 0.12, the only valid positional argument will be `data`, and passing other arguments without an explicit keyword will result in an error or misinterpretation.\n",
      "  warnings.warn(\n",
      "/home/kangjunekoo/anaconda3/envs/Pytorch2/lib/python3.9/site-packages/seaborn/_decorators.py:36: FutureWarning: Pass the following variables as keyword args: x, y. From version 0.12, the only valid positional argument will be `data`, and passing other arguments without an explicit keyword will result in an error or misinterpretation.\n",
      "  warnings.warn(\n"
     ]
    },
    {
     "data": {
      "text/plain": [
       "<AxesSubplot:>"
      ]
     },
     "execution_count": 18,
     "metadata": {},
     "output_type": "execute_result"
    },
    {
     "data": {
      "image/png": "[encoded data removed]",
      "text/plain": [
       "<Figure size 432x288 with 1 Axes>"
      ]
     },
     "metadata": {
      "needs_background": "light"
     },
     "output_type": "display_data"
    }
   ],
   "source": [
    "import seaborn as sns\n",
    "train_losses_float=[float(train_loss.cpu().detach().numpy()) for train_loss in train_losses]\n",
    "train_loss_indices=[i for i, l in enumerate(train_losses_float)]\n",
    "plt=sns.lineplot(train_loss_indices,train_losses_float)\n",
    "val_losses_float=[float(val_loss.cpu().detach().numpy()) for val_loss in val_losses]\n",
    "val_loss_indices=[i for i, l in enumerate(val_losses_float)]\n",
    "plt=sns.lineplot(val_loss_indices,val_losses_float,color='r')\n",
    "plt"
   ]
  },
  {
   "cell_type": "code",
   "execution_count": 19,
   "metadata": {},
   "outputs": [
    {
     "data": {
      "text/html": [
       "<div>\n",
       "<style scoped>\n",
       "    .dataframe tbody tr th:only-of-type {\n",
       "        vertical-align: middle;\n",
       "    }\n",
       "\n",
       "    .dataframe tbody tr th {\n",
       "        vertical-align: top;\n",
       "    }\n",
       "\n",
       "    .dataframe thead th {\n",
       "        text-align: right;\n",
       "    }\n",
       "</style>\n",
       "<table border=\"1\" class=\"dataframe\">\n",
       "  <thead>\n",
       "    <tr style=\"text-align: right;\">\n",
       "      <th></th>\n",
       "      <th>0</th>\n",
       "      <th>1</th>\n",
       "      <th>2</th>\n",
       "      <th>3</th>\n",
       "      <th>4</th>\n",
       "      <th>5</th>\n",
       "      <th>6</th>\n",
       "      <th>7</th>\n",
       "      <th>8</th>\n",
       "      <th>9</th>\n",
       "      <th>...</th>\n",
       "      <th>4997311</th>\n",
       "      <th>4997312</th>\n",
       "      <th>4997313</th>\n",
       "      <th>4997314</th>\n",
       "      <th>4997315</th>\n",
       "      <th>4997316</th>\n",
       "      <th>4997317</th>\n",
       "      <th>4997318</th>\n",
       "      <th>4997319</th>\n",
       "      <th>4997320</th>\n",
       "    </tr>\n",
       "  </thead>\n",
       "  <tbody>\n",
       "    <tr>\n",
       "      <th>0</th>\n",
       "      <td>0</td>\n",
       "      <td>0</td>\n",
       "      <td>0</td>\n",
       "      <td>0</td>\n",
       "      <td>0</td>\n",
       "      <td>0</td>\n",
       "      <td>0</td>\n",
       "      <td>0</td>\n",
       "      <td>1</td>\n",
       "      <td>1</td>\n",
       "      <td>...</td>\n",
       "      <td>162540</td>\n",
       "      <td>162540</td>\n",
       "      <td>162540</td>\n",
       "      <td>162540</td>\n",
       "      <td>162540</td>\n",
       "      <td>162540</td>\n",
       "      <td>162540</td>\n",
       "      <td>162540</td>\n",
       "      <td>162540</td>\n",
       "      <td>162540</td>\n",
       "    </tr>\n",
       "  </tbody>\n",
       "</table>\n",
       "<p>1 rows × 4997321 columns</p>\n",
       "</div>"
      ],
      "text/plain": [
       "   0        1        2        3        4        5        6        7        \\\n",
       "0        0        0        0        0        0        0        0        0   \n",
       "\n",
       "   8        9        ...  4997311  4997312  4997313  4997314  4997315  \\\n",
       "0        1        1  ...   162540   162540   162540   162540   162540   \n",
       "\n",
       "   4997316  4997317  4997318  4997319  4997320  \n",
       "0   162540   162540   162540   162540   162540  \n",
       "\n",
       "[1 rows x 4997321 columns]"
      ]
     },
     "execution_count": 19,
     "metadata": {},
     "output_type": "execute_result"
    }
   ],
   "source": [
    "df_users.T"
   ]
  },
  {
   "cell_type": "code",
   "execution_count": 20,
   "metadata": {},
   "outputs": [
    {
     "data": {
      "text/html": [
       "<div>\n",
       "<style scoped>\n",
       "    .dataframe tbody tr th:only-of-type {\n",
       "        vertical-align: middle;\n",
       "    }\n",
       "\n",
       "    .dataframe tbody tr th {\n",
       "        vertical-align: top;\n",
       "    }\n",
       "\n",
       "    .dataframe thead th {\n",
       "        text-align: right;\n",
       "    }\n",
       "</style>\n",
       "<table border=\"1\" class=\"dataframe\">\n",
       "  <thead>\n",
       "    <tr style=\"text-align: right;\">\n",
       "      <th></th>\n",
       "      <th>0</th>\n",
       "      <th>1</th>\n",
       "      <th>2</th>\n",
       "      <th>3</th>\n",
       "      <th>4</th>\n",
       "      <th>5</th>\n",
       "      <th>6</th>\n",
       "      <th>7</th>\n",
       "      <th>8</th>\n",
       "      <th>9</th>\n",
       "      <th>...</th>\n",
       "      <th>4997311</th>\n",
       "      <th>4997312</th>\n",
       "      <th>4997313</th>\n",
       "      <th>4997314</th>\n",
       "      <th>4997315</th>\n",
       "      <th>4997316</th>\n",
       "      <th>4997317</th>\n",
       "      <th>4997318</th>\n",
       "      <th>4997319</th>\n",
       "      <th>4997320</th>\n",
       "    </tr>\n",
       "  </thead>\n",
       "  <tbody>\n",
       "    <tr>\n",
       "      <th>0</th>\n",
       "      <td>2018</td>\n",
       "      <td>1119</td>\n",
       "      <td>1567</td>\n",
       "      <td>3552</td>\n",
       "      <td>10649</td>\n",
       "      <td>8904</td>\n",
       "      <td>4143</td>\n",
       "      <td>18293</td>\n",
       "      <td>801</td>\n",
       "      <td>811</td>\n",
       "      <td>...</td>\n",
       "      <td>164</td>\n",
       "      <td>3465</td>\n",
       "      <td>356</td>\n",
       "      <td>364</td>\n",
       "      <td>1494</td>\n",
       "      <td>196</td>\n",
       "      <td>1683</td>\n",
       "      <td>1593</td>\n",
       "      <td>717</td>\n",
       "      <td>6542</td>\n",
       "    </tr>\n",
       "  </tbody>\n",
       "</table>\n",
       "<p>1 rows × 4997321 columns</p>\n",
       "</div>"
      ],
      "text/plain": [
       "   0        1        2        3        4        5        6        7        \\\n",
       "0     2018     1119     1567     3552    10649     8904     4143    18293   \n",
       "\n",
       "   8        9        ...  4997311  4997312  4997313  4997314  4997315  \\\n",
       "0      801      811  ...      164     3465      356      364     1494   \n",
       "\n",
       "   4997316  4997317  4997318  4997319  4997320  \n",
       "0      196     1683     1593      717     6542  \n",
       "\n",
       "[1 rows x 4997321 columns]"
      ]
     },
     "execution_count": 20,
     "metadata": {},
     "output_type": "execute_result"
    }
   ],
   "source": [
    "df_items.T"
   ]
  },
  {
   "cell_type": "code",
   "execution_count": 21,
   "metadata": {},
   "outputs": [
    {
     "data": {
      "text/html": [
       "<div>\n",
       "<style scoped>\n",
       "    .dataframe tbody tr th:only-of-type {\n",
       "        vertical-align: middle;\n",
       "    }\n",
       "\n",
       "    .dataframe tbody tr th {\n",
       "        vertical-align: top;\n",
       "    }\n",
       "\n",
       "    .dataframe thead th {\n",
       "        text-align: right;\n",
       "    }\n",
       "</style>\n",
       "<table border=\"1\" class=\"dataframe\">\n",
       "  <thead>\n",
       "    <tr style=\"text-align: right;\">\n",
       "      <th></th>\n",
       "      <th>0</th>\n",
       "      <th>1</th>\n",
       "      <th>2</th>\n",
       "      <th>3</th>\n",
       "      <th>4</th>\n",
       "      <th>5</th>\n",
       "      <th>6</th>\n",
       "      <th>7</th>\n",
       "      <th>8</th>\n",
       "      <th>9</th>\n",
       "      <th>...</th>\n",
       "      <th>4997311</th>\n",
       "      <th>4997312</th>\n",
       "      <th>4997313</th>\n",
       "      <th>4997314</th>\n",
       "      <th>4997315</th>\n",
       "      <th>4997316</th>\n",
       "      <th>4997317</th>\n",
       "      <th>4997318</th>\n",
       "      <th>4997319</th>\n",
       "      <th>4997320</th>\n",
       "    </tr>\n",
       "  </thead>\n",
       "  <tbody>\n",
       "    <tr>\n",
       "      <th>0</th>\n",
       "      <td>4.06573</td>\n",
       "      <td>3.241074</td>\n",
       "      <td>4.250451</td>\n",
       "      <td>4.027228</td>\n",
       "      <td>3.029732</td>\n",
       "      <td>3.059823</td>\n",
       "      <td>3.104952</td>\n",
       "      <td>2.813874</td>\n",
       "      <td>3.903775</td>\n",
       "      <td>3.605015</td>\n",
       "      <td>...</td>\n",
       "      <td>4.130039</td>\n",
       "      <td>3.800296</td>\n",
       "      <td>2.871465</td>\n",
       "      <td>3.12014</td>\n",
       "      <td>3.771618</td>\n",
       "      <td>3.835198</td>\n",
       "      <td>3.549557</td>\n",
       "      <td>4.048035</td>\n",
       "      <td>3.70741</td>\n",
       "      <td>1.80628</td>\n",
       "    </tr>\n",
       "  </tbody>\n",
       "</table>\n",
       "<p>1 rows × 4997321 columns</p>\n",
       "</div>"
      ],
      "text/plain": [
       "   0         1         2         3         4         5         6        \\\n",
       "0  4.06573  3.241074  4.250451  4.027228  3.029732  3.059823  3.104952   \n",
       "\n",
       "    7         8         9        ...   4997311   4997312   4997313  4997314  \\\n",
       "0  2.813874  3.903775  3.605015  ...  4.130039  3.800296  2.871465  3.12014   \n",
       "\n",
       "    4997315   4997316   4997317   4997318  4997319  4997320  \n",
       "0  3.771618  3.835198  3.549557  4.048035  3.70741  1.80628  \n",
       "\n",
       "[1 rows x 4997321 columns]"
      ]
     },
     "execution_count": 21,
     "metadata": {},
     "output_type": "execute_result"
    }
   ],
   "source": [
    "df_y_hat.T"
   ]
  },
  {
   "cell_type": "code",
   "execution_count": 22,
   "metadata": {},
   "outputs": [
    {
     "data": {
      "text/html": [
       "<div>\n",
       "<style scoped>\n",
       "    .dataframe tbody tr th:only-of-type {\n",
       "        vertical-align: middle;\n",
       "    }\n",
       "\n",
       "    .dataframe tbody tr th {\n",
       "        vertical-align: top;\n",
       "    }\n",
       "\n",
       "    .dataframe thead th {\n",
       "        text-align: right;\n",
       "    }\n",
       "</style>\n",
       "<table border=\"1\" class=\"dataframe\">\n",
       "  <thead>\n",
       "    <tr style=\"text-align: right;\">\n",
       "      <th></th>\n",
       "      <th>0</th>\n",
       "      <th>1</th>\n",
       "      <th>2</th>\n",
       "      <th>3</th>\n",
       "      <th>4</th>\n",
       "      <th>5</th>\n",
       "      <th>6</th>\n",
       "      <th>7</th>\n",
       "      <th>8</th>\n",
       "      <th>9</th>\n",
       "      <th>...</th>\n",
       "      <th>4997311</th>\n",
       "      <th>4997312</th>\n",
       "      <th>4997313</th>\n",
       "      <th>4997314</th>\n",
       "      <th>4997315</th>\n",
       "      <th>4997316</th>\n",
       "      <th>4997317</th>\n",
       "      <th>4997318</th>\n",
       "      <th>4997319</th>\n",
       "      <th>4997320</th>\n",
       "    </tr>\n",
       "  </thead>\n",
       "  <tbody>\n",
       "    <tr>\n",
       "      <th>0</th>\n",
       "      <td>3.5</td>\n",
       "      <td>4.0</td>\n",
       "      <td>4.5</td>\n",
       "      <td>4.0</td>\n",
       "      <td>2.0</td>\n",
       "      <td>5.0</td>\n",
       "      <td>2.0</td>\n",
       "      <td>3.5</td>\n",
       "      <td>4.5</td>\n",
       "      <td>3.5</td>\n",
       "      <td>...</td>\n",
       "      <td>5.0</td>\n",
       "      <td>4.5</td>\n",
       "      <td>3.0</td>\n",
       "      <td>2.0</td>\n",
       "      <td>4.5</td>\n",
       "      <td>4.0</td>\n",
       "      <td>4.5</td>\n",
       "      <td>4.5</td>\n",
       "      <td>4.5</td>\n",
       "      <td>2.0</td>\n",
       "    </tr>\n",
       "  </tbody>\n",
       "</table>\n",
       "<p>1 rows × 4997321 columns</p>\n",
       "</div>"
      ],
      "text/plain": [
       "   0        1        2        3        4        5        6        7        \\\n",
       "0      3.5      4.0      4.5      4.0      2.0      5.0      2.0      3.5   \n",
       "\n",
       "   8        9        ...  4997311  4997312  4997313  4997314  4997315  \\\n",
       "0      4.5      3.5  ...      5.0      4.5      3.0      2.0      4.5   \n",
       "\n",
       "   4997316  4997317  4997318  4997319  4997320  \n",
       "0      4.0      4.5      4.5      4.5      2.0  \n",
       "\n",
       "[1 rows x 4997321 columns]"
      ]
     },
     "execution_count": 22,
     "metadata": {},
     "output_type": "execute_result"
    }
   ],
   "source": [
    "df_ratings.T"
   ]
  },
  {
   "cell_type": "code",
   "execution_count": null,
   "metadata": {},
   "outputs": [],
   "source": []
  }
 ],
 "metadata": {
  "kernelspec": {
   "display_name": "Python 3",
   "language": "python",
   "name": "python3"
  },
  "language_info": {
   "codemirror_mode": {
    "name": "ipython",
    "version": 3
   },
   "file_extension": ".py",
   "mimetype": "text/x-python",
   "name": "python",
   "nbconvert_exporter": "python",
   "pygments_lexer": "ipython3",
   "version": "3.9.12"
  },
  "toc": {
   "nav_menu": {},
   "number_sections": true,
   "sideBar": true,
   "skip_h1_title": false,
   "toc_cell": false,
   "toc_position": {},
   "toc_section_display": "block",
   "toc_window_display": false
  }
 },
 "nbformat": 4,
 "nbformat_minor": 2
}
