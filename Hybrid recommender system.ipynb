{
  "cells": [
    {
      "cell_type": "markdown",
      "metadata": {
        "id": "oIAnNuuX2EOr"
      },
      "source": [
        "# 추천 시스템 (Recommender Systems)\n",
        "\n",
        "* 추천 시스템은 크게 두가지로 구분 가능\n",
        "  * 컨텐츠 기반 필터링 (content-based filtering)\n",
        "  * 협업 필터링 (collaborative filtering)\n",
        "* 두가지를 조합한 hybrid 방식도 가능\n",
        "* 컨텐츠 기반 필터링은 지금까지 사용자의 이전 행동과 명시적 피드백을 통해 사용자가 좋아하는 것과 유사한 항목을 추천\n",
        "* 협업 필터링은 사용자와 항목간의 유사성을 동시에 사용해 추천"
      ]
    },
    {
      "cell_type": "markdown",
      "metadata": {
        "id": "pKQvtsfX2bRf"
      },
      "source": [
        "## Surprise\n",
        "\n",
        "* 추천 시스템 개발을 위한 라이브러리\n",
        "* 다양한 모델과 데이터 제공\n",
        "* scikit-learn과 유사한 사용 방법"
      ]
    },
    {
      "cell_type": "code",
      "execution_count": 1,
      "metadata": {
        "colab": {
          "base_uri": "https://localhost:8080/"
        },
        "id": "YOSD5YupzKXh",
        "outputId": "12b38a36-f73c-4e05-a36c-46c7770d2fc1"
      },
      "outputs": [
        {
          "name": "stdout",
          "output_type": "stream",
          "text": [
            "Collecting surprise\n",
            "  Downloading surprise-0.1-py2.py3-none-any.whl (1.8 kB)\n",
            "Collecting scikit-surprise\n",
            "  Downloading scikit-surprise-1.1.1.tar.gz (11.8 MB)\n",
            "\u001b[K     |████████████████████████████████| 11.8 MB 4.1 MB/s eta 0:00:01\n",
            "\u001b[?25hRequirement already satisfied: joblib>=0.11 in /home/kangjunekoo/anaconda3/envs/pytorch/lib/python3.7/site-packages (from scikit-surprise->surprise) (1.1.0)\n",
            "Requirement already satisfied: numpy>=1.11.2 in /home/kangjunekoo/anaconda3/envs/pytorch/lib/python3.7/site-packages (from scikit-surprise->surprise) (1.21.2)\n",
            "Requirement already satisfied: scipy>=1.0.0 in /home/kangjunekoo/anaconda3/envs/pytorch/lib/python3.7/site-packages (from scikit-surprise->surprise) (1.7.3)\n",
            "Requirement already satisfied: six>=1.10.0 in /home/kangjunekoo/anaconda3/envs/pytorch/lib/python3.7/site-packages (from scikit-surprise->surprise) (1.16.0)\n",
            "Building wheels for collected packages: scikit-surprise\n",
            "  Building wheel for scikit-surprise (setup.py) ... \u001b[?25ldone\n",
            "\u001b[?25h  Created wheel for scikit-surprise: filename=scikit_surprise-1.1.1-cp37-cp37m-linux_x86_64.whl size=2026230 sha256=8441e67e4dc7ef724ad8400bad9e7b49279b46e9ea9b0416975a4466b4817343\n",
            "  Stored in directory: /home/kangjunekoo/.cache/pip/wheels/76/44/74/b498c42be47b2406bd27994e16c5188e337c657025ab400c1c\n",
            "Successfully built scikit-surprise\n",
            "Installing collected packages: scikit-surprise, surprise\n",
            "Successfully installed scikit-surprise-1.1.1 surprise-0.1\n"
          ]
        }
      ],
      "source": [
        "!pip install surprise"
      ]
    },
    {
      "cell_type": "code",
      "execution_count": 2,
      "metadata": {
        "id": "AvuLuP8J16Eb"
      },
      "outputs": [],
      "source": [
        "from surprise import SVD\n",
        "from surprise import Dataset\n",
        "from surprise.model_selection import cross_validate"
      ]
    },
    {
      "cell_type": "markdown",
      "metadata": {
        "id": "f8S2mbY13TPl"
      },
      "source": [
        "간단한 surprise 실습"
      ]
    },
    {
      "cell_type": "code",
      "execution_count": 4,
      "metadata": {
        "colab": {
          "base_uri": "https://localhost:8080/"
        },
        "id": "M0SJB24k3ReQ",
        "outputId": "444f770f-513f-4c8d-ab88-06dd3c44981c"
      },
      "outputs": [
        {
          "name": "stdout",
          "output_type": "stream",
          "text": [
            "Trying to download dataset from http://files.grouplens.org/datasets/movielens/ml-100k.zip...\n",
            "Done! Dataset ml-100k has been saved to /home/kangjunekoo/.surprise_data/ml-100k\n"
          ]
        },
        {
          "data": {
            "text/plain": [
              "[('196', '242', 3.0, '881250949'),\n",
              " ('186', '302', 3.0, '891717742'),\n",
              " ('22', '377', 1.0, '878887116'),\n",
              " ('244', '51', 2.0, '880606923'),\n",
              " ('166', '346', 1.0, '886397596'),\n",
              " ('298', '474', 4.0, '884182806'),\n",
              " ('115', '265', 2.0, '881171488'),\n",
              " ('253', '465', 5.0, '891628467'),\n",
              " ('305', '451', 3.0, '886324817'),\n",
              " ('6', '86', 3.0, '883603013')]"
            ]
          },
          "execution_count": 4,
          "metadata": {},
          "output_type": "execute_result"
        }
      ],
      "source": [
        "data=Dataset.load_builtin('ml-100k',prompt=False)\n",
        "data.raw_ratings[:10]"
      ]
    },
    {
      "cell_type": "code",
      "execution_count": 5,
      "metadata": {
        "id": "IGZjsosZ3jwy"
      },
      "outputs": [],
      "source": [
        "model=SVD()"
      ]
    },
    {
      "cell_type": "code",
      "execution_count": 6,
      "metadata": {
        "colab": {
          "base_uri": "https://localhost:8080/"
        },
        "id": "nAF9VVHt9qz9",
        "outputId": "925b9392-ac3e-4f41-b071-51d77c239264"
      },
      "outputs": [
        {
          "name": "stdout",
          "output_type": "stream",
          "text": [
            "Evaluating RMSE, MAE of algorithm SVD on 5 split(s).\n",
            "\n",
            "                  Fold 1  Fold 2  Fold 3  Fold 4  Fold 5  Mean    Std     \n",
            "RMSE (testset)    0.9385  0.9303  0.9411  0.9380  0.9337  0.9363  0.0038  \n",
            "MAE (testset)     0.7392  0.7324  0.7421  0.7382  0.7376  0.7379  0.0032  \n",
            "Fit time          2.72    2.68    2.68    2.69    2.71    2.70    0.02    \n",
            "Test time         0.14    0.08    0.14    0.09    0.13    0.12    0.03    \n"
          ]
        },
        {
          "data": {
            "text/plain": [
              "{'test_rmse': array([0.93850522, 0.93030108, 0.94105412, 0.93795639, 0.93367353]),\n",
              " 'test_mae': array([0.73924136, 0.73240973, 0.74209833, 0.7382465 , 0.7375728 ]),\n",
              " 'fit_time': (2.7170369625091553,\n",
              "  2.681189775466919,\n",
              "  2.6766645908355713,\n",
              "  2.6929848194122314,\n",
              "  2.707291841506958),\n",
              " 'test_time': (0.14100241661071777,\n",
              "  0.08498072624206543,\n",
              "  0.13762998580932617,\n",
              "  0.08507990837097168,\n",
              "  0.13309240341186523)}"
            ]
          },
          "execution_count": 6,
          "metadata": {},
          "output_type": "execute_result"
        }
      ],
      "source": [
        "cross_validate(model,data,measures=['rmse','mae'],cv=5,verbose=True)"
      ]
    },
    {
      "cell_type": "markdown",
      "metadata": {
        "id": "tP5L65zvCRlv"
      },
      "source": [
        "## 컨텐츠 기반 필터링 (Content-based Filtering)\n",
        "\n",
        "* 컨텐츠 기반 필터링은 이전의 행동과 명시적 피드백을 통해 좋아하는 것과 유사한 항목을 추천\n",
        "  * ex) 내가 지금 까지 시청한 영화 목록과 다른 사용자의 시청 목록을 비교해 나와 비슷한 취향의 사용자가 시청한 영화를 추천\n",
        "* 유사도를 기반으로 추천\n",
        "* 컨텐츠 기반 필터링은 다음과 같은 장단점이 있다.\n",
        "  * 장점\n",
        "    * 많은 수의 사용자를 대상으로 쉽게 확장 가능\n",
        "    * 사용자가 관심을 갖지 않던 상품 추천 가능\n",
        "  * 단점\n",
        "    * 입력 특성을 직접 설계해야 하기 때문에 많은 도메인 지식이 필요\n",
        "    * 사용자의 기존 관심사항을 기반으로만 추천 가능"
      ]
    },
    {
      "cell_type": "code",
      "execution_count": 7,
      "metadata": {
        "id": "M81hRKa9-9pK"
      },
      "outputs": [],
      "source": [
        "import numpy as np\n",
        "from surprise import Dataset"
      ]
    },
    {
      "cell_type": "markdown",
      "metadata": {
        "id": "0NyTt1u8LLCP"
      },
      "source": [
        "* 이진 벡터의 내적을 통해 다른 사용자들과의 유사도 구하기\n",
        "* 나와 가장 높은 유사도를 가진 사용자의 시청 목록을 추천"
      ]
    },
    {
      "cell_type": "code",
      "execution_count": 8,
      "metadata": {
        "id": "-Y3Y_rNWH-zT"
      },
      "outputs": [],
      "source": [
        "data=Dataset.load_builtin('ml-100k',prompt=False)\n",
        "raw_data=np.array(data.raw_ratings,dtype=int)"
      ]
    },
    {
      "cell_type": "code",
      "execution_count": 9,
      "metadata": {
        "id": "z60YDlPOJzSr"
      },
      "outputs": [],
      "source": [
        "raw_data[:,0]-=1\n",
        "raw_data[:,1]-=1"
      ]
    },
    {
      "cell_type": "code",
      "execution_count": 10,
      "metadata": {
        "colab": {
          "base_uri": "https://localhost:8080/"
        },
        "id": "4f20U_BFIbQA",
        "outputId": "e8736785-dac3-4d2c-d85e-20d1aee10101"
      },
      "outputs": [
        {
          "data": {
            "text/plain": [
              "(943, 1682)"
            ]
          },
          "execution_count": 10,
          "metadata": {},
          "output_type": "execute_result"
        }
      ],
      "source": [
        "n_users=np.max(raw_data[:,0])\n",
        "n_movies=np.max(raw_data[:,1])\n",
        "shape=(n_users+1,n_movies+1)\n",
        "shape"
      ]
    },
    {
      "cell_type": "code",
      "execution_count": 52,
      "metadata": {},
      "outputs": [
        {
          "data": {
            "text/html": [
              "<div>\n",
              "<style scoped>\n",
              "    .dataframe tbody tr th:only-of-type {\n",
              "        vertical-align: middle;\n",
              "    }\n",
              "\n",
              "    .dataframe tbody tr th {\n",
              "        vertical-align: top;\n",
              "    }\n",
              "\n",
              "    .dataframe thead th {\n",
              "        text-align: right;\n",
              "    }\n",
              "</style>\n",
              "<table border=\"1\" class=\"dataframe\">\n",
              "  <thead>\n",
              "    <tr style=\"text-align: right;\">\n",
              "      <th></th>\n",
              "      <th>0</th>\n",
              "      <th>1</th>\n",
              "      <th>2</th>\n",
              "      <th>3</th>\n",
              "    </tr>\n",
              "  </thead>\n",
              "  <tbody>\n",
              "    <tr>\n",
              "      <th>0</th>\n",
              "      <td>195</td>\n",
              "      <td>241</td>\n",
              "      <td>3</td>\n",
              "      <td>881250949</td>\n",
              "    </tr>\n",
              "    <tr>\n",
              "      <th>1</th>\n",
              "      <td>185</td>\n",
              "      <td>301</td>\n",
              "      <td>3</td>\n",
              "      <td>891717742</td>\n",
              "    </tr>\n",
              "    <tr>\n",
              "      <th>2</th>\n",
              "      <td>21</td>\n",
              "      <td>376</td>\n",
              "      <td>1</td>\n",
              "      <td>878887116</td>\n",
              "    </tr>\n",
              "    <tr>\n",
              "      <th>3</th>\n",
              "      <td>243</td>\n",
              "      <td>50</td>\n",
              "      <td>2</td>\n",
              "      <td>880606923</td>\n",
              "    </tr>\n",
              "    <tr>\n",
              "      <th>4</th>\n",
              "      <td>165</td>\n",
              "      <td>345</td>\n",
              "      <td>1</td>\n",
              "      <td>886397596</td>\n",
              "    </tr>\n",
              "    <tr>\n",
              "      <th>...</th>\n",
              "      <td>...</td>\n",
              "      <td>...</td>\n",
              "      <td>...</td>\n",
              "      <td>...</td>\n",
              "    </tr>\n",
              "    <tr>\n",
              "      <th>99995</th>\n",
              "      <td>879</td>\n",
              "      <td>475</td>\n",
              "      <td>3</td>\n",
              "      <td>880175444</td>\n",
              "    </tr>\n",
              "    <tr>\n",
              "      <th>99996</th>\n",
              "      <td>715</td>\n",
              "      <td>203</td>\n",
              "      <td>5</td>\n",
              "      <td>879795543</td>\n",
              "    </tr>\n",
              "    <tr>\n",
              "      <th>99997</th>\n",
              "      <td>275</td>\n",
              "      <td>1089</td>\n",
              "      <td>1</td>\n",
              "      <td>874795795</td>\n",
              "    </tr>\n",
              "    <tr>\n",
              "      <th>99998</th>\n",
              "      <td>12</td>\n",
              "      <td>224</td>\n",
              "      <td>2</td>\n",
              "      <td>882399156</td>\n",
              "    </tr>\n",
              "    <tr>\n",
              "      <th>99999</th>\n",
              "      <td>11</td>\n",
              "      <td>202</td>\n",
              "      <td>3</td>\n",
              "      <td>879959583</td>\n",
              "    </tr>\n",
              "  </tbody>\n",
              "</table>\n",
              "<p>100000 rows × 4 columns</p>\n",
              "</div>"
            ],
            "text/plain": [
              "         0     1  2          3\n",
              "0      195   241  3  881250949\n",
              "1      185   301  3  891717742\n",
              "2       21   376  1  878887116\n",
              "3      243    50  2  880606923\n",
              "4      165   345  1  886397596\n",
              "...    ...   ... ..        ...\n",
              "99995  879   475  3  880175444\n",
              "99996  715   203  5  879795543\n",
              "99997  275  1089  1  874795795\n",
              "99998   12   224  2  882399156\n",
              "99999   11   202  3  879959583\n",
              "\n",
              "[100000 rows x 4 columns]"
            ]
          },
          "execution_count": 52,
          "metadata": {},
          "output_type": "execute_result"
        }
      ],
      "source": [
        "import pandas as pd\n",
        "df_raw_data=pd.DataFrame(raw_data)\n",
        "df_raw_data"
      ]
    },
    {
      "cell_type": "code",
      "execution_count": 55,
      "metadata": {},
      "outputs": [
        {
          "data": {
            "text/plain": [
              "array([[      195,       241,         3, 881250949],\n",
              "       [      185,       301,         3, 891717742],\n",
              "       [       21,       376,         1, 878887116],\n",
              "       ...,\n",
              "       [      275,      1089,         1, 874795795],\n",
              "       [       12,       224,         2, 882399156],\n",
              "       [       11,       202,         3, 879959583]])"
            ]
          },
          "execution_count": 55,
          "metadata": {},
          "output_type": "execute_result"
        }
      ],
      "source": [
        "raw_data"
      ]
    },
    {
      "cell_type": "code",
      "execution_count": 57,
      "metadata": {},
      "outputs": [
        {
          "ename": "ValueError",
          "evalue": "too many values to unpack (expected 4)",
          "output_type": "error",
          "traceback": [
            "\u001b[0;31m---------------------------------------------------------------------------\u001b[0m",
            "\u001b[0;31mValueError\u001b[0m                                Traceback (most recent call last)",
            "\u001b[0;32m/tmp/ipykernel_258101/2836917781.py\u001b[0m in \u001b[0;36m<module>\u001b[0;34m\u001b[0m\n\u001b[0;32m----> 1\u001b[0;31m \u001b[0muser_id\u001b[0m\u001b[0;34m,\u001b[0m\u001b[0mmovie_id\u001b[0m\u001b[0;34m,\u001b[0m\u001b[0mrating\u001b[0m\u001b[0;34m,\u001b[0m\u001b[0mtime\u001b[0m \u001b[0;34m=\u001b[0m \u001b[0mraw_data\u001b[0m\u001b[0;34m\u001b[0m\u001b[0;34m\u001b[0m\u001b[0m\n\u001b[0m",
            "\u001b[0;31mValueError\u001b[0m: too many values to unpack (expected 4)"
          ]
        }
      ],
      "source": [
        "user_id,movie_id,rating,time = raw_data"
      ]
    },
    {
      "cell_type": "code",
      "execution_count": 11,
      "metadata": {
        "colab": {
          "base_uri": "https://localhost:8080/"
        },
        "id": "JT6HXk_8I4Zd",
        "outputId": "04a85419-c4d0-4864-b9ad-d3fec3616690"
      },
      "outputs": [
        {
          "data": {
            "text/plain": [
              "array([[1, 1, 1, ..., 0, 0, 0],\n",
              "       [1, 0, 0, ..., 0, 0, 0],\n",
              "       [0, 0, 0, ..., 0, 0, 0],\n",
              "       ...,\n",
              "       [1, 0, 0, ..., 0, 0, 0],\n",
              "       [0, 0, 0, ..., 0, 0, 0],\n",
              "       [0, 1, 0, ..., 0, 0, 0]])"
            ]
          },
          "execution_count": 11,
          "metadata": {},
          "output_type": "execute_result"
        }
      ],
      "source": [
        "adj_matrix=np.ndarray(shape,dtype=int)\n",
        "for user_id,movie_id,rating,time in raw_data:\n",
        "  adj_matrix[user_id][movie_id]=1.\n",
        "adj_matrix"
      ]
    },
    {
      "cell_type": "code",
      "execution_count": 12,
      "metadata": {
        "colab": {
          "base_uri": "https://localhost:8080/"
        },
        "id": "bVShJje-Jn0x",
        "outputId": "4ecf55a6-13ec-4380-9bb8-61227d5331cf"
      },
      "outputs": [
        {
          "name": "stdout",
          "output_type": "stream",
          "text": [
            "best Match: 183, Best Match ID : 275\n"
          ]
        }
      ],
      "source": [
        "my_id,my_vector=0,adj_matrix[0]\n",
        "best_match,best_match_id,best_match_vector=-1,-1,[]\n",
        "\n",
        "for user_id,user_vector in enumerate(adj_matrix):\n",
        "  if my_id !=user_id:\n",
        "    similarity=np.dot(my_vector,user_vector)\n",
        "    if similarity > best_match:\n",
        "      best_match=similarity\n",
        "      best_match_id=user_id\n",
        "      best_match_vector=user_vector\n",
        "\n",
        "  \n",
        "print('best Match: {}, Best Match ID : {}'.format(best_match,best_match_id))"
      ]
    },
    {
      "cell_type": "code",
      "execution_count": 13,
      "metadata": {
        "colab": {
          "base_uri": "https://localhost:8080/"
        },
        "id": "mRr8UnD7MB7U",
        "outputId": "840fa44f-b0f0-43ef-d858-b0ea862a905d"
      },
      "outputs": [
        {
          "name": "stdout",
          "output_type": "stream",
          "text": [
            "[272, 273, 275, 280, 281, 283, 287, 288, 289, 290, 292, 293, 297, 299, 300, 301, 302, 306, 312, 314, 315, 316, 317, 321, 322, 323, 324, 327, 330, 331, 332, 333, 339, 342, 345, 346, 353, 354, 355, 356, 357, 363, 364, 365, 366, 372, 374, 378, 379, 381, 382, 383, 384, 385, 386, 387, 390, 391, 392, 394, 395, 396, 398, 400, 401, 402, 403, 404, 405, 406, 407, 408, 409, 410, 412, 414, 416, 417, 418, 419, 420, 422, 424, 425, 426, 427, 428, 430, 431, 432, 435, 442, 446, 447, 448, 449, 450, 451, 452, 454, 455, 457, 460, 461, 462, 468, 469, 470, 471, 472, 473, 474, 478, 495, 500, 507, 517, 522, 525, 530, 539, 540, 543, 545, 546, 548, 549, 550, 551, 553, 557, 558, 560, 561, 562, 563, 565, 566, 567, 568, 570, 571, 574, 575, 576, 577, 580, 581, 582, 585, 587, 589, 590, 594, 596, 602, 623, 626, 627, 630, 633, 635, 639, 646, 648, 651, 652, 654, 657, 664, 668, 671, 677, 678, 681, 683, 684, 685, 690, 691, 692, 695, 696, 708, 709, 714, 718, 719, 720, 724, 726, 727, 731, 733, 734, 736, 738, 741, 742, 745, 746, 747, 749, 750, 754, 758, 762, 764, 767, 768, 769, 770, 771, 772, 773, 778, 779, 782, 785, 788, 789, 793, 795, 796, 799, 800, 801, 802, 805, 806, 808, 815, 819, 822, 824, 830, 839, 842, 843, 844, 852, 853, 870, 875, 878, 880, 889, 901, 914, 915, 918, 921, 927, 929, 930, 938, 940, 941, 942, 948, 950, 958, 968, 973, 974, 976, 992, 999, 1005, 1009, 1010, 1012, 1015, 1018, 1027, 1030, 1034, 1035, 1041, 1043, 1045, 1046, 1051, 1055, 1072, 1073, 1078, 1080, 1082, 1088, 1089, 1090, 1094, 1097, 1108, 1109, 1117, 1128, 1130, 1134, 1139, 1140, 1144, 1156, 1169, 1171, 1179, 1193, 1198, 1207, 1209, 1212, 1217, 1219, 1220, 1227, 1231, 1238, 1239, 1243, 1244, 1252, 1266, 1272, 1273, 1300, 1313, 1406, 1412, 1415, 1470, 1477, 1480, 1481, 1482]\n"
          ]
        }
      ],
      "source": [
        "recommend_list=[]\n",
        "for i, log in enumerate(zip(my_vector,best_match_vector)):\n",
        "  log1,log2=log\n",
        "  if log1<1. and log2 > 0.:\n",
        "    recommend_list.append(i)\n",
        "print(recommend_list)"
      ]
    },
    {
      "cell_type": "markdown",
      "metadata": {
        "id": "zR7-LITWZQnJ"
      },
      "source": [
        "* 유클리드 거리를 사용해 추천\n",
        "$$euclidean = \\sqrt{\\sum_{d=1}^{D}(A_i - B_i)^2}$$\n",
        "* 거리가 가까울 수록(값이 작을 수록) 나와 유사한 사용자"
      ]
    },
    {
      "cell_type": "code",
      "execution_count": 14,
      "metadata": {
        "colab": {
          "base_uri": "https://localhost:8080/"
        },
        "id": "WhbLJGz3NuNA",
        "outputId": "47ba1834-364e-4430-d8f0-b1bc572ad3ba"
      },
      "outputs": [
        {
          "name": "stdout",
          "output_type": "stream",
          "text": [
            "best Match: 14.832396974191326, Best Match ID : 737\n"
          ]
        }
      ],
      "source": [
        "my_id,my_vector=0,adj_matrix[0]\n",
        "best_match,best_match_id,best_match_vector=9999,-1,[]\n",
        "\n",
        "for user_id,user_vector in enumerate(adj_matrix):\n",
        "  if my_id !=user_id:\n",
        "    euclidean_dist=np.sqrt(np.sum(np.square(my_vector-user_vector)))\n",
        "    if euclidean_dist < best_match:\n",
        "      best_match=euclidean_dist\n",
        "      best_match_id=user_id\n",
        "      best_match_vector=user_vector\n",
        "\n",
        "  \n",
        "print('best Match: {}, Best Match ID : {}'.format(best_match,best_match_id))"
      ]
    },
    {
      "cell_type": "code",
      "execution_count": 15,
      "metadata": {
        "colab": {
          "base_uri": "https://localhost:8080/"
        },
        "id": "xbS037xebA76",
        "outputId": "52aa52ea-5928-4f33-e3d5-c463fefe33e4"
      },
      "outputs": [
        {
          "name": "stdout",
          "output_type": "stream",
          "text": [
            "[297, 312, 317, 342, 356, 366, 379, 384, 392, 402, 404, 407, 417, 422, 428, 433, 448, 454, 469, 473, 495, 510, 516, 526, 527, 549, 567, 602, 635, 649, 650, 654, 658, 661, 664, 696, 731, 746, 750, 754, 915, 918, 925, 929, 950, 968, 1015, 1046]\n"
          ]
        }
      ],
      "source": [
        "recommend_list=[]\n",
        "for i, log in enumerate(zip(my_vector,best_match_vector)):\n",
        "  log1,log2=log\n",
        "  if log1<1. and log2 > 0.:\n",
        "    recommend_list.append(i)\n",
        "print(recommend_list)"
      ]
    },
    {
      "cell_type": "markdown",
      "metadata": {
        "id": "52c6nfonct7x"
      },
      "source": [
        "* 코사인 유사도를 사용해 추천\n",
        "\n",
        "\\begin{equation}\n",
        "cos \\theta = \\frac{A \\cdot B}{||A|| \\times ||B||}\n",
        "\\end{equation}\n",
        "* 두 벡터가 이루고 있는 각을 계산"
      ]
    },
    {
      "cell_type": "code",
      "execution_count": 16,
      "metadata": {
        "id": "WEJMnmAYejJW"
      },
      "outputs": [],
      "source": [
        "def compute_cos_similarity(v1,v2):\n",
        "  norm1=np.sqrt(np.sum(np.square(v1)))\n",
        "  norm2=np.sqrt(np.sum(np.square(v2)))\n",
        "  dot=np.dot(v1,v2)\n",
        "  return dot/(norm1*norm2)"
      ]
    },
    {
      "cell_type": "code",
      "execution_count": 17,
      "metadata": {
        "colab": {
          "base_uri": "https://localhost:8080/"
        },
        "id": "eouFYlVZb3iT",
        "outputId": "dff5a653-564a-436b-9edd-f624dee25185"
      },
      "outputs": [
        {
          "name": "stdout",
          "output_type": "stream",
          "text": [
            "best Match: 0.5278586163659506, Best Match ID : 915\n"
          ]
        }
      ],
      "source": [
        "my_id,my_vector=0,adj_matrix[0]\n",
        "best_match,best_match_id,best_match_vector=-1,-1,[]\n",
        "\n",
        "for user_id,user_vector in enumerate(adj_matrix):\n",
        "  if my_id !=user_id:\n",
        "    cos_similarity=compute_cos_similarity(my_vector,user_vector)\n",
        "    if cos_similarity > best_match:\n",
        "      best_match=cos_similarity\n",
        "      best_match_id=user_id\n",
        "      best_match_vector=user_vector\n",
        "\n",
        "  \n",
        "print('best Match: {}, Best Match ID : {}'.format(best_match,best_match_id))"
      ]
    },
    {
      "cell_type": "markdown",
      "metadata": {
        "id": "w6wS2rW13smv"
      },
      "source": [
        "915 qjsdlqhkTwlaks sksms dksqhs dudghkemfdmf cncjsgownsek."
      ]
    },
    {
      "cell_type": "code",
      "execution_count": 18,
      "metadata": {
        "colab": {
          "base_uri": "https://localhost:8080/"
        },
        "id": "HVhjBMure_4D",
        "outputId": "27e3895a-36db-47ad-89e5-4108a88a5a79"
      },
      "outputs": [
        {
          "name": "stdout",
          "output_type": "stream",
          "text": [
            "[272, 275, 279, 280, 283, 285, 289, 294, 297, 316, 317, 355, 365, 366, 368, 379, 380, 381, 384, 386, 392, 398, 401, 404, 416, 420, 422, 424, 426, 427, 430, 432, 450, 460, 461, 466, 469, 471, 473, 474, 475, 479, 482, 483, 497, 505, 508, 510, 511, 522, 526, 527, 529, 530, 534, 536, 540, 545, 548, 549, 556, 557, 558, 560, 565, 567, 568, 569, 577, 580, 581, 582, 592, 596, 630, 635, 639, 641, 649, 651, 654, 673, 677, 678, 683, 684, 692, 696, 701, 703, 707, 708, 709, 712, 714, 719, 720, 726, 731, 734, 736, 738, 740, 745, 747, 754, 755, 761, 762, 763, 766, 780, 789, 791, 805, 819, 823, 824, 830, 843, 862, 865, 918, 929, 930, 938, 942, 943, 947, 958, 959, 960, 970, 977, 1004, 1008, 1009, 1010, 1013, 1041, 1045, 1069, 1072, 1073, 1078, 1097, 1100, 1108, 1112, 1118, 1134, 1193, 1205, 1207, 1216, 1219, 1267, 1334, 1400, 1427, 1596, 1681]\n"
          ]
        }
      ],
      "source": [
        "recommend_list=[]\n",
        "for i, log in enumerate(zip(my_vector,best_match_vector)):\n",
        "  log1,log2=log\n",
        "  if log1<1. and log2 > 0.:\n",
        "    recommend_list.append(i)\n",
        "print(recommend_list)"
      ]
    },
    {
      "cell_type": "markdown",
      "metadata": {
        "id": "0dbZPgC4gZYw"
      },
      "source": [
        "기존 방법에 명시적 피드백(사용자가 평가한 영화 점수)을 추가해 실험"
      ]
    },
    {
      "cell_type": "code",
      "execution_count": 19,
      "metadata": {
        "colab": {
          "base_uri": "https://localhost:8080/"
        },
        "id": "_5udkr1PfGAD",
        "outputId": "9c2656ce-622b-4f2f-b4c2-26b0baa093b4"
      },
      "outputs": [
        {
          "data": {
            "text/plain": [
              "array([[5, 3, 4, ..., 0, 0, 0],\n",
              "       [4, 0, 0, ..., 0, 0, 0],\n",
              "       [0, 0, 0, ..., 0, 0, 0],\n",
              "       ...,\n",
              "       [5, 0, 0, ..., 0, 0, 0],\n",
              "       [0, 0, 0, ..., 0, 0, 0],\n",
              "       [0, 5, 0, ..., 0, 0, 0]])"
            ]
          },
          "execution_count": 19,
          "metadata": {},
          "output_type": "execute_result"
        }
      ],
      "source": [
        "adj_matrix=np.ndarray(shape,dtype=int)\n",
        "for user_id,movie_id,rating,time in raw_data:\n",
        "  adj_matrix[user_id][movie_id]=rating\n",
        "adj_matrix"
      ]
    },
    {
      "cell_type": "code",
      "execution_count": 20,
      "metadata": {
        "colab": {
          "base_uri": "https://localhost:8080/"
        },
        "id": "ApfZVTtGgs41",
        "outputId": "1fab598f-3cb8-4aa4-fc02-ca0dcebe40fd"
      },
      "outputs": [
        {
          "name": "stdout",
          "output_type": "stream",
          "text": [
            "best Match: 55.06359959174482, Best Match ID : 737\n"
          ]
        }
      ],
      "source": [
        "my_id,my_vector=0,adj_matrix[0]\n",
        "best_match,best_match_id,best_match_vector=9999,-1,[]\n",
        "\n",
        "for user_id,user_vector in enumerate(adj_matrix):\n",
        "  if my_id !=user_id:\n",
        "    euclidean_dist=np.sqrt(np.sum(np.square(my_vector-user_vector)))\n",
        "    if euclidean_dist < best_match:\n",
        "      best_match=euclidean_dist\n",
        "      best_match_id=user_id\n",
        "      best_match_vector=user_vector\n",
        "\n",
        "  \n",
        "print('best Match: {}, Best Match ID : {}'.format(best_match,best_match_id))"
      ]
    },
    {
      "cell_type": "code",
      "execution_count": 21,
      "metadata": {
        "colab": {
          "base_uri": "https://localhost:8080/"
        },
        "id": "OYTI1nT0hKtz",
        "outputId": "1b021d5e-5b18-4ccf-9161-5cc92c30764d"
      },
      "outputs": [
        {
          "name": "stdout",
          "output_type": "stream",
          "text": [
            "best Match: 0.569065731527988, Best Match ID : 915\n"
          ]
        }
      ],
      "source": [
        "my_id,my_vector=0,adj_matrix[0]\n",
        "best_match,best_match_id,best_match_vector=-1,-1,[]\n",
        "\n",
        "for user_id,user_vector in enumerate(adj_matrix):\n",
        "  if my_id !=user_id:\n",
        "    cos_similarity=compute_cos_similarity(my_vector,user_vector)\n",
        "    if cos_similarity > best_match:\n",
        "      best_match=cos_similarity\n",
        "      best_match_id=user_id\n",
        "      best_match_vector=user_vector\n",
        "\n",
        "  \n",
        "print('best Match: {}, Best Match ID : {}'.format(best_match,best_match_id))"
      ]
    },
    {
      "cell_type": "markdown",
      "metadata": {
        "id": "HreRrslahd32"
      },
      "source": [
        "## 협업 필터링(Collaborative Filtering)\n",
        "\n",
        "* 사용자와 항목의 유사성을 동시에 고려해 추천\n",
        "* 기존에 내 관심사가 아닌 항목이라도 추천 가능\n",
        "* 자동으로 임베딩 학습 가능\n",
        "* 협업 필터링은 다음과 같은 장단점을 갖고 있다.\n",
        "  * 장점\n",
        "    * 자동으로 임베딩을 학습하기 때문에 도메인 지식이 필요 없다.\n",
        "    * 기존의 관심사가 아니더라도 추천 가능\n",
        "  * 단점\n",
        "    * 학습 과정에 나오지 않은 항목은 임베딩을 만들 수 없음\n",
        "    * 추가 특성을 사용하기 어려움"
      ]
    },
    {
      "cell_type": "code",
      "execution_count": 22,
      "metadata": {
        "id": "BSj5Ex6yhPxq"
      },
      "outputs": [],
      "source": [
        "from surprise import KNNBasic, SVD, SVDpp,NMF\n",
        "from surprise import Dataset#\n",
        "from surprise.model_selection import cross_validate"
      ]
    },
    {
      "cell_type": "code",
      "execution_count": 23,
      "metadata": {
        "id": "mWAiO62WkH2U"
      },
      "outputs": [],
      "source": [
        "data=Dataset.load_builtin('ml-100k',prompt=False)"
      ]
    },
    {
      "cell_type": "markdown",
      "metadata": {
        "id": "LKP-UxZkkc8n"
      },
      "source": [
        "* KNN을 사용한 협업 필터링"
      ]
    },
    {
      "cell_type": "code",
      "execution_count": 24,
      "metadata": {
        "colab": {
          "base_uri": "https://localhost:8080/"
        },
        "id": "x9LlEDqvkayg",
        "outputId": "3e23b3e5-38b5-4476-914c-4161b913c795"
      },
      "outputs": [
        {
          "name": "stdout",
          "output_type": "stream",
          "text": [
            "Computing the msd similarity matrix...\n",
            "Done computing similarity matrix.\n",
            "Computing the msd similarity matrix...\n",
            "Done computing similarity matrix.\n",
            "Computing the msd similarity matrix...\n",
            "Done computing similarity matrix.\n",
            "Computing the msd similarity matrix...\n",
            "Done computing similarity matrix.\n",
            "Computing the msd similarity matrix...\n",
            "Done computing similarity matrix.\n",
            "Evaluating RMSE, MAE of algorithm KNNBasic on 5 split(s).\n",
            "\n",
            "                  Fold 1  Fold 2  Fold 3  Fold 4  Fold 5  Mean    Std     \n",
            "RMSE (testset)    0.9822  0.9897  0.9691  0.9783  0.9720  0.9783  0.0073  \n",
            "MAE (testset)     0.7741  0.7818  0.7671  0.7725  0.7680  0.7727  0.0053  \n",
            "Fit time          0.13    0.13    0.14    0.14    0.16    0.14    0.01    \n",
            "Test time         1.77    1.84    1.83    1.77    1.72    1.79    0.04    \n"
          ]
        },
        {
          "data": {
            "text/plain": [
              "{'test_rmse': array([0.98222211, 0.98972405, 0.96913931, 0.97833766, 0.97201354]),\n",
              " 'test_mae': array([0.77413565, 0.78180296, 0.76708171, 0.77247445, 0.76800712]),\n",
              " 'fit_time': (0.13117051124572754,\n",
              "  0.13125371932983398,\n",
              "  0.13594269752502441,\n",
              "  0.13716983795166016,\n",
              "  0.157395601272583),\n",
              " 'test_time': (1.770310878753662,\n",
              "  1.840428352355957,\n",
              "  1.832695484161377,\n",
              "  1.7656188011169434,\n",
              "  1.7222816944122314)}"
            ]
          },
          "execution_count": 24,
          "metadata": {},
          "output_type": "execute_result"
        }
      ],
      "source": [
        "model=KNNBasic()\n",
        "cross_validate(model,data,measures=['rmse','mae'],cv=5,n_jobs=4,verbose=True)"
      ]
    },
    {
      "cell_type": "markdown",
      "metadata": {
        "id": "QFEFPuSflHew"
      },
      "source": [
        "* SVD를 사용한 협업 필터링"
      ]
    },
    {
      "cell_type": "code",
      "execution_count": 25,
      "metadata": {
        "colab": {
          "base_uri": "https://localhost:8080/"
        },
        "id": "H6HJ5bKOlHIb",
        "outputId": "0926d765-8193-4b71-d957-37918cd6518c"
      },
      "outputs": [
        {
          "name": "stdout",
          "output_type": "stream",
          "text": [
            "Evaluating RMSE, MAE of algorithm SVD on 5 split(s).\n",
            "\n",
            "                  Fold 1  Fold 2  Fold 3  Fold 4  Fold 5  Mean    Std     \n",
            "RMSE (testset)    0.9412  0.9326  0.9311  0.9412  0.9340  0.9360  0.0043  \n",
            "MAE (testset)     0.7410  0.7339  0.7342  0.7414  0.7384  0.7378  0.0032  \n",
            "Fit time          2.52    2.51    2.54    2.54    2.76    2.57    0.09    \n",
            "Test time         0.11    0.11    0.10    0.11    0.10    0.11    0.00    \n"
          ]
        },
        {
          "data": {
            "text/plain": [
              "{'test_rmse': array([0.9412454 , 0.93262269, 0.93106339, 0.94122044, 0.93404252]),\n",
              " 'test_mae': array([0.74099816, 0.73392108, 0.73419173, 0.74138633, 0.7383776 ]),\n",
              " 'fit_time': (2.51523494720459,\n",
              "  2.5069546699523926,\n",
              "  2.5386664867401123,\n",
              "  2.5374951362609863,\n",
              "  2.757296323776245),\n",
              " 'test_time': (0.10702681541442871,\n",
              "  0.10738635063171387,\n",
              "  0.10348081588745117,\n",
              "  0.10901355743408203,\n",
              "  0.10022354125976562)}"
            ]
          },
          "execution_count": 25,
          "metadata": {},
          "output_type": "execute_result"
        }
      ],
      "source": [
        "model=SVD()\n",
        "cross_validate(model,data,measures=['rmse','mae'],cv=5,n_jobs=4,verbose=True)"
      ]
    },
    {
      "cell_type": "markdown",
      "metadata": {
        "id": "MqK8Xgeglkmj"
      },
      "source": [
        "* NMF를 사용한 협업 필터링"
      ]
    },
    {
      "cell_type": "code",
      "execution_count": 26,
      "metadata": {
        "colab": {
          "base_uri": "https://localhost:8080/"
        },
        "id": "zSwGKHEDkyue",
        "outputId": "1c5842df-dca6-4ab0-b082-7fa5e581d3d4"
      },
      "outputs": [
        {
          "name": "stdout",
          "output_type": "stream",
          "text": [
            "Evaluating RMSE, MAE of algorithm NMF on 5 split(s).\n",
            "\n",
            "                  Fold 1  Fold 2  Fold 3  Fold 4  Fold 5  Mean    Std     \n",
            "RMSE (testset)    0.9576  0.9556  0.9667  0.9643  0.9605  0.9610  0.0041  \n",
            "MAE (testset)     0.7510  0.7527  0.7609  0.7593  0.7541  0.7556  0.0038  \n",
            "Fit time          2.43    2.49    2.51    2.45    2.45    2.47    0.03    \n",
            "Test time         0.09    0.09    0.09    0.09    0.09    0.09    0.00    \n"
          ]
        },
        {
          "data": {
            "text/plain": [
              "{'test_rmse': array([0.95764165, 0.95560365, 0.96670845, 0.96434177, 0.96051125]),\n",
              " 'test_mae': array([0.75098091, 0.75272954, 0.76094644, 0.75925439, 0.75405927]),\n",
              " 'fit_time': (2.4335782527923584,\n",
              "  2.4916529655456543,\n",
              "  2.511504650115967,\n",
              "  2.450873613357544,\n",
              "  2.4474399089813232),\n",
              " 'test_time': (0.09008288383483887,\n",
              "  0.09021210670471191,\n",
              "  0.08599328994750977,\n",
              "  0.08683514595031738,\n",
              "  0.08668899536132812)}"
            ]
          },
          "execution_count": 26,
          "metadata": {},
          "output_type": "execute_result"
        }
      ],
      "source": [
        "model=NMF()\n",
        "cross_validate(model,data,measures=['rmse','mae'],cv=5,n_jobs=4,verbose=True)"
      ]
    },
    {
      "cell_type": "markdown",
      "metadata": {
        "id": "odXxXkX0mi_7"
      },
      "source": [
        "* SVD++를 사용한 협업 필터링"
      ]
    },
    {
      "cell_type": "code",
      "execution_count": 27,
      "metadata": {
        "colab": {
          "base_uri": "https://localhost:8080/"
        },
        "id": "Ck153w1Tlsxa",
        "outputId": "9a714e2b-3208-4ac3-e15e-ab5148cf5c41"
      },
      "outputs": [
        {
          "name": "stdout",
          "output_type": "stream",
          "text": [
            "Evaluating RMSE, MAE of algorithm SVDpp on 5 split(s).\n",
            "\n",
            "                  Fold 1  Fold 2  Fold 3  Fold 4  Fold 5  Mean    Std     \n",
            "RMSE (testset)    0.9178  0.9266  0.9218  0.9153  0.9215  0.9206  0.0039  \n",
            "MAE (testset)     0.7182  0.7289  0.7214  0.7191  0.7246  0.7225  0.0039  \n",
            "Fit time          103.56  103.05  102.79  102.12  102.10  102.72  0.56    \n",
            "Test time         1.92    1.82    1.81    1.82    1.81    1.84    0.04    \n"
          ]
        },
        {
          "data": {
            "text/plain": [
              "{'test_rmse': array([0.91775758, 0.92663867, 0.92175379, 0.91530555, 0.92152871]),\n",
              " 'test_mae': array([0.71823459, 0.72894813, 0.72140623, 0.71911526, 0.7246224 ]),\n",
              " 'fit_time': (103.55862498283386,\n",
              "  103.05499076843262,\n",
              "  102.78749251365662,\n",
              "  102.12325286865234,\n",
              "  102.09960842132568),\n",
              " 'test_time': (1.9170722961425781,\n",
              "  1.8241431713104248,\n",
              "  1.8094685077667236,\n",
              "  1.8181326389312744,\n",
              "  1.8115644454956055)}"
            ]
          },
          "execution_count": 27,
          "metadata": {},
          "output_type": "execute_result"
        }
      ],
      "source": [
        "model=SVDpp()\n",
        "cross_validate(model,data,measures=['rmse','mae'],cv=5,n_jobs=4,verbose=True)"
      ]
    },
    {
      "cell_type": "markdown",
      "metadata": {
        "id": "hMNwOXpjqeWq"
      },
      "source": [
        "## 하이브리드(Hybrid)\n",
        "\n",
        "* 컨텐츠 기반 필터링과 협업 필터링을 조합한 방식\n",
        "* 많은 하이브리드 방식이 존재\n",
        "* 실습에서는 협업 필터링으로 임베딩을 학습하고 컨텐츠 기반 필터링으로 유사도 기반 추천을 수행하는 추천 엔진 개발"
      ]
    },
    {
      "cell_type": "code",
      "execution_count": 28,
      "metadata": {
        "id": "9mDHmnwFmzwd"
      },
      "outputs": [],
      "source": [
        "import numpy as np\n",
        "from sklearn.decomposition import randomized_svd,non_negative_factorization\n",
        "from surprise import Dataset"
      ]
    },
    {
      "cell_type": "code",
      "execution_count": 29,
      "metadata": {
        "id": "MtEuyQGGMmor"
      },
      "outputs": [],
      "source": [
        "data=Dataset.load_builtin('ml-100k',prompt=False)\n",
        "raw_data=np.array(data.raw_ratings,dtype=int)\n",
        "raw_data[:,0]-=1\n",
        "raw_data[:,1]-=1"
      ]
    },
    {
      "cell_type": "code",
      "execution_count": 30,
      "metadata": {
        "colab": {
          "base_uri": "https://localhost:8080/"
        },
        "id": "esDSrjm_NshD",
        "outputId": "c4396e3a-1c40-4044-8eff-c1f316e5cd25"
      },
      "outputs": [
        {
          "data": {
            "text/plain": [
              "(943, 1682)"
            ]
          },
          "execution_count": 30,
          "metadata": {},
          "output_type": "execute_result"
        }
      ],
      "source": [
        "n_users=np.max(raw_data[:,0])\n",
        "n_movies=np.max(raw_data[:,1])\n",
        "shape=(n_users+1,n_movies+1)\n",
        "shape"
      ]
    },
    {
      "cell_type": "code",
      "execution_count": 31,
      "metadata": {},
      "outputs": [
        {
          "data": {
            "text/plain": [
              "942"
            ]
          },
          "execution_count": 31,
          "metadata": {},
          "output_type": "execute_result"
        }
      ],
      "source": [
        "n_users"
      ]
    },
    {
      "cell_type": "code",
      "execution_count": 70,
      "metadata": {
        "colab": {
          "base_uri": "https://localhost:8080/"
        },
        "id": "bZnx294OTntk",
        "outputId": "f0811e93-fe73-4170-e756-acd2b41e54aa"
      },
      "outputs": [
        {
          "data": {
            "text/plain": [
              "array([[5, 3, 4, ..., 0, 0, 0],\n",
              "       [4, 0, 0, ..., 0, 0, 0],\n",
              "       [0, 0, 0, ..., 0, 0, 0],\n",
              "       ...,\n",
              "       [5, 0, 0, ..., 0, 0, 0],\n",
              "       [0, 0, 0, ..., 0, 0, 0],\n",
              "       [0, 5, 0, ..., 0, 0, 0]])"
            ]
          },
          "execution_count": 70,
          "metadata": {},
          "output_type": "execute_result"
        }
      ],
      "source": [
        "adj_matrix=np.ndarray(shape,dtype=int)\n",
        "for user_id,movie_id,rating,time in raw_data:\n",
        "  adj_matrix[user_id][movie_id]=rating\n",
        "adj_matrix"
      ]
    },
    {
      "cell_type": "code",
      "execution_count": 33,
      "metadata": {},
      "outputs": [],
      "source": [
        "import pandas as pd"
      ]
    },
    {
      "cell_type": "code",
      "execution_count": 34,
      "metadata": {},
      "outputs": [
        {
          "data": {
            "text/html": [
              "<div>\n",
              "<style scoped>\n",
              "    .dataframe tbody tr th:only-of-type {\n",
              "        vertical-align: middle;\n",
              "    }\n",
              "\n",
              "    .dataframe tbody tr th {\n",
              "        vertical-align: top;\n",
              "    }\n",
              "\n",
              "    .dataframe thead th {\n",
              "        text-align: right;\n",
              "    }\n",
              "</style>\n",
              "<table border=\"1\" class=\"dataframe\">\n",
              "  <thead>\n",
              "    <tr style=\"text-align: right;\">\n",
              "      <th></th>\n",
              "      <th>0</th>\n",
              "      <th>1</th>\n",
              "      <th>2</th>\n",
              "      <th>3</th>\n",
              "      <th>4</th>\n",
              "      <th>5</th>\n",
              "      <th>6</th>\n",
              "      <th>7</th>\n",
              "      <th>8</th>\n",
              "      <th>9</th>\n",
              "      <th>...</th>\n",
              "      <th>1672</th>\n",
              "      <th>1673</th>\n",
              "      <th>1674</th>\n",
              "      <th>1675</th>\n",
              "      <th>1676</th>\n",
              "      <th>1677</th>\n",
              "      <th>1678</th>\n",
              "      <th>1679</th>\n",
              "      <th>1680</th>\n",
              "      <th>1681</th>\n",
              "    </tr>\n",
              "  </thead>\n",
              "  <tbody>\n",
              "    <tr>\n",
              "      <th>0</th>\n",
              "      <td>5</td>\n",
              "      <td>3</td>\n",
              "      <td>4</td>\n",
              "      <td>3</td>\n",
              "      <td>3</td>\n",
              "      <td>5</td>\n",
              "      <td>4</td>\n",
              "      <td>1</td>\n",
              "      <td>5</td>\n",
              "      <td>3</td>\n",
              "      <td>...</td>\n",
              "      <td>0</td>\n",
              "      <td>0</td>\n",
              "      <td>0</td>\n",
              "      <td>0</td>\n",
              "      <td>0</td>\n",
              "      <td>0</td>\n",
              "      <td>0</td>\n",
              "      <td>0</td>\n",
              "      <td>0</td>\n",
              "      <td>0</td>\n",
              "    </tr>\n",
              "    <tr>\n",
              "      <th>1</th>\n",
              "      <td>4</td>\n",
              "      <td>0</td>\n",
              "      <td>0</td>\n",
              "      <td>0</td>\n",
              "      <td>0</td>\n",
              "      <td>0</td>\n",
              "      <td>0</td>\n",
              "      <td>0</td>\n",
              "      <td>0</td>\n",
              "      <td>2</td>\n",
              "      <td>...</td>\n",
              "      <td>0</td>\n",
              "      <td>0</td>\n",
              "      <td>0</td>\n",
              "      <td>0</td>\n",
              "      <td>0</td>\n",
              "      <td>0</td>\n",
              "      <td>0</td>\n",
              "      <td>0</td>\n",
              "      <td>0</td>\n",
              "      <td>0</td>\n",
              "    </tr>\n",
              "    <tr>\n",
              "      <th>2</th>\n",
              "      <td>0</td>\n",
              "      <td>0</td>\n",
              "      <td>0</td>\n",
              "      <td>0</td>\n",
              "      <td>0</td>\n",
              "      <td>0</td>\n",
              "      <td>0</td>\n",
              "      <td>0</td>\n",
              "      <td>0</td>\n",
              "      <td>0</td>\n",
              "      <td>...</td>\n",
              "      <td>0</td>\n",
              "      <td>0</td>\n",
              "      <td>0</td>\n",
              "      <td>0</td>\n",
              "      <td>0</td>\n",
              "      <td>0</td>\n",
              "      <td>0</td>\n",
              "      <td>0</td>\n",
              "      <td>0</td>\n",
              "      <td>0</td>\n",
              "    </tr>\n",
              "    <tr>\n",
              "      <th>3</th>\n",
              "      <td>0</td>\n",
              "      <td>0</td>\n",
              "      <td>0</td>\n",
              "      <td>0</td>\n",
              "      <td>0</td>\n",
              "      <td>0</td>\n",
              "      <td>0</td>\n",
              "      <td>0</td>\n",
              "      <td>0</td>\n",
              "      <td>0</td>\n",
              "      <td>...</td>\n",
              "      <td>0</td>\n",
              "      <td>0</td>\n",
              "      <td>0</td>\n",
              "      <td>0</td>\n",
              "      <td>0</td>\n",
              "      <td>0</td>\n",
              "      <td>0</td>\n",
              "      <td>0</td>\n",
              "      <td>0</td>\n",
              "      <td>0</td>\n",
              "    </tr>\n",
              "    <tr>\n",
              "      <th>4</th>\n",
              "      <td>4</td>\n",
              "      <td>3</td>\n",
              "      <td>0</td>\n",
              "      <td>0</td>\n",
              "      <td>0</td>\n",
              "      <td>0</td>\n",
              "      <td>0</td>\n",
              "      <td>0</td>\n",
              "      <td>0</td>\n",
              "      <td>0</td>\n",
              "      <td>...</td>\n",
              "      <td>0</td>\n",
              "      <td>0</td>\n",
              "      <td>0</td>\n",
              "      <td>0</td>\n",
              "      <td>0</td>\n",
              "      <td>0</td>\n",
              "      <td>0</td>\n",
              "      <td>0</td>\n",
              "      <td>0</td>\n",
              "      <td>0</td>\n",
              "    </tr>\n",
              "    <tr>\n",
              "      <th>...</th>\n",
              "      <td>...</td>\n",
              "      <td>...</td>\n",
              "      <td>...</td>\n",
              "      <td>...</td>\n",
              "      <td>...</td>\n",
              "      <td>...</td>\n",
              "      <td>...</td>\n",
              "      <td>...</td>\n",
              "      <td>...</td>\n",
              "      <td>...</td>\n",
              "      <td>...</td>\n",
              "      <td>...</td>\n",
              "      <td>...</td>\n",
              "      <td>...</td>\n",
              "      <td>...</td>\n",
              "      <td>...</td>\n",
              "      <td>...</td>\n",
              "      <td>...</td>\n",
              "      <td>...</td>\n",
              "      <td>...</td>\n",
              "      <td>...</td>\n",
              "    </tr>\n",
              "    <tr>\n",
              "      <th>938</th>\n",
              "      <td>0</td>\n",
              "      <td>0</td>\n",
              "      <td>0</td>\n",
              "      <td>0</td>\n",
              "      <td>0</td>\n",
              "      <td>0</td>\n",
              "      <td>0</td>\n",
              "      <td>0</td>\n",
              "      <td>5</td>\n",
              "      <td>0</td>\n",
              "      <td>...</td>\n",
              "      <td>0</td>\n",
              "      <td>0</td>\n",
              "      <td>0</td>\n",
              "      <td>0</td>\n",
              "      <td>0</td>\n",
              "      <td>0</td>\n",
              "      <td>0</td>\n",
              "      <td>0</td>\n",
              "      <td>0</td>\n",
              "      <td>0</td>\n",
              "    </tr>\n",
              "    <tr>\n",
              "      <th>939</th>\n",
              "      <td>0</td>\n",
              "      <td>0</td>\n",
              "      <td>0</td>\n",
              "      <td>2</td>\n",
              "      <td>0</td>\n",
              "      <td>0</td>\n",
              "      <td>4</td>\n",
              "      <td>5</td>\n",
              "      <td>3</td>\n",
              "      <td>0</td>\n",
              "      <td>...</td>\n",
              "      <td>0</td>\n",
              "      <td>0</td>\n",
              "      <td>0</td>\n",
              "      <td>0</td>\n",
              "      <td>0</td>\n",
              "      <td>0</td>\n",
              "      <td>0</td>\n",
              "      <td>0</td>\n",
              "      <td>0</td>\n",
              "      <td>0</td>\n",
              "    </tr>\n",
              "    <tr>\n",
              "      <th>940</th>\n",
              "      <td>5</td>\n",
              "      <td>0</td>\n",
              "      <td>0</td>\n",
              "      <td>0</td>\n",
              "      <td>0</td>\n",
              "      <td>0</td>\n",
              "      <td>4</td>\n",
              "      <td>0</td>\n",
              "      <td>0</td>\n",
              "      <td>0</td>\n",
              "      <td>...</td>\n",
              "      <td>0</td>\n",
              "      <td>0</td>\n",
              "      <td>0</td>\n",
              "      <td>0</td>\n",
              "      <td>0</td>\n",
              "      <td>0</td>\n",
              "      <td>0</td>\n",
              "      <td>0</td>\n",
              "      <td>0</td>\n",
              "      <td>0</td>\n",
              "    </tr>\n",
              "    <tr>\n",
              "      <th>941</th>\n",
              "      <td>0</td>\n",
              "      <td>0</td>\n",
              "      <td>0</td>\n",
              "      <td>0</td>\n",
              "      <td>0</td>\n",
              "      <td>0</td>\n",
              "      <td>0</td>\n",
              "      <td>0</td>\n",
              "      <td>0</td>\n",
              "      <td>0</td>\n",
              "      <td>...</td>\n",
              "      <td>0</td>\n",
              "      <td>0</td>\n",
              "      <td>0</td>\n",
              "      <td>0</td>\n",
              "      <td>0</td>\n",
              "      <td>0</td>\n",
              "      <td>0</td>\n",
              "      <td>0</td>\n",
              "      <td>0</td>\n",
              "      <td>0</td>\n",
              "    </tr>\n",
              "    <tr>\n",
              "      <th>942</th>\n",
              "      <td>0</td>\n",
              "      <td>5</td>\n",
              "      <td>0</td>\n",
              "      <td>0</td>\n",
              "      <td>0</td>\n",
              "      <td>0</td>\n",
              "      <td>0</td>\n",
              "      <td>0</td>\n",
              "      <td>3</td>\n",
              "      <td>0</td>\n",
              "      <td>...</td>\n",
              "      <td>0</td>\n",
              "      <td>0</td>\n",
              "      <td>0</td>\n",
              "      <td>0</td>\n",
              "      <td>0</td>\n",
              "      <td>0</td>\n",
              "      <td>0</td>\n",
              "      <td>0</td>\n",
              "      <td>0</td>\n",
              "      <td>0</td>\n",
              "    </tr>\n",
              "  </tbody>\n",
              "</table>\n",
              "<p>943 rows × 1682 columns</p>\n",
              "</div>"
            ],
            "text/plain": [
              "     0     1     2     3     4     5     6     7     8     9     ...  1672  \\\n",
              "0       5     3     4     3     3     5     4     1     5     3  ...     0   \n",
              "1       4     0     0     0     0     0     0     0     0     2  ...     0   \n",
              "2       0     0     0     0     0     0     0     0     0     0  ...     0   \n",
              "3       0     0     0     0     0     0     0     0     0     0  ...     0   \n",
              "4       4     3     0     0     0     0     0     0     0     0  ...     0   \n",
              "..    ...   ...   ...   ...   ...   ...   ...   ...   ...   ...  ...   ...   \n",
              "938     0     0     0     0     0     0     0     0     5     0  ...     0   \n",
              "939     0     0     0     2     0     0     4     5     3     0  ...     0   \n",
              "940     5     0     0     0     0     0     4     0     0     0  ...     0   \n",
              "941     0     0     0     0     0     0     0     0     0     0  ...     0   \n",
              "942     0     5     0     0     0     0     0     0     3     0  ...     0   \n",
              "\n",
              "     1673  1674  1675  1676  1677  1678  1679  1680  1681  \n",
              "0       0     0     0     0     0     0     0     0     0  \n",
              "1       0     0     0     0     0     0     0     0     0  \n",
              "2       0     0     0     0     0     0     0     0     0  \n",
              "3       0     0     0     0     0     0     0     0     0  \n",
              "4       0     0     0     0     0     0     0     0     0  \n",
              "..    ...   ...   ...   ...   ...   ...   ...   ...   ...  \n",
              "938     0     0     0     0     0     0     0     0     0  \n",
              "939     0     0     0     0     0     0     0     0     0  \n",
              "940     0     0     0     0     0     0     0     0     0  \n",
              "941     0     0     0     0     0     0     0     0     0  \n",
              "942     0     0     0     0     0     0     0     0     0  \n",
              "\n",
              "[943 rows x 1682 columns]"
            ]
          },
          "execution_count": 34,
          "metadata": {},
          "output_type": "execute_result"
        }
      ],
      "source": [
        "df_adj_matrix=pd.DataFrame(adj_matrix)\n",
        "df_adj_matrix"
      ]
    },
    {
      "cell_type": "markdown",
      "metadata": {
        "id": "kGme6O4v88vg"
      },
      "source": [
        "U =user, V= item ,S= tri value vector"
      ]
    },
    {
      "cell_type": "code",
      "execution_count": 36,
      "metadata": {
        "colab": {
          "base_uri": "https://localhost:8080/"
        },
        "id": "mpw7bmE-SVon",
        "outputId": "b294e943-1845-47fe-d786-766d65d071ba"
      },
      "outputs": [
        {
          "name": "stderr",
          "output_type": "stream",
          "text": [
            "/home/kangjunekoo/anaconda3/envs/pytorch/lib/python3.7/site-packages/sklearn/utils/extmath.py:376: FutureWarning: If 'random_state' is not supplied, the current default is to use 0 as a fixed seed. This will change to  None in version 1.2 leading to non-deterministic results that better reflect nature of the randomized_svd solver. If you want to silence this warning, set 'random_state' to an integer seed or to None explicitly depending if you want your code to be deterministic or not.\n",
            "  FutureWarning,\n"
          ]
        }
      ],
      "source": [
        "U,S,V=randomized_svd(adj_matrix,n_components=2)\n",
        "S=np.diag(S)"
      ]
    },
    {
      "cell_type": "code",
      "execution_count": 39,
      "metadata": {},
      "outputs": [
        {
          "data": {
            "text/html": [
              "<div>\n",
              "<style scoped>\n",
              "    .dataframe tbody tr th:only-of-type {\n",
              "        vertical-align: middle;\n",
              "    }\n",
              "\n",
              "    .dataframe tbody tr th {\n",
              "        vertical-align: top;\n",
              "    }\n",
              "\n",
              "    .dataframe thead th {\n",
              "        text-align: right;\n",
              "    }\n",
              "</style>\n",
              "<table border=\"1\" class=\"dataframe\">\n",
              "  <thead>\n",
              "    <tr style=\"text-align: right;\">\n",
              "      <th></th>\n",
              "      <th>0</th>\n",
              "      <th>1</th>\n",
              "    </tr>\n",
              "  </thead>\n",
              "  <tbody>\n",
              "    <tr>\n",
              "      <th>0</th>\n",
              "      <td>0.065804</td>\n",
              "      <td>0.005975</td>\n",
              "    </tr>\n",
              "    <tr>\n",
              "      <th>1</th>\n",
              "      <td>0.014021</td>\n",
              "      <td>-0.046626</td>\n",
              "    </tr>\n",
              "    <tr>\n",
              "      <th>2</th>\n",
              "      <td>0.005658</td>\n",
              "      <td>-0.025618</td>\n",
              "    </tr>\n",
              "    <tr>\n",
              "      <th>3</th>\n",
              "      <td>0.005993</td>\n",
              "      <td>-0.020698</td>\n",
              "    </tr>\n",
              "    <tr>\n",
              "      <th>4</th>\n",
              "      <td>0.032747</td>\n",
              "      <td>0.009159</td>\n",
              "    </tr>\n",
              "    <tr>\n",
              "      <th>...</th>\n",
              "      <td>...</td>\n",
              "      <td>...</td>\n",
              "    </tr>\n",
              "    <tr>\n",
              "      <th>938</th>\n",
              "      <td>0.011282</td>\n",
              "      <td>-0.041178</td>\n",
              "    </tr>\n",
              "    <tr>\n",
              "      <th>939</th>\n",
              "      <td>0.030006</td>\n",
              "      <td>-0.008428</td>\n",
              "    </tr>\n",
              "    <tr>\n",
              "      <th>940</th>\n",
              "      <td>0.007445</td>\n",
              "      <td>-0.025021</td>\n",
              "    </tr>\n",
              "    <tr>\n",
              "      <th>941</th>\n",
              "      <td>0.024031</td>\n",
              "      <td>0.008096</td>\n",
              "    </tr>\n",
              "    <tr>\n",
              "      <th>942</th>\n",
              "      <td>0.042242</td>\n",
              "      <td>-0.010927</td>\n",
              "    </tr>\n",
              "  </tbody>\n",
              "</table>\n",
              "<p>943 rows × 2 columns</p>\n",
              "</div>"
            ],
            "text/plain": [
              "            0         1\n",
              "0    0.065804  0.005975\n",
              "1    0.014021 -0.046626\n",
              "2    0.005658 -0.025618\n",
              "3    0.005993 -0.020698\n",
              "4    0.032747  0.009159\n",
              "..        ...       ...\n",
              "938  0.011282 -0.041178\n",
              "939  0.030006 -0.008428\n",
              "940  0.007445 -0.025021\n",
              "941  0.024031  0.008096\n",
              "942  0.042242 -0.010927\n",
              "\n",
              "[943 rows x 2 columns]"
            ]
          },
          "execution_count": 39,
          "metadata": {},
          "output_type": "execute_result"
        }
      ],
      "source": [
        "df_U=pd.DataFrame(U)\n",
        "df_U"
      ]
    },
    {
      "cell_type": "code",
      "execution_count": 41,
      "metadata": {},
      "outputs": [
        {
          "data": {
            "text/html": [
              "<div>\n",
              "<style scoped>\n",
              "    .dataframe tbody tr th:only-of-type {\n",
              "        vertical-align: middle;\n",
              "    }\n",
              "\n",
              "    .dataframe tbody tr th {\n",
              "        vertical-align: top;\n",
              "    }\n",
              "\n",
              "    .dataframe thead th {\n",
              "        text-align: right;\n",
              "    }\n",
              "</style>\n",
              "<table border=\"1\" class=\"dataframe\">\n",
              "  <thead>\n",
              "    <tr style=\"text-align: right;\">\n",
              "      <th></th>\n",
              "      <th>0</th>\n",
              "      <th>1</th>\n",
              "    </tr>\n",
              "  </thead>\n",
              "  <tbody>\n",
              "    <tr>\n",
              "      <th>0</th>\n",
              "      <td>640.633623</td>\n",
              "      <td>0.000000</td>\n",
              "    </tr>\n",
              "    <tr>\n",
              "      <th>1</th>\n",
              "      <td>0.000000</td>\n",
              "      <td>244.836346</td>\n",
              "    </tr>\n",
              "  </tbody>\n",
              "</table>\n",
              "</div>"
            ],
            "text/plain": [
              "            0           1\n",
              "0  640.633623    0.000000\n",
              "1    0.000000  244.836346"
            ]
          },
          "execution_count": 41,
          "metadata": {},
          "output_type": "execute_result"
        }
      ],
      "source": [
        "df_S=pd.DataFrame(S)\n",
        "df_S"
      ]
    },
    {
      "cell_type": "code",
      "execution_count": 40,
      "metadata": {},
      "outputs": [
        {
          "data": {
            "text/html": [
              "<div>\n",
              "<style scoped>\n",
              "    .dataframe tbody tr th:only-of-type {\n",
              "        vertical-align: middle;\n",
              "    }\n",
              "\n",
              "    .dataframe tbody tr th {\n",
              "        vertical-align: top;\n",
              "    }\n",
              "\n",
              "    .dataframe thead th {\n",
              "        text-align: right;\n",
              "    }\n",
              "</style>\n",
              "<table border=\"1\" class=\"dataframe\">\n",
              "  <thead>\n",
              "    <tr style=\"text-align: right;\">\n",
              "      <th></th>\n",
              "      <th>0</th>\n",
              "      <th>1</th>\n",
              "      <th>2</th>\n",
              "      <th>3</th>\n",
              "      <th>4</th>\n",
              "      <th>5</th>\n",
              "      <th>6</th>\n",
              "      <th>7</th>\n",
              "      <th>8</th>\n",
              "      <th>9</th>\n",
              "      <th>...</th>\n",
              "      <th>1672</th>\n",
              "      <th>1673</th>\n",
              "      <th>1674</th>\n",
              "      <th>1675</th>\n",
              "      <th>1676</th>\n",
              "      <th>1677</th>\n",
              "      <th>1678</th>\n",
              "      <th>1679</th>\n",
              "      <th>1680</th>\n",
              "      <th>1681</th>\n",
              "    </tr>\n",
              "  </thead>\n",
              "  <tbody>\n",
              "    <tr>\n",
              "      <th>0</th>\n",
              "      <td>0.095951</td>\n",
              "      <td>0.035180</td>\n",
              "      <td>0.019929</td>\n",
              "      <td>0.059952</td>\n",
              "      <td>0.021607</td>\n",
              "      <td>0.005367</td>\n",
              "      <td>0.085673</td>\n",
              "      <td>0.063814</td>\n",
              "      <td>0.065295</td>\n",
              "      <td>0.022075</td>\n",
              "      <td>...</td>\n",
              "      <td>0.000150</td>\n",
              "      <td>0.000358</td>\n",
              "      <td>0.000176</td>\n",
              "      <td>0.000117</td>\n",
              "      <td>0.000220</td>\n",
              "      <td>0.000015</td>\n",
              "      <td>0.000046</td>\n",
              "      <td>0.000030</td>\n",
              "      <td>0.000331</td>\n",
              "      <td>0.000317</td>\n",
              "    </tr>\n",
              "    <tr>\n",
              "      <th>1</th>\n",
              "      <td>-0.087240</td>\n",
              "      <td>-0.007025</td>\n",
              "      <td>-0.028618</td>\n",
              "      <td>0.013050</td>\n",
              "      <td>-0.015311</td>\n",
              "      <td>0.002251</td>\n",
              "      <td>-0.079269</td>\n",
              "      <td>0.027715</td>\n",
              "      <td>-0.042917</td>\n",
              "      <td>0.007884</td>\n",
              "      <td>...</td>\n",
              "      <td>0.000292</td>\n",
              "      <td>0.001386</td>\n",
              "      <td>-0.000770</td>\n",
              "      <td>-0.000513</td>\n",
              "      <td>-0.000215</td>\n",
              "      <td>-0.000224</td>\n",
              "      <td>-0.000672</td>\n",
              "      <td>-0.000448</td>\n",
              "      <td>0.000105</td>\n",
              "      <td>0.000203</td>\n",
              "    </tr>\n",
              "  </tbody>\n",
              "</table>\n",
              "<p>2 rows × 1682 columns</p>\n",
              "</div>"
            ],
            "text/plain": [
              "       0         1         2         3         4         5         6     \\\n",
              "0  0.095951  0.035180  0.019929  0.059952  0.021607  0.005367  0.085673   \n",
              "1 -0.087240 -0.007025 -0.028618  0.013050 -0.015311  0.002251 -0.079269   \n",
              "\n",
              "       7         8         9     ...      1672      1673      1674      1675  \\\n",
              "0  0.063814  0.065295  0.022075  ...  0.000150  0.000358  0.000176  0.000117   \n",
              "1  0.027715 -0.042917  0.007884  ...  0.000292  0.001386 -0.000770 -0.000513   \n",
              "\n",
              "       1676      1677      1678      1679      1680      1681  \n",
              "0  0.000220  0.000015  0.000046  0.000030  0.000331  0.000317  \n",
              "1 -0.000215 -0.000224 -0.000672 -0.000448  0.000105  0.000203  \n",
              "\n",
              "[2 rows x 1682 columns]"
            ]
          },
          "execution_count": 40,
          "metadata": {},
          "output_type": "execute_result"
        }
      ],
      "source": [
        "df_V=pd.DataFrame(V)\n",
        "df_V"
      ]
    },
    {
      "cell_type": "code",
      "execution_count": 72,
      "metadata": {
        "colab": {
          "base_uri": "https://localhost:8080/"
        },
        "id": "sdnXxd6lODFy",
        "outputId": "b89677d9-88e6-4351-f72d-48b0a76c0f8d"
      },
      "outputs": [
        {
          "name": "stdout",
          "output_type": "stream",
          "text": [
            "(943, 2)\n",
            "(2, 2)\n",
            "(2, 1682)\n"
          ]
        }
      ],
      "source": [
        "print(U.shape)\n",
        "print(S.shape)\n",
        "print(V.shape)"
      ]
    },
    {
      "cell_type": "code",
      "execution_count": 43,
      "metadata": {
        "colab": {
          "base_uri": "https://localhost:8080/"
        },
        "id": "zBvnhmuhOxDx",
        "outputId": "10b1ea99-c71e-4181-9f3f-3e5a8b6f7855"
      },
      "outputs": [
        {
          "data": {
            "text/html": [
              "<div>\n",
              "<style scoped>\n",
              "    .dataframe tbody tr th:only-of-type {\n",
              "        vertical-align: middle;\n",
              "    }\n",
              "\n",
              "    .dataframe tbody tr th {\n",
              "        vertical-align: top;\n",
              "    }\n",
              "\n",
              "    .dataframe thead th {\n",
              "        text-align: right;\n",
              "    }\n",
              "</style>\n",
              "<table border=\"1\" class=\"dataframe\">\n",
              "  <thead>\n",
              "    <tr style=\"text-align: right;\">\n",
              "      <th></th>\n",
              "      <th>0</th>\n",
              "      <th>1</th>\n",
              "      <th>2</th>\n",
              "      <th>3</th>\n",
              "      <th>4</th>\n",
              "      <th>5</th>\n",
              "      <th>6</th>\n",
              "      <th>7</th>\n",
              "      <th>8</th>\n",
              "      <th>9</th>\n",
              "      <th>...</th>\n",
              "      <th>1672</th>\n",
              "      <th>1673</th>\n",
              "      <th>1674</th>\n",
              "      <th>1675</th>\n",
              "      <th>1676</th>\n",
              "      <th>1677</th>\n",
              "      <th>1678</th>\n",
              "      <th>1679</th>\n",
              "      <th>1680</th>\n",
              "      <th>1681</th>\n",
              "    </tr>\n",
              "  </thead>\n",
              "  <tbody>\n",
              "    <tr>\n",
              "      <th>0</th>\n",
              "      <td>3.917327</td>\n",
              "      <td>1.472766</td>\n",
              "      <td>0.798262</td>\n",
              "      <td>2.546465</td>\n",
              "      <td>0.888481</td>\n",
              "      <td>0.229530</td>\n",
              "      <td>3.495722</td>\n",
              "      <td>2.730697</td>\n",
              "      <td>2.689811</td>\n",
              "      <td>0.942156</td>\n",
              "      <td>...</td>\n",
              "      <td>0.006770</td>\n",
              "      <td>0.017122</td>\n",
              "      <td>0.006273</td>\n",
              "      <td>0.004182</td>\n",
              "      <td>0.008968</td>\n",
              "      <td>0.000312</td>\n",
              "      <td>0.000937</td>\n",
              "      <td>0.000625</td>\n",
              "      <td>0.014110</td>\n",
              "      <td>0.013655</td>\n",
              "    </tr>\n",
              "    <tr>\n",
              "      <th>1</th>\n",
              "      <td>1.857772</td>\n",
              "      <td>0.396191</td>\n",
              "      <td>0.505706</td>\n",
              "      <td>0.389534</td>\n",
              "      <td>0.368863</td>\n",
              "      <td>0.022513</td>\n",
              "      <td>1.674457</td>\n",
              "      <td>0.256811</td>\n",
              "      <td>1.076432</td>\n",
              "      <td>0.108290</td>\n",
              "      <td>...</td>\n",
              "      <td>-0.001976</td>\n",
              "      <td>-0.012612</td>\n",
              "      <td>0.010362</td>\n",
              "      <td>0.006908</td>\n",
              "      <td>0.004432</td>\n",
              "      <td>0.002694</td>\n",
              "      <td>0.008083</td>\n",
              "      <td>0.005389</td>\n",
              "      <td>0.001772</td>\n",
              "      <td>0.000527</td>\n",
              "    </tr>\n",
              "    <tr>\n",
              "      <th>2</th>\n",
              "      <td>0.894990</td>\n",
              "      <td>0.171578</td>\n",
              "      <td>0.251739</td>\n",
              "      <td>0.135453</td>\n",
              "      <td>0.174352</td>\n",
              "      <td>0.005336</td>\n",
              "      <td>0.807738</td>\n",
              "      <td>0.057469</td>\n",
              "      <td>0.505864</td>\n",
              "      <td>0.030567</td>\n",
              "      <td>...</td>\n",
              "      <td>-0.001283</td>\n",
              "      <td>-0.007399</td>\n",
              "      <td>0.005463</td>\n",
              "      <td>0.003642</td>\n",
              "      <td>0.002146</td>\n",
              "      <td>0.001460</td>\n",
              "      <td>0.004381</td>\n",
              "      <td>0.002921</td>\n",
              "      <td>0.000540</td>\n",
              "      <td>-0.000126</td>\n",
              "    </tr>\n",
              "    <tr>\n",
              "      <th>3</th>\n",
              "      <td>0.810501</td>\n",
              "      <td>0.170669</td>\n",
              "      <td>0.221544</td>\n",
              "      <td>0.164044</td>\n",
              "      <td>0.160548</td>\n",
              "      <td>0.009199</td>\n",
              "      <td>0.730645</td>\n",
              "      <td>0.104553</td>\n",
              "      <td>0.468185</td>\n",
              "      <td>0.044803</td>\n",
              "      <td>...</td>\n",
              "      <td>-0.000900</td>\n",
              "      <td>-0.005652</td>\n",
              "      <td>0.004574</td>\n",
              "      <td>0.003049</td>\n",
              "      <td>0.001935</td>\n",
              "      <td>0.001194</td>\n",
              "      <td>0.003581</td>\n",
              "      <td>0.002388</td>\n",
              "      <td>0.000738</td>\n",
              "      <td>0.000187</td>\n",
              "    </tr>\n",
              "    <tr>\n",
              "      <th>4</th>\n",
              "      <td>1.817325</td>\n",
              "      <td>0.722279</td>\n",
              "      <td>0.353912</td>\n",
              "      <td>1.287004</td>\n",
              "      <td>0.418963</td>\n",
              "      <td>0.117633</td>\n",
              "      <td>1.619587</td>\n",
              "      <td>1.400895</td>\n",
              "      <td>1.273581</td>\n",
              "      <td>0.480801</td>\n",
              "      <td>...</td>\n",
              "      <td>0.003811</td>\n",
              "      <td>0.010620</td>\n",
              "      <td>0.001956</td>\n",
              "      <td>0.001304</td>\n",
              "      <td>0.004137</td>\n",
              "      <td>-0.000184</td>\n",
              "      <td>-0.000552</td>\n",
              "      <td>-0.000368</td>\n",
              "      <td>0.007181</td>\n",
              "      <td>0.007103</td>\n",
              "    </tr>\n",
              "    <tr>\n",
              "      <th>...</th>\n",
              "      <td>...</td>\n",
              "      <td>...</td>\n",
              "      <td>...</td>\n",
              "      <td>...</td>\n",
              "      <td>...</td>\n",
              "      <td>...</td>\n",
              "      <td>...</td>\n",
              "      <td>...</td>\n",
              "      <td>...</td>\n",
              "      <td>...</td>\n",
              "      <td>...</td>\n",
              "      <td>...</td>\n",
              "      <td>...</td>\n",
              "      <td>...</td>\n",
              "      <td>...</td>\n",
              "      <td>...</td>\n",
              "      <td>...</td>\n",
              "      <td>...</td>\n",
              "      <td>...</td>\n",
              "      <td>...</td>\n",
              "      <td>...</td>\n",
              "    </tr>\n",
              "    <tr>\n",
              "      <th>938</th>\n",
              "      <td>1.573066</td>\n",
              "      <td>0.325097</td>\n",
              "      <td>0.432570</td>\n",
              "      <td>0.301751</td>\n",
              "      <td>0.310532</td>\n",
              "      <td>0.016099</td>\n",
              "      <td>1.418415</td>\n",
              "      <td>0.181812</td>\n",
              "      <td>0.904629</td>\n",
              "      <td>0.080072</td>\n",
              "      <td>...</td>\n",
              "      <td>-0.001852</td>\n",
              "      <td>-0.011391</td>\n",
              "      <td>0.009028</td>\n",
              "      <td>0.006018</td>\n",
              "      <td>0.003759</td>\n",
              "      <td>0.002369</td>\n",
              "      <td>0.007106</td>\n",
              "      <td>0.004738</td>\n",
              "      <td>0.001332</td>\n",
              "      <td>0.000242</td>\n",
              "    </tr>\n",
              "    <tr>\n",
              "      <th>939</th>\n",
              "      <td>2.024478</td>\n",
              "      <td>0.690753</td>\n",
              "      <td>0.442143</td>\n",
              "      <td>1.125537</td>\n",
              "      <td>0.446946</td>\n",
              "      <td>0.098519</td>\n",
              "      <td>1.810464</td>\n",
              "      <td>1.169505</td>\n",
              "      <td>1.343719</td>\n",
              "      <td>0.408090</td>\n",
              "      <td>...</td>\n",
              "      <td>0.002291</td>\n",
              "      <td>0.004022</td>\n",
              "      <td>0.004962</td>\n",
              "      <td>0.003308</td>\n",
              "      <td>0.004676</td>\n",
              "      <td>0.000754</td>\n",
              "      <td>0.002263</td>\n",
              "      <td>0.001509</td>\n",
              "      <td>0.006147</td>\n",
              "      <td>0.005672</td>\n",
              "    </tr>\n",
              "    <tr>\n",
              "      <th>940</th>\n",
              "      <td>0.992052</td>\n",
              "      <td>0.210815</td>\n",
              "      <td>0.270363</td>\n",
              "      <td>0.205977</td>\n",
              "      <td>0.196843</td>\n",
              "      <td>0.011807</td>\n",
              "      <td>0.894203</td>\n",
              "      <td>0.134556</td>\n",
              "      <td>0.574321</td>\n",
              "      <td>0.056985</td>\n",
              "      <td>...</td>\n",
              "      <td>-0.001068</td>\n",
              "      <td>-0.006786</td>\n",
              "      <td>0.005552</td>\n",
              "      <td>0.003701</td>\n",
              "      <td>0.002367</td>\n",
              "      <td>0.001445</td>\n",
              "      <td>0.004335</td>\n",
              "      <td>0.002890</td>\n",
              "      <td>0.000934</td>\n",
              "      <td>0.000267</td>\n",
              "    </tr>\n",
              "    <tr>\n",
              "      <th>941</th>\n",
              "      <td>1.304254</td>\n",
              "      <td>0.527670</td>\n",
              "      <td>0.250080</td>\n",
              "      <td>0.948844</td>\n",
              "      <td>0.302297</td>\n",
              "      <td>0.087081</td>\n",
              "      <td>1.161830</td>\n",
              "      <td>1.037358</td>\n",
              "      <td>0.920154</td>\n",
              "      <td>0.355483</td>\n",
              "      <td>...</td>\n",
              "      <td>0.002894</td>\n",
              "      <td>0.008260</td>\n",
              "      <td>0.001176</td>\n",
              "      <td>0.000784</td>\n",
              "      <td>0.002964</td>\n",
              "      <td>-0.000210</td>\n",
              "      <td>-0.000631</td>\n",
              "      <td>-0.000421</td>\n",
              "      <td>0.005305</td>\n",
              "      <td>0.005281</td>\n",
              "    </tr>\n",
              "    <tr>\n",
              "      <th>942</th>\n",
              "      <td>2.829994</td>\n",
              "      <td>0.970812</td>\n",
              "      <td>0.615872</td>\n",
              "      <td>1.587496</td>\n",
              "      <td>0.625686</td>\n",
              "      <td>0.139209</td>\n",
              "      <td>2.530539</td>\n",
              "      <td>1.652756</td>\n",
              "      <td>1.881807</td>\n",
              "      <td>0.576307</td>\n",
              "      <td>...</td>\n",
              "      <td>0.003292</td>\n",
              "      <td>0.005980</td>\n",
              "      <td>0.006808</td>\n",
              "      <td>0.004539</td>\n",
              "      <td>0.006534</td>\n",
              "      <td>0.001010</td>\n",
              "      <td>0.003031</td>\n",
              "      <td>0.002021</td>\n",
              "      <td>0.008677</td>\n",
              "      <td>0.008031</td>\n",
              "    </tr>\n",
              "  </tbody>\n",
              "</table>\n",
              "<p>943 rows × 1682 columns</p>\n",
              "</div>"
            ],
            "text/plain": [
              "         0         1         2         3         4         5         6     \\\n",
              "0    3.917327  1.472766  0.798262  2.546465  0.888481  0.229530  3.495722   \n",
              "1    1.857772  0.396191  0.505706  0.389534  0.368863  0.022513  1.674457   \n",
              "2    0.894990  0.171578  0.251739  0.135453  0.174352  0.005336  0.807738   \n",
              "3    0.810501  0.170669  0.221544  0.164044  0.160548  0.009199  0.730645   \n",
              "4    1.817325  0.722279  0.353912  1.287004  0.418963  0.117633  1.619587   \n",
              "..        ...       ...       ...       ...       ...       ...       ...   \n",
              "938  1.573066  0.325097  0.432570  0.301751  0.310532  0.016099  1.418415   \n",
              "939  2.024478  0.690753  0.442143  1.125537  0.446946  0.098519  1.810464   \n",
              "940  0.992052  0.210815  0.270363  0.205977  0.196843  0.011807  0.894203   \n",
              "941  1.304254  0.527670  0.250080  0.948844  0.302297  0.087081  1.161830   \n",
              "942  2.829994  0.970812  0.615872  1.587496  0.625686  0.139209  2.530539   \n",
              "\n",
              "         7         8         9     ...      1672      1673      1674  \\\n",
              "0    2.730697  2.689811  0.942156  ...  0.006770  0.017122  0.006273   \n",
              "1    0.256811  1.076432  0.108290  ... -0.001976 -0.012612  0.010362   \n",
              "2    0.057469  0.505864  0.030567  ... -0.001283 -0.007399  0.005463   \n",
              "3    0.104553  0.468185  0.044803  ... -0.000900 -0.005652  0.004574   \n",
              "4    1.400895  1.273581  0.480801  ...  0.003811  0.010620  0.001956   \n",
              "..        ...       ...       ...  ...       ...       ...       ...   \n",
              "938  0.181812  0.904629  0.080072  ... -0.001852 -0.011391  0.009028   \n",
              "939  1.169505  1.343719  0.408090  ...  0.002291  0.004022  0.004962   \n",
              "940  0.134556  0.574321  0.056985  ... -0.001068 -0.006786  0.005552   \n",
              "941  1.037358  0.920154  0.355483  ...  0.002894  0.008260  0.001176   \n",
              "942  1.652756  1.881807  0.576307  ...  0.003292  0.005980  0.006808   \n",
              "\n",
              "         1675      1676      1677      1678      1679      1680      1681  \n",
              "0    0.004182  0.008968  0.000312  0.000937  0.000625  0.014110  0.013655  \n",
              "1    0.006908  0.004432  0.002694  0.008083  0.005389  0.001772  0.000527  \n",
              "2    0.003642  0.002146  0.001460  0.004381  0.002921  0.000540 -0.000126  \n",
              "3    0.003049  0.001935  0.001194  0.003581  0.002388  0.000738  0.000187  \n",
              "4    0.001304  0.004137 -0.000184 -0.000552 -0.000368  0.007181  0.007103  \n",
              "..        ...       ...       ...       ...       ...       ...       ...  \n",
              "938  0.006018  0.003759  0.002369  0.007106  0.004738  0.001332  0.000242  \n",
              "939  0.003308  0.004676  0.000754  0.002263  0.001509  0.006147  0.005672  \n",
              "940  0.003701  0.002367  0.001445  0.004335  0.002890  0.000934  0.000267  \n",
              "941  0.000784  0.002964 -0.000210 -0.000631 -0.000421  0.005305  0.005281  \n",
              "942  0.004539  0.006534  0.001010  0.003031  0.002021  0.008677  0.008031  \n",
              "\n",
              "[943 rows x 1682 columns]"
            ]
          },
          "execution_count": 43,
          "metadata": {},
          "output_type": "execute_result"
        }
      ],
      "source": [
        "df_USV=np.matmul(np.matmul(U,S),V)\n",
        "df_USV=pd.DataFrame(df_USV)\n",
        "df_USV"
      ]
    },
    {
      "cell_type": "code",
      "execution_count": 45,
      "metadata": {},
      "outputs": [
        {
          "data": {
            "text/html": [
              "<div>\n",
              "<style scoped>\n",
              "    .dataframe tbody tr th:only-of-type {\n",
              "        vertical-align: middle;\n",
              "    }\n",
              "\n",
              "    .dataframe tbody tr th {\n",
              "        vertical-align: top;\n",
              "    }\n",
              "\n",
              "    .dataframe thead th {\n",
              "        text-align: right;\n",
              "    }\n",
              "</style>\n",
              "<table border=\"1\" class=\"dataframe\">\n",
              "  <thead>\n",
              "    <tr style=\"text-align: right;\">\n",
              "      <th></th>\n",
              "      <th>0</th>\n",
              "      <th>1</th>\n",
              "    </tr>\n",
              "  </thead>\n",
              "  <tbody>\n",
              "    <tr>\n",
              "      <th>0</th>\n",
              "      <td>0.065804</td>\n",
              "      <td>0.005975</td>\n",
              "    </tr>\n",
              "    <tr>\n",
              "      <th>1</th>\n",
              "      <td>0.014021</td>\n",
              "      <td>-0.046626</td>\n",
              "    </tr>\n",
              "    <tr>\n",
              "      <th>2</th>\n",
              "      <td>0.005658</td>\n",
              "      <td>-0.025618</td>\n",
              "    </tr>\n",
              "    <tr>\n",
              "      <th>3</th>\n",
              "      <td>0.005993</td>\n",
              "      <td>-0.020698</td>\n",
              "    </tr>\n",
              "    <tr>\n",
              "      <th>4</th>\n",
              "      <td>0.032747</td>\n",
              "      <td>0.009159</td>\n",
              "    </tr>\n",
              "    <tr>\n",
              "      <th>...</th>\n",
              "      <td>...</td>\n",
              "      <td>...</td>\n",
              "    </tr>\n",
              "    <tr>\n",
              "      <th>938</th>\n",
              "      <td>0.011282</td>\n",
              "      <td>-0.041178</td>\n",
              "    </tr>\n",
              "    <tr>\n",
              "      <th>939</th>\n",
              "      <td>0.030006</td>\n",
              "      <td>-0.008428</td>\n",
              "    </tr>\n",
              "    <tr>\n",
              "      <th>940</th>\n",
              "      <td>0.007445</td>\n",
              "      <td>-0.025021</td>\n",
              "    </tr>\n",
              "    <tr>\n",
              "      <th>941</th>\n",
              "      <td>0.024031</td>\n",
              "      <td>0.008096</td>\n",
              "    </tr>\n",
              "    <tr>\n",
              "      <th>942</th>\n",
              "      <td>0.042242</td>\n",
              "      <td>-0.010927</td>\n",
              "    </tr>\n",
              "  </tbody>\n",
              "</table>\n",
              "<p>943 rows × 2 columns</p>\n",
              "</div>"
            ],
            "text/plain": [
              "            0         1\n",
              "0    0.065804  0.005975\n",
              "1    0.014021 -0.046626\n",
              "2    0.005658 -0.025618\n",
              "3    0.005993 -0.020698\n",
              "4    0.032747  0.009159\n",
              "..        ...       ...\n",
              "938  0.011282 -0.041178\n",
              "939  0.030006 -0.008428\n",
              "940  0.007445 -0.025021\n",
              "941  0.024031  0.008096\n",
              "942  0.042242 -0.010927\n",
              "\n",
              "[943 rows x 2 columns]"
            ]
          },
          "execution_count": 45,
          "metadata": {},
          "output_type": "execute_result"
        }
      ],
      "source": [
        "df_U=pd.DataFrame(U)\n",
        "df_U"
      ]
    },
    {
      "cell_type": "code",
      "execution_count": 46,
      "metadata": {},
      "outputs": [
        {
          "data": {
            "text/plain": [
              "array([0.06580431, 0.00597507])"
            ]
          },
          "execution_count": 46,
          "metadata": {},
          "output_type": "execute_result"
        }
      ],
      "source": [
        "U[0]"
      ]
    },
    {
      "cell_type": "markdown",
      "metadata": {
        "id": "3pSBMfF7d74E"
      },
      "source": [
        "* 사용자 기반 추천\n",
        "* 나와 비슷한 취향을 가진 다른 사용자의 행동을 추천\n",
        "* 사용자 특징 벡터의 유사도 사용"
      ]
    },
    {
      "cell_type": "code",
      "execution_count": 44,
      "metadata": {
        "colab": {
          "base_uri": "https://localhost:8080/"
        },
        "id": "N6nYexy6cq9V",
        "outputId": "235be995-c017-4da0-df9a-4596fea3f6df"
      },
      "outputs": [
        {
          "name": "stdout",
          "output_type": "stream",
          "text": [
            "best Match: 0.9999942295956324, Best Match ID : 235\n"
          ]
        }
      ],
      "source": [
        "my_id,my_vector=0,U[0]\n",
        "best_match,best_match_id,best_match_vector=-1,-1,[]\n",
        "\n",
        "for user_id,user_vector in enumerate(U):\n",
        "  if my_id !=user_id:\n",
        "    cos_similarity=compute_cos_similarity(my_vector,user_vector)\n",
        "    if cos_similarity > best_match:\n",
        "      best_match=cos_similarity\n",
        "      best_match_id=user_id\n",
        "      best_match_vector=user_vector\n",
        "\n",
        "  \n",
        "print('best Match: {}, Best Match ID : {}'.format(best_match,best_match_id))"
      ]
    },
    {
      "cell_type": "code",
      "execution_count": 48,
      "metadata": {},
      "outputs": [
        {
          "data": {
            "text/plain": [
              "array([5, 3, 4, ..., 0, 0, 0])"
            ]
          },
          "execution_count": 48,
          "metadata": {},
          "output_type": "execute_result"
        }
      ],
      "source": [
        "adj_matrix[my_id]"
      ]
    },
    {
      "cell_type": "code",
      "execution_count": 49,
      "metadata": {},
      "outputs": [
        {
          "data": {
            "text/plain": [
              "array([0, 0, 0, ..., 0, 0, 0])"
            ]
          },
          "execution_count": 49,
          "metadata": {},
          "output_type": "execute_result"
        }
      ],
      "source": [
        "adj_matrix[best_match_id]"
      ]
    },
    {
      "cell_type": "markdown",
      "metadata": {},
      "source": [
        "we can append both of the movie that I havn't seen and the movie that is similar"
      ]
    },
    {
      "cell_type": "code",
      "execution_count": 75,
      "metadata": {
        "colab": {
          "base_uri": "https://localhost:8080/"
        },
        "id": "wdISUAEIfoHi",
        "outputId": "614ffeee-25a7-4166-edda-8927fa957752"
      },
      "outputs": [
        {
          "name": "stdout",
          "output_type": "stream",
          "text": [
            "[272, 273, 274, 281, 285, 288, 293, 297, 303, 306, 312, 317, 327, 332, 369, 410, 418, 419, 422, 426, 428, 431, 434, 442, 461, 475, 477, 482, 495, 503, 504, 505, 506, 509, 519, 520, 522, 525, 531, 545, 548, 590, 594, 595, 613, 631, 654, 658, 660, 672, 684, 685, 691, 695, 698, 704, 716, 728, 734, 749, 755, 863, 865, 933, 1012, 1038, 1101, 1327, 1400]\n"
          ]
        }
      ],
      "source": [
        "recommend_list=[]\n",
        "for i, log in enumerate(zip(adj_matrix[my_id],adj_matrix[best_match_id])):\n",
        "  log1,log2=log\n",
        "  if log1<1. and log2 > 0.:\n",
        "    recommend_list.append(i)\n",
        "print(recommend_list)"
      ]
    },
    {
      "cell_type": "code",
      "execution_count": 50,
      "metadata": {},
      "outputs": [
        {
          "data": {
            "text/plain": [
              "(0, 1)"
            ]
          },
          "execution_count": 50,
          "metadata": {},
          "output_type": "execute_result"
        }
      ],
      "source": [
        "log"
      ]
    },
    {
      "cell_type": "code",
      "execution_count": 51,
      "metadata": {},
      "outputs": [
        {
          "data": {
            "text/plain": [
              "1681"
            ]
          },
          "execution_count": 51,
          "metadata": {},
          "output_type": "execute_result"
        }
      ],
      "source": [
        "i"
      ]
    },
    {
      "cell_type": "markdown",
      "metadata": {
        "id": "0nSD2izbhJix"
      },
      "source": [
        "* 항목 기반 추천\n",
        "* 내가 본 항목과 비슷한 항목을 추천\n",
        "* 항목 특징 벡터의 유사도 사용"
      ]
    },
    {
      "cell_type": "code",
      "execution_count": 76,
      "metadata": {
        "colab": {
          "base_uri": "https://localhost:8080/"
        },
        "id": "vCLxtkLdgM-s",
        "outputId": "3c8646d0-5eb2-46ad-c7ed-d9eb42993175"
      },
      "outputs": [
        {
          "name": "stdout",
          "output_type": "stream",
          "text": [
            "best Match: 0.9999999951364144, Best Match ID : 1287\n"
          ]
        }
      ],
      "source": [
        "my_id,my_vector=0,V.T[0]\n",
        "best_match,best_match_id,best_match_vector=-1,-1,[]\n",
        "\n",
        "for user_id,user_vector in enumerate(V.T):\n",
        "  if my_id !=user_id:\n",
        "    cos_similarity=compute_cos_similarity(my_vector,user_vector)\n",
        "    if cos_similarity > best_match:\n",
        "      best_match=cos_similarity\n",
        "      best_match_id=user_id\n",
        "      best_match_vector=user_vector\n",
        "\n",
        "  \n",
        "print('best Match: {}, Best Match ID : {}'.format(best_match,best_match_id))"
      ]
    },
    {
      "cell_type": "code",
      "execution_count": 77,
      "metadata": {
        "colab": {
          "base_uri": "https://localhost:8080/"
        },
        "id": "IZ49Abk7iBeU",
        "outputId": "a0f6428a-9b43-4db4-b6b5-efdbdbc5ea91"
      },
      "outputs": [
        {
          "name": "stdout",
          "output_type": "stream",
          "text": [
            "[0, 1, 4, 5, 9, 12, 14, 15, 16, 17, 19, 20, 22, 24, 25, 37, 40, 41, 42, 43, 44, 48, 53, 55, 56, 57, 58, 61, 62, 63, 64, 65, 66, 69, 71, 72, 74, 76, 78, 80, 81, 82, 83, 88, 91, 92, 93, 94, 95, 96, 98, 100, 101, 105, 107, 108, 116, 119, 120, 123, 124, 127, 129, 130, 133, 136, 137, 140, 143, 144, 147, 149, 150, 156, 157, 159, 161, 167, 173, 176, 177, 180, 181, 183, 188, 192, 193, 197, 198, 199, 200, 201, 202, 203, 208, 209, 212, 215, 221, 222, 229, 230, 231, 233, 234, 241, 242, 243, 245, 246, 247, 248, 249, 250, 251, 252, 253, 255, 261, 262, 264, 267, 270, 273, 274, 275, 276, 278, 279, 285, 286, 288, 289, 290, 291, 292, 293, 294, 295, 296, 297, 298, 300, 302, 304, 306, 307, 310, 311, 312, 313, 319, 321, 323, 324, 325, 326, 329, 330, 331, 335, 337, 338, 339, 342, 343, 344, 346, 347, 349, 356, 358, 359, 362, 364, 370, 373, 377, 378, 379, 380, 386, 387, 388, 389, 392, 393, 394, 395, 397, 398, 400, 401, 402, 405, 406, 410, 411, 415, 416, 418, 421, 423, 424, 428, 431, 433, 434, 437, 440, 444, 446, 449, 453, 454, 455, 456, 457, 458, 459, 462, 464, 466, 467, 469, 470, 471, 477, 478, 482, 483, 485, 486, 487, 489, 492, 493, 494, 496, 499, 502, 504, 507, 511, 513, 516, 517, 520, 522, 524, 525, 531, 532, 533, 534, 535, 536, 539, 540, 541, 544, 547, 548, 549, 551, 552, 553, 559, 560, 561, 566, 568, 575, 576, 578, 579, 581, 587, 591, 592, 596, 598, 601, 604, 605, 608, 609, 611, 612, 613, 617, 619, 620, 621, 623, 629, 631, 633, 634, 635, 636, 641, 642, 647, 648, 649, 652, 653, 654, 656, 657, 659, 660, 662, 663, 664, 668, 673, 675, 676, 677, 678, 679, 681, 683, 688, 689, 690, 691, 696, 697, 698, 700, 702, 704, 705, 707, 708, 709, 713, 714, 715, 720, 722, 725, 726, 729, 730, 732, 734, 737, 741, 743, 744, 745, 746, 747, 748, 750, 755, 756, 758, 760, 762, 763, 766, 767, 768, 769, 770, 772, 776, 778, 784, 785, 787, 788, 789, 791, 792, 793, 794, 795, 797, 799, 803, 804, 805, 806, 814, 816, 820, 821, 822, 825, 828, 829, 830, 834, 837, 838, 842, 846, 851, 853, 863, 864, 866, 867, 869, 871, 878, 879, 880, 881, 882, 884, 885, 886, 888, 889, 891, 892, 893, 894, 895, 896, 898, 900, 901, 902, 906, 909, 912, 915, 916, 917, 918, 920, 921, 922, 923, 926, 928, 929, 931, 932, 933, 934, 935, 937, 940]\n"
          ]
        }
      ],
      "source": [
        "recommend_list=[]\n",
        "for i, log in enumerate(adj_matrix):\n",
        "  if adj_matrix[i][my_id]>0.9:\n",
        "    recommend_list.append(i)\n",
        "print(recommend_list)"
      ]
    },
    {
      "cell_type": "markdown",
      "metadata": {
        "id": "7uAlUROxj2nA"
      },
      "source": [
        "* 비음수 행렬 분해를 사용한 하이브리드 추천"
      ]
    },
    {
      "cell_type": "code",
      "execution_count": 78,
      "metadata": {
        "colab": {
          "base_uri": "https://localhost:8080/"
        },
        "id": "Ou2UGuXMTY39",
        "outputId": "fa91b0bd-04d9-4e56-d49b-1f757d13489e"
      },
      "outputs": [
        {
          "data": {
            "text/plain": [
              "array([[5, 3, 4, ..., 0, 0, 0],\n",
              "       [4, 0, 0, ..., 0, 0, 0],\n",
              "       [0, 0, 0, ..., 0, 0, 0],\n",
              "       ...,\n",
              "       [5, 0, 0, ..., 0, 0, 0],\n",
              "       [0, 0, 0, ..., 0, 0, 0],\n",
              "       [0, 5, 0, ..., 0, 0, 0]])"
            ]
          },
          "execution_count": 78,
          "metadata": {},
          "output_type": "execute_result"
        }
      ],
      "source": [
        "adj_matrix"
      ]
    },
    {
      "cell_type": "code",
      "execution_count": 79,
      "metadata": {
        "colab": {
          "base_uri": "https://localhost:8080/"
        },
        "id": "yThSdQxDjnsk",
        "outputId": "9694b78f-f152-485b-c2ad-20d2b17199bf"
      },
      "outputs": [
        {
          "name": "stderr",
          "output_type": "stream",
          "text": [
            "/usr/local/lib/python3.7/dist-packages/sklearn/decomposition/_nmf.py:294: FutureWarning: The 'init' value, when 'init=None' and n_components is less than n_samples and n_features, will be changed from 'nndsvd' to 'nndsvda' in 1.1 (renaming of 0.26).\n",
            "  FutureWarning,\n"
          ]
        }
      ],
      "source": [
        "A,B,iter=non_negative_factorization(adj_matrix,n_components=2)"
      ]
    },
    {
      "cell_type": "code",
      "execution_count": 80,
      "metadata": {
        "colab": {
          "base_uri": "https://localhost:8080/"
        },
        "id": "hqtcd6HmkOsA",
        "outputId": "9474a2bf-883a-4274-ae11-7cfa56b53840"
      },
      "outputs": [
        {
          "data": {
            "text/plain": [
              "array([[3.71108858e+00, 1.48454102e+00, 7.39535363e-01, ...,\n",
              "        3.64490531e-03, 1.45506510e-02, 1.44110916e-02],\n",
              "       [2.11724416e+00, 2.37338725e-01, 5.51650703e-01, ...,\n",
              "        4.76092332e-03, 3.03585167e-05, 0.00000000e+00],\n",
              "       [9.85272360e-01, 1.10447010e-01, 2.56713988e-01, ...,\n",
              "        2.21552443e-03, 1.41275192e-05, 0.00000000e+00],\n",
              "       ...,\n",
              "       [1.04485667e+00, 1.17126289e-01, 2.72238757e-01, ...,\n",
              "        2.34950819e-03, 1.49818804e-05, 0.00000000e+00],\n",
              "       [1.45758857e+00, 5.42112787e-01, 2.99181695e-01, ...,\n",
              "        1.61177659e-03, 5.15921394e-03, 5.10771005e-03],\n",
              "       [2.44733103e+00, 9.41208708e-01, 4.95740038e-01, ...,\n",
              "        2.56992125e-03, 9.08287324e-03, 8.99389282e-03]])"
            ]
          },
          "execution_count": 80,
          "metadata": {},
          "output_type": "execute_result"
        }
      ],
      "source": [
        "np.matmul(A,B)"
      ]
    },
    {
      "cell_type": "markdown",
      "metadata": {
        "id": "6DGX9EtEop4i"
      },
      "source": [
        "* 사용자 기반 추천"
      ]
    },
    {
      "cell_type": "code",
      "execution_count": 81,
      "metadata": {
        "colab": {
          "base_uri": "https://localhost:8080/"
        },
        "id": "dndXY3Gvm7zs",
        "outputId": "f43593e6-a9d3-4423-ad69-ac25e98c775c"
      },
      "outputs": [
        {
          "name": "stdout",
          "output_type": "stream",
          "text": [
            "best Match: 0.9999942295956324, Best Match ID : 235\n"
          ]
        }
      ],
      "source": [
        "my_id,my_vector=0,U[0] #suppose that My ID is the 0\n",
        "best_match,best_match_id,best_match_vector=-1,-1,[]\n",
        "\n",
        "for user_id,user_vector in enumerate(U):\n",
        "  if my_id !=user_id:\n",
        "    cos_similarity=compute_cos_similarity(my_vector,user_vector)\n",
        "    if cos_similarity > best_match:\n",
        "      best_match=cos_similarity\n",
        "      best_match_id=user_id\n",
        "      best_match_vector=user_vector\n",
        "\n",
        "  \n",
        "print('best Match: {}, Best Match ID : {}'.format(best_match,best_match_id))"
      ]
    },
    {
      "cell_type": "code",
      "execution_count": 82,
      "metadata": {
        "colab": {
          "base_uri": "https://localhost:8080/"
        },
        "id": "njszNHE_m9MK",
        "outputId": "09bb5bdb-2be3-44eb-c710-859ea1d74a5d"
      },
      "outputs": [
        {
          "name": "stdout",
          "output_type": "stream",
          "text": [
            "[272, 273, 274, 281, 285, 288, 293, 297, 303, 306, 312, 317, 327, 332, 369, 410, 418, 419, 422, 426, 428, 431, 434, 442, 461, 475, 477, 482, 495, 503, 504, 505, 506, 509, 519, 520, 522, 525, 531, 545, 548, 590, 594, 595, 613, 631, 654, 658, 660, 672, 684, 685, 691, 695, 698, 704, 716, 728, 734, 749, 755, 863, 865, 933, 1012, 1038, 1101, 1327, 1400]\n"
          ]
        }
      ],
      "source": [
        "recommend_list = []\n",
        "for i, log in enumerate(zip(adj_matrix[my_id], adj_matrix[best_match_id])):\n",
        "  log1, log2 = log\n",
        "  if log1 < 1. and log2 > 0.:\n",
        "    recommend_list.append(i)\n",
        "print(recommend_list)"
      ]
    },
    {
      "cell_type": "markdown",
      "metadata": {
        "id": "F21eqO8dosUE"
      },
      "source": [
        "* 항목 기반 추천"
      ]
    },
    {
      "cell_type": "code",
      "execution_count": 83,
      "metadata": {
        "colab": {
          "base_uri": "https://localhost:8080/"
        },
        "id": "G8RZo0Mvom4X",
        "outputId": "ffa789e9-b551-40f5-a1ed-7351525f118e"
      },
      "outputs": [
        {
          "name": "stdout",
          "output_type": "stream",
          "text": [
            "best Match: 0.9999999951364144, Best Match ID : 1287\n"
          ]
        }
      ],
      "source": [
        "my_id,my_vector=0,V.T[0]\n",
        "best_match,best_match_id,best_match_vector=-1,-1,[]\n",
        "\n",
        "for user_id,user_vector in enumerate(V.T):\n",
        "  if my_id !=user_id:\n",
        "    cos_similarity=compute_cos_similarity(my_vector,user_vector)\n",
        "    if cos_similarity > best_match:\n",
        "      best_match=cos_similarity\n",
        "      best_match_id=user_id\n",
        "      best_match_vector=user_vector\n",
        "\n",
        "  \n",
        "print('best Match: {}, Best Match ID : {}'.format(best_match,best_match_id))"
      ]
    },
    {
      "cell_type": "code",
      "execution_count": 84,
      "metadata": {
        "colab": {
          "base_uri": "https://localhost:8080/"
        },
        "id": "G_ua-2Lcox8i",
        "outputId": "b7c3677b-0c39-4486-d1d8-b71dfd43185a"
      },
      "outputs": [
        {
          "name": "stdout",
          "output_type": "stream",
          "text": [
            "[0, 1, 4, 5, 9, 12, 14, 15, 16, 17, 19, 20, 22, 24, 25, 37, 40, 41, 42, 43, 44, 48, 53, 55, 56, 57, 58, 61, 62, 63, 64, 65, 66, 69, 71, 72, 74, 76, 78, 80, 81, 82, 83, 88, 91, 92, 93, 94, 95, 96, 98, 100, 101, 105, 107, 108, 116, 119, 120, 123, 124, 127, 129, 130, 133, 136, 137, 140, 143, 144, 147, 149, 150, 156, 157, 159, 161, 167, 173, 176, 177, 180, 181, 183, 188, 192, 193, 197, 198, 199, 200, 201, 202, 203, 208, 209, 212, 215, 221, 222, 229, 230, 231, 233, 234, 241, 242, 243, 245, 246, 247, 248, 249, 250, 251, 252, 253, 255, 261, 262, 264, 267, 270, 273, 274, 275, 276, 278, 279, 285, 286, 288, 289, 290, 291, 292, 293, 294, 295, 296, 297, 298, 300, 302, 304, 306, 307, 310, 311, 312, 313, 319, 321, 323, 324, 325, 326, 329, 330, 331, 335, 337, 338, 339, 342, 343, 344, 346, 347, 349, 356, 358, 359, 362, 364, 370, 373, 377, 378, 379, 380, 386, 387, 388, 389, 392, 393, 394, 395, 397, 398, 400, 401, 402, 405, 406, 410, 411, 415, 416, 418, 421, 423, 424, 428, 431, 433, 434, 437, 440, 444, 446, 449, 453, 454, 455, 456, 457, 458, 459, 462, 464, 466, 467, 469, 470, 471, 477, 478, 482, 483, 485, 486, 487, 489, 492, 493, 494, 496, 499, 502, 504, 507, 511, 513, 516, 517, 520, 522, 524, 525, 531, 532, 533, 534, 535, 536, 539, 540, 541, 544, 547, 548, 549, 551, 552, 553, 559, 560, 561, 566, 568, 575, 576, 578, 579, 581, 587, 591, 592, 596, 598, 601, 604, 605, 608, 609, 611, 612, 613, 617, 619, 620, 621, 623, 629, 631, 633, 634, 635, 636, 641, 642, 647, 648, 649, 652, 653, 654, 656, 657, 659, 660, 662, 663, 664, 668, 673, 675, 676, 677, 678, 679, 681, 683, 688, 689, 690, 691, 696, 697, 698, 700, 702, 704, 705, 707, 708, 709, 713, 714, 715, 720, 722, 725, 726, 729, 730, 732, 734, 737, 741, 743, 744, 745, 746, 747, 748, 750, 755, 756, 758, 760, 762, 763, 766, 767, 768, 769, 770, 772, 776, 778, 784, 785, 787, 788, 789, 791, 792, 793, 794, 795, 797, 799, 803, 804, 805, 806, 814, 816, 820, 821, 822, 825, 828, 829, 830, 834, 837, 838, 842, 846, 851, 853, 863, 864, 866, 867, 869, 871, 878, 879, 880, 881, 882, 884, 885, 886, 888, 889, 891, 892, 893, 894, 895, 896, 898, 900, 901, 902, 906, 909, 912, 915, 916, 917, 918, 920, 921, 922, 923, 926, 928, 929, 931, 932, 933, 934, 935, 937, 940]\n"
          ]
        }
      ],
      "source": [
        "recommend_list = []\n",
        "for i, user_vector in enumerate(adj_matrix):\n",
        "  if adj_matrix[i][my_id] > 0.9:\n",
        "    recommend_list.append(i)\n",
        "print(recommend_list)"
      ]
    },
    {
      "cell_type": "code",
      "execution_count": 84,
      "metadata": {
        "id": "VsZAGOiq_HLQ"
      },
      "outputs": [],
      "source": []
    }
  ],
  "metadata": {
    "accelerator": "GPU",
    "colab": {
      "collapsed_sections": [],
      "name": "_13 추천 시스템(Recommender System).ipynb",
      "provenance": [],
      "toc_visible": true
    },
    "kernelspec": {
      "display_name": "Python 3",
      "name": "python3"
    },
    "language_info": {
      "codemirror_mode": {
        "name": "ipython",
        "version": 3
      },
      "file_extension": ".py",
      "mimetype": "text/x-python",
      "name": "python",
      "nbconvert_exporter": "python",
      "pygments_lexer": "ipython3",
      "version": "3.7.11"
    }
  },
  "nbformat": 4,
  "nbformat_minor": 0
}
