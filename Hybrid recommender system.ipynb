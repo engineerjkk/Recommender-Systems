{
  "cells": [
    {
      "cell_type": "markdown",
      "metadata": {
        "id": "oIAnNuuX2EOr"
      },
      "source": [
        "# 추천 시스템 (Recommender Systems)\n",
        "\n",
        "* 추천 시스템은 크게 두가지로 구분 가능\n",
        "  * 컨텐츠 기반 필터링 (content-based filtering)\n",
        "  * 협업 필터링 (collaborative filtering)\n",
        "* 두가지를 조합한 hybrid 방식도 가능\n",
        "* 컨텐츠 기반 필터링은 지금까지 사용자의 이전 행동과 명시적 피드백을 통해 사용자가 좋아하는 것과 유사한 항목을 추천\n",
        "* 협업 필터링은 사용자와 항목간의 유사성을 동시에 사용해 추천"
      ]
    },
    {
      "cell_type": "markdown",
      "metadata": {
        "id": "pKQvtsfX2bRf"
      },
      "source": [
        "## Surprise\n",
        "\n",
        "* 추천 시스템 개발을 위한 라이브러리\n",
        "* 다양한 모델과 데이터 제공\n",
        "* scikit-learn과 유사한 사용 방법"
      ]
    },
    {
      "cell_type": "code",
      "execution_count": 36,
      "metadata": {
        "colab": {
          "base_uri": "https://localhost:8080/"
        },
        "id": "YOSD5YupzKXh",
        "outputId": "12b38a36-f73c-4e05-a36c-46c7770d2fc1"
      },
      "outputs": [
        {
          "name": "stdout",
          "output_type": "stream",
          "text": [
            "Requirement already satisfied: surprise in /home/kangjunekoo/anaconda3/envs/Pytorch2/lib/python3.9/site-packages (0.1)\n",
            "Requirement already satisfied: scikit-surprise in /home/kangjunekoo/anaconda3/envs/Pytorch2/lib/python3.9/site-packages (from surprise) (1.1.1)\n",
            "Requirement already satisfied: six>=1.10.0 in /home/kangjunekoo/anaconda3/envs/Pytorch2/lib/python3.9/site-packages (from scikit-surprise->surprise) (1.16.0)\n",
            "Requirement already satisfied: scipy>=1.0.0 in /home/kangjunekoo/anaconda3/envs/Pytorch2/lib/python3.9/site-packages (from scikit-surprise->surprise) (1.8.0)\n",
            "Requirement already satisfied: joblib>=0.11 in /home/kangjunekoo/anaconda3/envs/Pytorch2/lib/python3.9/site-packages (from scikit-surprise->surprise) (1.1.0)\n",
            "Requirement already satisfied: numpy>=1.11.2 in /home/kangjunekoo/anaconda3/envs/Pytorch2/lib/python3.9/site-packages (from scikit-surprise->surprise) (1.21.5)\n"
          ]
        }
      ],
      "source": [
        "!pip install surprise"
      ]
    },
    {
      "cell_type": "markdown",
      "metadata": {
        "id": "tP5L65zvCRlv"
      },
      "source": [
        "## 컨텐츠 기반 필터링 (Content-based Filtering)\n",
        "\n",
        "* 컨텐츠 기반 필터링은 이전의 행동과 명시적 피드백을 통해 좋아하는 것과 유사한 항목을 추천\n",
        "  * ex) 내가 지금 까지 시청한 영화 목록과 다른 사용자의 시청 목록을 비교해 나와 비슷한 취향의 사용자가 시청한 영화를 추천\n",
        "* 유사도를 기반으로 추천\n",
        "* 컨텐츠 기반 필터링은 다음과 같은 장단점이 있다.\n",
        "  * 장점\n",
        "    * 많은 수의 사용자를 대상으로 쉽게 확장 가능\n",
        "    * 사용자가 관심을 갖지 않던 상품 추천 가능\n",
        "  * 단점\n",
        "    * 입력 특성을 직접 설계해야 하기 때문에 많은 도메인 지식이 필요\n",
        "    * 사용자의 기존 관심사항을 기반으로만 추천 가능"
      ]
    },
    {
      "cell_type": "markdown",
      "metadata": {
        "id": "HreRrslahd32"
      },
      "source": [
        "## 협업 필터링(Collaborative Filtering)\n",
        "\n",
        "* 사용자와 항목의 유사성을 동시에 고려해 추천\n",
        "* 기존에 내 관심사가 아닌 항목이라도 추천 가능\n",
        "* 자동으로 임베딩 학습 가능\n",
        "* 협업 필터링은 다음과 같은 장단점을 갖고 있다.\n",
        "  * 장점\n",
        "    * 자동으로 임베딩을 학습하기 때문에 도메인 지식이 필요 없다.\n",
        "    * 기존의 관심사가 아니더라도 추천 가능\n",
        "  * 단점\n",
        "    * 학습 과정에 나오지 않은 항목은 임베딩을 만들 수 없음\n",
        "    * 추가 특성을 사용하기 어려움"
      ]
    },
    {
      "cell_type": "markdown",
      "metadata": {
        "id": "hMNwOXpjqeWq"
      },
      "source": [
        "## 하이브리드(Hybrid)\n",
        "\n",
        "* 컨텐츠 기반 필터링과 협업 필터링을 조합한 방식\n",
        "* 많은 하이브리드 방식이 존재\n",
        "* 실습에서는 협업 필터링으로 임베딩을 학습하고 컨텐츠 기반 필터링으로 유사도 기반 추천을 수행하는 추천 엔진 개발"
      ]
    },
    {
      "cell_type": "code",
      "execution_count": 37,
      "metadata": {
        "id": "9mDHmnwFmzwd"
      },
      "outputs": [],
      "source": [
        "import numpy as np\n",
        "from sklearn.decomposition import randomized_svd,non_negative_factorization\n",
        "from surprise import Dataset"
      ]
    },
    {
      "cell_type": "code",
      "execution_count": 38,
      "metadata": {
        "id": "MtEuyQGGMmor"
      },
      "outputs": [],
      "source": [
        "data=Dataset.load_builtin('ml-100k',prompt=False)\n",
        "raw_data=np.array(data.raw_ratings,dtype=int)\n",
        "raw_data[:,0]-=1\n",
        "raw_data[:,1]-=1"
      ]
    },
    {
      "cell_type": "code",
      "execution_count": 39,
      "metadata": {
        "colab": {
          "base_uri": "https://localhost:8080/"
        },
        "id": "esDSrjm_NshD",
        "outputId": "c4396e3a-1c40-4044-8eff-c1f316e5cd25"
      },
      "outputs": [
        {
          "data": {
            "text/plain": [
              "(943, 1682)"
            ]
          },
          "execution_count": 39,
          "metadata": {},
          "output_type": "execute_result"
        }
      ],
      "source": [
        "n_users=np.max(raw_data[:,0])\n",
        "n_movies=np.max(raw_data[:,1])\n",
        "shape=(n_users+1,n_movies+1)\n",
        "shape"
      ]
    },
    {
      "cell_type": "code",
      "execution_count": 40,
      "metadata": {},
      "outputs": [
        {
          "data": {
            "text/plain": [
              "942"
            ]
          },
          "execution_count": 40,
          "metadata": {},
          "output_type": "execute_result"
        }
      ],
      "source": [
        "n_users"
      ]
    },
    {
      "cell_type": "code",
      "execution_count": 41,
      "metadata": {
        "colab": {
          "base_uri": "https://localhost:8080/"
        },
        "id": "bZnx294OTntk",
        "outputId": "f0811e93-fe73-4170-e756-acd2b41e54aa"
      },
      "outputs": [
        {
          "data": {
            "text/plain": [
              "array([[5, 3, 4, ..., 0, 0, 0],\n",
              "       [4, 0, 0, ..., 0, 0, 0],\n",
              "       [0, 0, 0, ..., 0, 0, 0],\n",
              "       ...,\n",
              "       [5, 0, 0, ..., 0, 0, 0],\n",
              "       [0, 0, 0, ..., 0, 0, 0],\n",
              "       [0, 5, 0, ..., 0, 0, 0]])"
            ]
          },
          "execution_count": 41,
          "metadata": {},
          "output_type": "execute_result"
        }
      ],
      "source": [
        "adj_matrix=np.ndarray(shape,dtype=int)\n",
        "for user_id,movie_id,rating,time in raw_data:\n",
        "  adj_matrix[user_id][movie_id]=rating\n",
        "adj_matrix"
      ]
    },
    {
      "cell_type": "code",
      "execution_count": 42,
      "metadata": {},
      "outputs": [],
      "source": [
        "import pandas as pd"
      ]
    },
    {
      "cell_type": "code",
      "execution_count": 43,
      "metadata": {},
      "outputs": [
        {
          "data": {
            "text/html": [
              "<div>\n",
              "<style scoped>\n",
              "    .dataframe tbody tr th:only-of-type {\n",
              "        vertical-align: middle;\n",
              "    }\n",
              "\n",
              "    .dataframe tbody tr th {\n",
              "        vertical-align: top;\n",
              "    }\n",
              "\n",
              "    .dataframe thead th {\n",
              "        text-align: right;\n",
              "    }\n",
              "</style>\n",
              "<table border=\"1\" class=\"dataframe\">\n",
              "  <thead>\n",
              "    <tr style=\"text-align: right;\">\n",
              "      <th></th>\n",
              "      <th>0</th>\n",
              "      <th>1</th>\n",
              "      <th>2</th>\n",
              "      <th>3</th>\n",
              "      <th>4</th>\n",
              "      <th>5</th>\n",
              "      <th>6</th>\n",
              "      <th>7</th>\n",
              "      <th>8</th>\n",
              "      <th>9</th>\n",
              "      <th>...</th>\n",
              "      <th>1672</th>\n",
              "      <th>1673</th>\n",
              "      <th>1674</th>\n",
              "      <th>1675</th>\n",
              "      <th>1676</th>\n",
              "      <th>1677</th>\n",
              "      <th>1678</th>\n",
              "      <th>1679</th>\n",
              "      <th>1680</th>\n",
              "      <th>1681</th>\n",
              "    </tr>\n",
              "  </thead>\n",
              "  <tbody>\n",
              "    <tr>\n",
              "      <th>0</th>\n",
              "      <td>5</td>\n",
              "      <td>3</td>\n",
              "      <td>4</td>\n",
              "      <td>3</td>\n",
              "      <td>3</td>\n",
              "      <td>5</td>\n",
              "      <td>4</td>\n",
              "      <td>1</td>\n",
              "      <td>5</td>\n",
              "      <td>3</td>\n",
              "      <td>...</td>\n",
              "      <td>0</td>\n",
              "      <td>0</td>\n",
              "      <td>0</td>\n",
              "      <td>0</td>\n",
              "      <td>0</td>\n",
              "      <td>0</td>\n",
              "      <td>0</td>\n",
              "      <td>0</td>\n",
              "      <td>0</td>\n",
              "      <td>0</td>\n",
              "    </tr>\n",
              "    <tr>\n",
              "      <th>1</th>\n",
              "      <td>4</td>\n",
              "      <td>0</td>\n",
              "      <td>0</td>\n",
              "      <td>0</td>\n",
              "      <td>0</td>\n",
              "      <td>0</td>\n",
              "      <td>0</td>\n",
              "      <td>0</td>\n",
              "      <td>0</td>\n",
              "      <td>2</td>\n",
              "      <td>...</td>\n",
              "      <td>0</td>\n",
              "      <td>0</td>\n",
              "      <td>0</td>\n",
              "      <td>0</td>\n",
              "      <td>0</td>\n",
              "      <td>0</td>\n",
              "      <td>0</td>\n",
              "      <td>0</td>\n",
              "      <td>0</td>\n",
              "      <td>0</td>\n",
              "    </tr>\n",
              "    <tr>\n",
              "      <th>2</th>\n",
              "      <td>0</td>\n",
              "      <td>0</td>\n",
              "      <td>0</td>\n",
              "      <td>0</td>\n",
              "      <td>0</td>\n",
              "      <td>0</td>\n",
              "      <td>0</td>\n",
              "      <td>0</td>\n",
              "      <td>0</td>\n",
              "      <td>0</td>\n",
              "      <td>...</td>\n",
              "      <td>0</td>\n",
              "      <td>0</td>\n",
              "      <td>0</td>\n",
              "      <td>0</td>\n",
              "      <td>0</td>\n",
              "      <td>0</td>\n",
              "      <td>0</td>\n",
              "      <td>0</td>\n",
              "      <td>0</td>\n",
              "      <td>0</td>\n",
              "    </tr>\n",
              "    <tr>\n",
              "      <th>3</th>\n",
              "      <td>0</td>\n",
              "      <td>0</td>\n",
              "      <td>0</td>\n",
              "      <td>0</td>\n",
              "      <td>0</td>\n",
              "      <td>0</td>\n",
              "      <td>0</td>\n",
              "      <td>0</td>\n",
              "      <td>0</td>\n",
              "      <td>0</td>\n",
              "      <td>...</td>\n",
              "      <td>0</td>\n",
              "      <td>0</td>\n",
              "      <td>0</td>\n",
              "      <td>0</td>\n",
              "      <td>0</td>\n",
              "      <td>0</td>\n",
              "      <td>0</td>\n",
              "      <td>0</td>\n",
              "      <td>0</td>\n",
              "      <td>0</td>\n",
              "    </tr>\n",
              "    <tr>\n",
              "      <th>4</th>\n",
              "      <td>4</td>\n",
              "      <td>3</td>\n",
              "      <td>0</td>\n",
              "      <td>0</td>\n",
              "      <td>0</td>\n",
              "      <td>0</td>\n",
              "      <td>0</td>\n",
              "      <td>0</td>\n",
              "      <td>0</td>\n",
              "      <td>0</td>\n",
              "      <td>...</td>\n",
              "      <td>0</td>\n",
              "      <td>0</td>\n",
              "      <td>0</td>\n",
              "      <td>0</td>\n",
              "      <td>0</td>\n",
              "      <td>0</td>\n",
              "      <td>0</td>\n",
              "      <td>0</td>\n",
              "      <td>0</td>\n",
              "      <td>0</td>\n",
              "    </tr>\n",
              "    <tr>\n",
              "      <th>...</th>\n",
              "      <td>...</td>\n",
              "      <td>...</td>\n",
              "      <td>...</td>\n",
              "      <td>...</td>\n",
              "      <td>...</td>\n",
              "      <td>...</td>\n",
              "      <td>...</td>\n",
              "      <td>...</td>\n",
              "      <td>...</td>\n",
              "      <td>...</td>\n",
              "      <td>...</td>\n",
              "      <td>...</td>\n",
              "      <td>...</td>\n",
              "      <td>...</td>\n",
              "      <td>...</td>\n",
              "      <td>...</td>\n",
              "      <td>...</td>\n",
              "      <td>...</td>\n",
              "      <td>...</td>\n",
              "      <td>...</td>\n",
              "      <td>...</td>\n",
              "    </tr>\n",
              "    <tr>\n",
              "      <th>938</th>\n",
              "      <td>0</td>\n",
              "      <td>0</td>\n",
              "      <td>0</td>\n",
              "      <td>0</td>\n",
              "      <td>0</td>\n",
              "      <td>0</td>\n",
              "      <td>0</td>\n",
              "      <td>0</td>\n",
              "      <td>5</td>\n",
              "      <td>0</td>\n",
              "      <td>...</td>\n",
              "      <td>0</td>\n",
              "      <td>0</td>\n",
              "      <td>0</td>\n",
              "      <td>0</td>\n",
              "      <td>0</td>\n",
              "      <td>0</td>\n",
              "      <td>0</td>\n",
              "      <td>0</td>\n",
              "      <td>0</td>\n",
              "      <td>0</td>\n",
              "    </tr>\n",
              "    <tr>\n",
              "      <th>939</th>\n",
              "      <td>0</td>\n",
              "      <td>0</td>\n",
              "      <td>0</td>\n",
              "      <td>2</td>\n",
              "      <td>0</td>\n",
              "      <td>0</td>\n",
              "      <td>4</td>\n",
              "      <td>5</td>\n",
              "      <td>3</td>\n",
              "      <td>0</td>\n",
              "      <td>...</td>\n",
              "      <td>0</td>\n",
              "      <td>0</td>\n",
              "      <td>0</td>\n",
              "      <td>0</td>\n",
              "      <td>0</td>\n",
              "      <td>0</td>\n",
              "      <td>0</td>\n",
              "      <td>0</td>\n",
              "      <td>0</td>\n",
              "      <td>0</td>\n",
              "    </tr>\n",
              "    <tr>\n",
              "      <th>940</th>\n",
              "      <td>5</td>\n",
              "      <td>0</td>\n",
              "      <td>0</td>\n",
              "      <td>0</td>\n",
              "      <td>0</td>\n",
              "      <td>0</td>\n",
              "      <td>4</td>\n",
              "      <td>0</td>\n",
              "      <td>0</td>\n",
              "      <td>0</td>\n",
              "      <td>...</td>\n",
              "      <td>0</td>\n",
              "      <td>0</td>\n",
              "      <td>0</td>\n",
              "      <td>0</td>\n",
              "      <td>0</td>\n",
              "      <td>0</td>\n",
              "      <td>0</td>\n",
              "      <td>0</td>\n",
              "      <td>0</td>\n",
              "      <td>0</td>\n",
              "    </tr>\n",
              "    <tr>\n",
              "      <th>941</th>\n",
              "      <td>0</td>\n",
              "      <td>0</td>\n",
              "      <td>0</td>\n",
              "      <td>0</td>\n",
              "      <td>0</td>\n",
              "      <td>0</td>\n",
              "      <td>0</td>\n",
              "      <td>0</td>\n",
              "      <td>0</td>\n",
              "      <td>0</td>\n",
              "      <td>...</td>\n",
              "      <td>0</td>\n",
              "      <td>0</td>\n",
              "      <td>0</td>\n",
              "      <td>0</td>\n",
              "      <td>0</td>\n",
              "      <td>0</td>\n",
              "      <td>0</td>\n",
              "      <td>0</td>\n",
              "      <td>0</td>\n",
              "      <td>0</td>\n",
              "    </tr>\n",
              "    <tr>\n",
              "      <th>942</th>\n",
              "      <td>0</td>\n",
              "      <td>5</td>\n",
              "      <td>0</td>\n",
              "      <td>0</td>\n",
              "      <td>0</td>\n",
              "      <td>0</td>\n",
              "      <td>0</td>\n",
              "      <td>0</td>\n",
              "      <td>3</td>\n",
              "      <td>0</td>\n",
              "      <td>...</td>\n",
              "      <td>0</td>\n",
              "      <td>0</td>\n",
              "      <td>0</td>\n",
              "      <td>0</td>\n",
              "      <td>0</td>\n",
              "      <td>0</td>\n",
              "      <td>0</td>\n",
              "      <td>0</td>\n",
              "      <td>0</td>\n",
              "      <td>0</td>\n",
              "    </tr>\n",
              "  </tbody>\n",
              "</table>\n",
              "<p>943 rows × 1682 columns</p>\n",
              "</div>"
            ],
            "text/plain": [
              "     0     1     2     3     4     5     6     7     8     9     ...  1672  \\\n",
              "0       5     3     4     3     3     5     4     1     5     3  ...     0   \n",
              "1       4     0     0     0     0     0     0     0     0     2  ...     0   \n",
              "2       0     0     0     0     0     0     0     0     0     0  ...     0   \n",
              "3       0     0     0     0     0     0     0     0     0     0  ...     0   \n",
              "4       4     3     0     0     0     0     0     0     0     0  ...     0   \n",
              "..    ...   ...   ...   ...   ...   ...   ...   ...   ...   ...  ...   ...   \n",
              "938     0     0     0     0     0     0     0     0     5     0  ...     0   \n",
              "939     0     0     0     2     0     0     4     5     3     0  ...     0   \n",
              "940     5     0     0     0     0     0     4     0     0     0  ...     0   \n",
              "941     0     0     0     0     0     0     0     0     0     0  ...     0   \n",
              "942     0     5     0     0     0     0     0     0     3     0  ...     0   \n",
              "\n",
              "     1673  1674  1675  1676  1677  1678  1679  1680  1681  \n",
              "0       0     0     0     0     0     0     0     0     0  \n",
              "1       0     0     0     0     0     0     0     0     0  \n",
              "2       0     0     0     0     0     0     0     0     0  \n",
              "3       0     0     0     0     0     0     0     0     0  \n",
              "4       0     0     0     0     0     0     0     0     0  \n",
              "..    ...   ...   ...   ...   ...   ...   ...   ...   ...  \n",
              "938     0     0     0     0     0     0     0     0     0  \n",
              "939     0     0     0     0     0     0     0     0     0  \n",
              "940     0     0     0     0     0     0     0     0     0  \n",
              "941     0     0     0     0     0     0     0     0     0  \n",
              "942     0     0     0     0     0     0     0     0     0  \n",
              "\n",
              "[943 rows x 1682 columns]"
            ]
          },
          "execution_count": 43,
          "metadata": {},
          "output_type": "execute_result"
        }
      ],
      "source": [
        "df_adj_matrix=pd.DataFrame(adj_matrix)\n",
        "df_adj_matrix"
      ]
    },
    {
      "cell_type": "markdown",
      "metadata": {
        "id": "kGme6O4v88vg"
      },
      "source": [
        "U =user, V= item ,S= tri value vector"
      ]
    },
    {
      "cell_type": "code",
      "execution_count": 44,
      "metadata": {
        "colab": {
          "base_uri": "https://localhost:8080/"
        },
        "id": "mpw7bmE-SVon",
        "outputId": "b294e943-1845-47fe-d786-766d65d071ba"
      },
      "outputs": [
        {
          "name": "stderr",
          "output_type": "stream",
          "text": [
            "/home/kangjunekoo/anaconda3/envs/Pytorch2/lib/python3.9/site-packages/sklearn/utils/extmath.py:368: FutureWarning: If 'random_state' is not supplied, the current default is to use 0 as a fixed seed. This will change to  None in version 1.2 leading to non-deterministic results that better reflect nature of the randomized_svd solver. If you want to silence this warning, set 'random_state' to an integer seed or to None explicitly depending if you want your code to be deterministic or not.\n",
            "  warnings.warn(\n"
          ]
        }
      ],
      "source": [
        "U,S,V=randomized_svd(adj_matrix,n_components=2)\n",
        "S=np.diag(S)"
      ]
    },
    {
      "cell_type": "code",
      "execution_count": 45,
      "metadata": {},
      "outputs": [
        {
          "data": {
            "text/html": [
              "<div>\n",
              "<style scoped>\n",
              "    .dataframe tbody tr th:only-of-type {\n",
              "        vertical-align: middle;\n",
              "    }\n",
              "\n",
              "    .dataframe tbody tr th {\n",
              "        vertical-align: top;\n",
              "    }\n",
              "\n",
              "    .dataframe thead th {\n",
              "        text-align: right;\n",
              "    }\n",
              "</style>\n",
              "<table border=\"1\" class=\"dataframe\">\n",
              "  <thead>\n",
              "    <tr style=\"text-align: right;\">\n",
              "      <th></th>\n",
              "      <th>0</th>\n",
              "      <th>1</th>\n",
              "    </tr>\n",
              "  </thead>\n",
              "  <tbody>\n",
              "    <tr>\n",
              "      <th>0</th>\n",
              "      <td>0.065804</td>\n",
              "      <td>0.005975</td>\n",
              "    </tr>\n",
              "    <tr>\n",
              "      <th>1</th>\n",
              "      <td>0.014021</td>\n",
              "      <td>-0.046626</td>\n",
              "    </tr>\n",
              "    <tr>\n",
              "      <th>2</th>\n",
              "      <td>0.005658</td>\n",
              "      <td>-0.025618</td>\n",
              "    </tr>\n",
              "    <tr>\n",
              "      <th>3</th>\n",
              "      <td>0.005993</td>\n",
              "      <td>-0.020698</td>\n",
              "    </tr>\n",
              "    <tr>\n",
              "      <th>4</th>\n",
              "      <td>0.032747</td>\n",
              "      <td>0.009159</td>\n",
              "    </tr>\n",
              "    <tr>\n",
              "      <th>...</th>\n",
              "      <td>...</td>\n",
              "      <td>...</td>\n",
              "    </tr>\n",
              "    <tr>\n",
              "      <th>938</th>\n",
              "      <td>0.011282</td>\n",
              "      <td>-0.041178</td>\n",
              "    </tr>\n",
              "    <tr>\n",
              "      <th>939</th>\n",
              "      <td>0.030006</td>\n",
              "      <td>-0.008428</td>\n",
              "    </tr>\n",
              "    <tr>\n",
              "      <th>940</th>\n",
              "      <td>0.007445</td>\n",
              "      <td>-0.025021</td>\n",
              "    </tr>\n",
              "    <tr>\n",
              "      <th>941</th>\n",
              "      <td>0.024031</td>\n",
              "      <td>0.008096</td>\n",
              "    </tr>\n",
              "    <tr>\n",
              "      <th>942</th>\n",
              "      <td>0.042242</td>\n",
              "      <td>-0.010927</td>\n",
              "    </tr>\n",
              "  </tbody>\n",
              "</table>\n",
              "<p>943 rows × 2 columns</p>\n",
              "</div>"
            ],
            "text/plain": [
              "            0         1\n",
              "0    0.065804  0.005975\n",
              "1    0.014021 -0.046626\n",
              "2    0.005658 -0.025618\n",
              "3    0.005993 -0.020698\n",
              "4    0.032747  0.009159\n",
              "..        ...       ...\n",
              "938  0.011282 -0.041178\n",
              "939  0.030006 -0.008428\n",
              "940  0.007445 -0.025021\n",
              "941  0.024031  0.008096\n",
              "942  0.042242 -0.010927\n",
              "\n",
              "[943 rows x 2 columns]"
            ]
          },
          "execution_count": 45,
          "metadata": {},
          "output_type": "execute_result"
        }
      ],
      "source": [
        "df_U=pd.DataFrame(U)\n",
        "df_U"
      ]
    },
    {
      "cell_type": "code",
      "execution_count": 46,
      "metadata": {},
      "outputs": [
        {
          "data": {
            "text/html": [
              "<div>\n",
              "<style scoped>\n",
              "    .dataframe tbody tr th:only-of-type {\n",
              "        vertical-align: middle;\n",
              "    }\n",
              "\n",
              "    .dataframe tbody tr th {\n",
              "        vertical-align: top;\n",
              "    }\n",
              "\n",
              "    .dataframe thead th {\n",
              "        text-align: right;\n",
              "    }\n",
              "</style>\n",
              "<table border=\"1\" class=\"dataframe\">\n",
              "  <thead>\n",
              "    <tr style=\"text-align: right;\">\n",
              "      <th></th>\n",
              "      <th>0</th>\n",
              "      <th>1</th>\n",
              "      <th>2</th>\n",
              "      <th>3</th>\n",
              "      <th>4</th>\n",
              "      <th>5</th>\n",
              "      <th>6</th>\n",
              "      <th>7</th>\n",
              "      <th>8</th>\n",
              "      <th>9</th>\n",
              "      <th>...</th>\n",
              "      <th>1672</th>\n",
              "      <th>1673</th>\n",
              "      <th>1674</th>\n",
              "      <th>1675</th>\n",
              "      <th>1676</th>\n",
              "      <th>1677</th>\n",
              "      <th>1678</th>\n",
              "      <th>1679</th>\n",
              "      <th>1680</th>\n",
              "      <th>1681</th>\n",
              "    </tr>\n",
              "  </thead>\n",
              "  <tbody>\n",
              "    <tr>\n",
              "      <th>0</th>\n",
              "      <td>0.095951</td>\n",
              "      <td>0.035180</td>\n",
              "      <td>0.019929</td>\n",
              "      <td>0.059952</td>\n",
              "      <td>0.021607</td>\n",
              "      <td>0.005367</td>\n",
              "      <td>0.085673</td>\n",
              "      <td>0.063814</td>\n",
              "      <td>0.065295</td>\n",
              "      <td>0.022075</td>\n",
              "      <td>...</td>\n",
              "      <td>0.000150</td>\n",
              "      <td>0.000358</td>\n",
              "      <td>0.000176</td>\n",
              "      <td>0.000117</td>\n",
              "      <td>0.000220</td>\n",
              "      <td>0.000015</td>\n",
              "      <td>0.000046</td>\n",
              "      <td>0.000030</td>\n",
              "      <td>0.000331</td>\n",
              "      <td>0.000317</td>\n",
              "    </tr>\n",
              "    <tr>\n",
              "      <th>1</th>\n",
              "      <td>-0.087240</td>\n",
              "      <td>-0.007025</td>\n",
              "      <td>-0.028618</td>\n",
              "      <td>0.013050</td>\n",
              "      <td>-0.015311</td>\n",
              "      <td>0.002251</td>\n",
              "      <td>-0.079269</td>\n",
              "      <td>0.027715</td>\n",
              "      <td>-0.042917</td>\n",
              "      <td>0.007884</td>\n",
              "      <td>...</td>\n",
              "      <td>0.000292</td>\n",
              "      <td>0.001386</td>\n",
              "      <td>-0.000770</td>\n",
              "      <td>-0.000513</td>\n",
              "      <td>-0.000215</td>\n",
              "      <td>-0.000224</td>\n",
              "      <td>-0.000672</td>\n",
              "      <td>-0.000448</td>\n",
              "      <td>0.000105</td>\n",
              "      <td>0.000203</td>\n",
              "    </tr>\n",
              "  </tbody>\n",
              "</table>\n",
              "<p>2 rows × 1682 columns</p>\n",
              "</div>"
            ],
            "text/plain": [
              "       0         1         2         3         4         5         6     \\\n",
              "0  0.095951  0.035180  0.019929  0.059952  0.021607  0.005367  0.085673   \n",
              "1 -0.087240 -0.007025 -0.028618  0.013050 -0.015311  0.002251 -0.079269   \n",
              "\n",
              "       7         8         9     ...      1672      1673      1674      1675  \\\n",
              "0  0.063814  0.065295  0.022075  ...  0.000150  0.000358  0.000176  0.000117   \n",
              "1  0.027715 -0.042917  0.007884  ...  0.000292  0.001386 -0.000770 -0.000513   \n",
              "\n",
              "       1676      1677      1678      1679      1680      1681  \n",
              "0  0.000220  0.000015  0.000046  0.000030  0.000331  0.000317  \n",
              "1 -0.000215 -0.000224 -0.000672 -0.000448  0.000105  0.000203  \n",
              "\n",
              "[2 rows x 1682 columns]"
            ]
          },
          "execution_count": 46,
          "metadata": {},
          "output_type": "execute_result"
        }
      ],
      "source": [
        "df_V=pd.DataFrame(V)\n",
        "df_V"
      ]
    },
    {
      "cell_type": "code",
      "execution_count": 47,
      "metadata": {
        "colab": {
          "base_uri": "https://localhost:8080/"
        },
        "id": "sdnXxd6lODFy",
        "outputId": "b89677d9-88e6-4351-f72d-48b0a76c0f8d"
      },
      "outputs": [
        {
          "name": "stdout",
          "output_type": "stream",
          "text": [
            "(943, 2)\n",
            "(2, 2)\n",
            "(2, 1682)\n"
          ]
        }
      ],
      "source": [
        "print(U.shape)\n",
        "print(S.shape)\n",
        "print(V.shape)"
      ]
    },
    {
      "cell_type": "code",
      "execution_count": 48,
      "metadata": {
        "colab": {
          "base_uri": "https://localhost:8080/"
        },
        "id": "zBvnhmuhOxDx",
        "outputId": "10b1ea99-c71e-4181-9f3f-3e5a8b6f7855"
      },
      "outputs": [
        {
          "data": {
            "text/html": [
              "<div>\n",
              "<style scoped>\n",
              "    .dataframe tbody tr th:only-of-type {\n",
              "        vertical-align: middle;\n",
              "    }\n",
              "\n",
              "    .dataframe tbody tr th {\n",
              "        vertical-align: top;\n",
              "    }\n",
              "\n",
              "    .dataframe thead th {\n",
              "        text-align: right;\n",
              "    }\n",
              "</style>\n",
              "<table border=\"1\" class=\"dataframe\">\n",
              "  <thead>\n",
              "    <tr style=\"text-align: right;\">\n",
              "      <th></th>\n",
              "      <th>0</th>\n",
              "      <th>1</th>\n",
              "      <th>2</th>\n",
              "      <th>3</th>\n",
              "      <th>4</th>\n",
              "      <th>5</th>\n",
              "      <th>6</th>\n",
              "      <th>7</th>\n",
              "      <th>8</th>\n",
              "      <th>9</th>\n",
              "      <th>...</th>\n",
              "      <th>1672</th>\n",
              "      <th>1673</th>\n",
              "      <th>1674</th>\n",
              "      <th>1675</th>\n",
              "      <th>1676</th>\n",
              "      <th>1677</th>\n",
              "      <th>1678</th>\n",
              "      <th>1679</th>\n",
              "      <th>1680</th>\n",
              "      <th>1681</th>\n",
              "    </tr>\n",
              "  </thead>\n",
              "  <tbody>\n",
              "    <tr>\n",
              "      <th>0</th>\n",
              "      <td>3.917327</td>\n",
              "      <td>1.472766</td>\n",
              "      <td>0.798262</td>\n",
              "      <td>2.546465</td>\n",
              "      <td>0.888481</td>\n",
              "      <td>0.229530</td>\n",
              "      <td>3.495722</td>\n",
              "      <td>2.730697</td>\n",
              "      <td>2.689811</td>\n",
              "      <td>0.942156</td>\n",
              "      <td>...</td>\n",
              "      <td>0.006770</td>\n",
              "      <td>0.017122</td>\n",
              "      <td>0.006273</td>\n",
              "      <td>0.004182</td>\n",
              "      <td>0.008968</td>\n",
              "      <td>0.000312</td>\n",
              "      <td>0.000937</td>\n",
              "      <td>0.000625</td>\n",
              "      <td>0.014110</td>\n",
              "      <td>0.013655</td>\n",
              "    </tr>\n",
              "    <tr>\n",
              "      <th>1</th>\n",
              "      <td>1.857772</td>\n",
              "      <td>0.396191</td>\n",
              "      <td>0.505706</td>\n",
              "      <td>0.389534</td>\n",
              "      <td>0.368863</td>\n",
              "      <td>0.022513</td>\n",
              "      <td>1.674457</td>\n",
              "      <td>0.256811</td>\n",
              "      <td>1.076432</td>\n",
              "      <td>0.108290</td>\n",
              "      <td>...</td>\n",
              "      <td>-0.001976</td>\n",
              "      <td>-0.012612</td>\n",
              "      <td>0.010362</td>\n",
              "      <td>0.006908</td>\n",
              "      <td>0.004432</td>\n",
              "      <td>0.002694</td>\n",
              "      <td>0.008083</td>\n",
              "      <td>0.005389</td>\n",
              "      <td>0.001772</td>\n",
              "      <td>0.000527</td>\n",
              "    </tr>\n",
              "    <tr>\n",
              "      <th>2</th>\n",
              "      <td>0.894990</td>\n",
              "      <td>0.171578</td>\n",
              "      <td>0.251739</td>\n",
              "      <td>0.135453</td>\n",
              "      <td>0.174352</td>\n",
              "      <td>0.005336</td>\n",
              "      <td>0.807738</td>\n",
              "      <td>0.057469</td>\n",
              "      <td>0.505864</td>\n",
              "      <td>0.030567</td>\n",
              "      <td>...</td>\n",
              "      <td>-0.001283</td>\n",
              "      <td>-0.007399</td>\n",
              "      <td>0.005463</td>\n",
              "      <td>0.003642</td>\n",
              "      <td>0.002146</td>\n",
              "      <td>0.001460</td>\n",
              "      <td>0.004381</td>\n",
              "      <td>0.002921</td>\n",
              "      <td>0.000540</td>\n",
              "      <td>-0.000126</td>\n",
              "    </tr>\n",
              "    <tr>\n",
              "      <th>3</th>\n",
              "      <td>0.810501</td>\n",
              "      <td>0.170669</td>\n",
              "      <td>0.221544</td>\n",
              "      <td>0.164044</td>\n",
              "      <td>0.160548</td>\n",
              "      <td>0.009199</td>\n",
              "      <td>0.730645</td>\n",
              "      <td>0.104553</td>\n",
              "      <td>0.468185</td>\n",
              "      <td>0.044803</td>\n",
              "      <td>...</td>\n",
              "      <td>-0.000900</td>\n",
              "      <td>-0.005652</td>\n",
              "      <td>0.004574</td>\n",
              "      <td>0.003049</td>\n",
              "      <td>0.001935</td>\n",
              "      <td>0.001194</td>\n",
              "      <td>0.003581</td>\n",
              "      <td>0.002388</td>\n",
              "      <td>0.000738</td>\n",
              "      <td>0.000187</td>\n",
              "    </tr>\n",
              "    <tr>\n",
              "      <th>4</th>\n",
              "      <td>1.817325</td>\n",
              "      <td>0.722279</td>\n",
              "      <td>0.353912</td>\n",
              "      <td>1.287004</td>\n",
              "      <td>0.418963</td>\n",
              "      <td>0.117633</td>\n",
              "      <td>1.619587</td>\n",
              "      <td>1.400895</td>\n",
              "      <td>1.273581</td>\n",
              "      <td>0.480801</td>\n",
              "      <td>...</td>\n",
              "      <td>0.003811</td>\n",
              "      <td>0.010620</td>\n",
              "      <td>0.001956</td>\n",
              "      <td>0.001304</td>\n",
              "      <td>0.004137</td>\n",
              "      <td>-0.000184</td>\n",
              "      <td>-0.000552</td>\n",
              "      <td>-0.000368</td>\n",
              "      <td>0.007181</td>\n",
              "      <td>0.007103</td>\n",
              "    </tr>\n",
              "    <tr>\n",
              "      <th>...</th>\n",
              "      <td>...</td>\n",
              "      <td>...</td>\n",
              "      <td>...</td>\n",
              "      <td>...</td>\n",
              "      <td>...</td>\n",
              "      <td>...</td>\n",
              "      <td>...</td>\n",
              "      <td>...</td>\n",
              "      <td>...</td>\n",
              "      <td>...</td>\n",
              "      <td>...</td>\n",
              "      <td>...</td>\n",
              "      <td>...</td>\n",
              "      <td>...</td>\n",
              "      <td>...</td>\n",
              "      <td>...</td>\n",
              "      <td>...</td>\n",
              "      <td>...</td>\n",
              "      <td>...</td>\n",
              "      <td>...</td>\n",
              "      <td>...</td>\n",
              "    </tr>\n",
              "    <tr>\n",
              "      <th>938</th>\n",
              "      <td>1.573066</td>\n",
              "      <td>0.325097</td>\n",
              "      <td>0.432570</td>\n",
              "      <td>0.301751</td>\n",
              "      <td>0.310532</td>\n",
              "      <td>0.016099</td>\n",
              "      <td>1.418415</td>\n",
              "      <td>0.181812</td>\n",
              "      <td>0.904629</td>\n",
              "      <td>0.080072</td>\n",
              "      <td>...</td>\n",
              "      <td>-0.001852</td>\n",
              "      <td>-0.011391</td>\n",
              "      <td>0.009028</td>\n",
              "      <td>0.006018</td>\n",
              "      <td>0.003759</td>\n",
              "      <td>0.002369</td>\n",
              "      <td>0.007106</td>\n",
              "      <td>0.004738</td>\n",
              "      <td>0.001332</td>\n",
              "      <td>0.000242</td>\n",
              "    </tr>\n",
              "    <tr>\n",
              "      <th>939</th>\n",
              "      <td>2.024478</td>\n",
              "      <td>0.690753</td>\n",
              "      <td>0.442143</td>\n",
              "      <td>1.125537</td>\n",
              "      <td>0.446946</td>\n",
              "      <td>0.098519</td>\n",
              "      <td>1.810464</td>\n",
              "      <td>1.169505</td>\n",
              "      <td>1.343719</td>\n",
              "      <td>0.408090</td>\n",
              "      <td>...</td>\n",
              "      <td>0.002291</td>\n",
              "      <td>0.004022</td>\n",
              "      <td>0.004962</td>\n",
              "      <td>0.003308</td>\n",
              "      <td>0.004676</td>\n",
              "      <td>0.000754</td>\n",
              "      <td>0.002263</td>\n",
              "      <td>0.001509</td>\n",
              "      <td>0.006147</td>\n",
              "      <td>0.005672</td>\n",
              "    </tr>\n",
              "    <tr>\n",
              "      <th>940</th>\n",
              "      <td>0.992052</td>\n",
              "      <td>0.210815</td>\n",
              "      <td>0.270363</td>\n",
              "      <td>0.205977</td>\n",
              "      <td>0.196843</td>\n",
              "      <td>0.011807</td>\n",
              "      <td>0.894203</td>\n",
              "      <td>0.134556</td>\n",
              "      <td>0.574321</td>\n",
              "      <td>0.056985</td>\n",
              "      <td>...</td>\n",
              "      <td>-0.001068</td>\n",
              "      <td>-0.006786</td>\n",
              "      <td>0.005552</td>\n",
              "      <td>0.003701</td>\n",
              "      <td>0.002367</td>\n",
              "      <td>0.001445</td>\n",
              "      <td>0.004335</td>\n",
              "      <td>0.002890</td>\n",
              "      <td>0.000934</td>\n",
              "      <td>0.000267</td>\n",
              "    </tr>\n",
              "    <tr>\n",
              "      <th>941</th>\n",
              "      <td>1.304254</td>\n",
              "      <td>0.527670</td>\n",
              "      <td>0.250080</td>\n",
              "      <td>0.948844</td>\n",
              "      <td>0.302297</td>\n",
              "      <td>0.087081</td>\n",
              "      <td>1.161830</td>\n",
              "      <td>1.037358</td>\n",
              "      <td>0.920154</td>\n",
              "      <td>0.355483</td>\n",
              "      <td>...</td>\n",
              "      <td>0.002894</td>\n",
              "      <td>0.008260</td>\n",
              "      <td>0.001176</td>\n",
              "      <td>0.000784</td>\n",
              "      <td>0.002964</td>\n",
              "      <td>-0.000210</td>\n",
              "      <td>-0.000631</td>\n",
              "      <td>-0.000421</td>\n",
              "      <td>0.005305</td>\n",
              "      <td>0.005281</td>\n",
              "    </tr>\n",
              "    <tr>\n",
              "      <th>942</th>\n",
              "      <td>2.829994</td>\n",
              "      <td>0.970812</td>\n",
              "      <td>0.615872</td>\n",
              "      <td>1.587496</td>\n",
              "      <td>0.625686</td>\n",
              "      <td>0.139209</td>\n",
              "      <td>2.530539</td>\n",
              "      <td>1.652756</td>\n",
              "      <td>1.881807</td>\n",
              "      <td>0.576307</td>\n",
              "      <td>...</td>\n",
              "      <td>0.003292</td>\n",
              "      <td>0.005980</td>\n",
              "      <td>0.006808</td>\n",
              "      <td>0.004539</td>\n",
              "      <td>0.006534</td>\n",
              "      <td>0.001010</td>\n",
              "      <td>0.003031</td>\n",
              "      <td>0.002021</td>\n",
              "      <td>0.008677</td>\n",
              "      <td>0.008031</td>\n",
              "    </tr>\n",
              "  </tbody>\n",
              "</table>\n",
              "<p>943 rows × 1682 columns</p>\n",
              "</div>"
            ],
            "text/plain": [
              "         0         1         2         3         4         5         6     \\\n",
              "0    3.917327  1.472766  0.798262  2.546465  0.888481  0.229530  3.495722   \n",
              "1    1.857772  0.396191  0.505706  0.389534  0.368863  0.022513  1.674457   \n",
              "2    0.894990  0.171578  0.251739  0.135453  0.174352  0.005336  0.807738   \n",
              "3    0.810501  0.170669  0.221544  0.164044  0.160548  0.009199  0.730645   \n",
              "4    1.817325  0.722279  0.353912  1.287004  0.418963  0.117633  1.619587   \n",
              "..        ...       ...       ...       ...       ...       ...       ...   \n",
              "938  1.573066  0.325097  0.432570  0.301751  0.310532  0.016099  1.418415   \n",
              "939  2.024478  0.690753  0.442143  1.125537  0.446946  0.098519  1.810464   \n",
              "940  0.992052  0.210815  0.270363  0.205977  0.196843  0.011807  0.894203   \n",
              "941  1.304254  0.527670  0.250080  0.948844  0.302297  0.087081  1.161830   \n",
              "942  2.829994  0.970812  0.615872  1.587496  0.625686  0.139209  2.530539   \n",
              "\n",
              "         7         8         9     ...      1672      1673      1674  \\\n",
              "0    2.730697  2.689811  0.942156  ...  0.006770  0.017122  0.006273   \n",
              "1    0.256811  1.076432  0.108290  ... -0.001976 -0.012612  0.010362   \n",
              "2    0.057469  0.505864  0.030567  ... -0.001283 -0.007399  0.005463   \n",
              "3    0.104553  0.468185  0.044803  ... -0.000900 -0.005652  0.004574   \n",
              "4    1.400895  1.273581  0.480801  ...  0.003811  0.010620  0.001956   \n",
              "..        ...       ...       ...  ...       ...       ...       ...   \n",
              "938  0.181812  0.904629  0.080072  ... -0.001852 -0.011391  0.009028   \n",
              "939  1.169505  1.343719  0.408090  ...  0.002291  0.004022  0.004962   \n",
              "940  0.134556  0.574321  0.056985  ... -0.001068 -0.006786  0.005552   \n",
              "941  1.037358  0.920154  0.355483  ...  0.002894  0.008260  0.001176   \n",
              "942  1.652756  1.881807  0.576307  ...  0.003292  0.005980  0.006808   \n",
              "\n",
              "         1675      1676      1677      1678      1679      1680      1681  \n",
              "0    0.004182  0.008968  0.000312  0.000937  0.000625  0.014110  0.013655  \n",
              "1    0.006908  0.004432  0.002694  0.008083  0.005389  0.001772  0.000527  \n",
              "2    0.003642  0.002146  0.001460  0.004381  0.002921  0.000540 -0.000126  \n",
              "3    0.003049  0.001935  0.001194  0.003581  0.002388  0.000738  0.000187  \n",
              "4    0.001304  0.004137 -0.000184 -0.000552 -0.000368  0.007181  0.007103  \n",
              "..        ...       ...       ...       ...       ...       ...       ...  \n",
              "938  0.006018  0.003759  0.002369  0.007106  0.004738  0.001332  0.000242  \n",
              "939  0.003308  0.004676  0.000754  0.002263  0.001509  0.006147  0.005672  \n",
              "940  0.003701  0.002367  0.001445  0.004335  0.002890  0.000934  0.000267  \n",
              "941  0.000784  0.002964 -0.000210 -0.000631 -0.000421  0.005305  0.005281  \n",
              "942  0.004539  0.006534  0.001010  0.003031  0.002021  0.008677  0.008031  \n",
              "\n",
              "[943 rows x 1682 columns]"
            ]
          },
          "execution_count": 48,
          "metadata": {},
          "output_type": "execute_result"
        }
      ],
      "source": [
        "df_USV=np.matmul(np.matmul(U,S),V)\n",
        "df_USV=pd.DataFrame(df_USV)\n",
        "df_USV"
      ]
    },
    {
      "cell_type": "code",
      "execution_count": 49,
      "metadata": {},
      "outputs": [
        {
          "data": {
            "text/html": [
              "<div>\n",
              "<style scoped>\n",
              "    .dataframe tbody tr th:only-of-type {\n",
              "        vertical-align: middle;\n",
              "    }\n",
              "\n",
              "    .dataframe tbody tr th {\n",
              "        vertical-align: top;\n",
              "    }\n",
              "\n",
              "    .dataframe thead th {\n",
              "        text-align: right;\n",
              "    }\n",
              "</style>\n",
              "<table border=\"1\" class=\"dataframe\">\n",
              "  <thead>\n",
              "    <tr style=\"text-align: right;\">\n",
              "      <th></th>\n",
              "      <th>0</th>\n",
              "      <th>1</th>\n",
              "    </tr>\n",
              "  </thead>\n",
              "  <tbody>\n",
              "    <tr>\n",
              "      <th>0</th>\n",
              "      <td>0.065804</td>\n",
              "      <td>0.005975</td>\n",
              "    </tr>\n",
              "    <tr>\n",
              "      <th>1</th>\n",
              "      <td>0.014021</td>\n",
              "      <td>-0.046626</td>\n",
              "    </tr>\n",
              "    <tr>\n",
              "      <th>2</th>\n",
              "      <td>0.005658</td>\n",
              "      <td>-0.025618</td>\n",
              "    </tr>\n",
              "    <tr>\n",
              "      <th>3</th>\n",
              "      <td>0.005993</td>\n",
              "      <td>-0.020698</td>\n",
              "    </tr>\n",
              "    <tr>\n",
              "      <th>4</th>\n",
              "      <td>0.032747</td>\n",
              "      <td>0.009159</td>\n",
              "    </tr>\n",
              "    <tr>\n",
              "      <th>...</th>\n",
              "      <td>...</td>\n",
              "      <td>...</td>\n",
              "    </tr>\n",
              "    <tr>\n",
              "      <th>938</th>\n",
              "      <td>0.011282</td>\n",
              "      <td>-0.041178</td>\n",
              "    </tr>\n",
              "    <tr>\n",
              "      <th>939</th>\n",
              "      <td>0.030006</td>\n",
              "      <td>-0.008428</td>\n",
              "    </tr>\n",
              "    <tr>\n",
              "      <th>940</th>\n",
              "      <td>0.007445</td>\n",
              "      <td>-0.025021</td>\n",
              "    </tr>\n",
              "    <tr>\n",
              "      <th>941</th>\n",
              "      <td>0.024031</td>\n",
              "      <td>0.008096</td>\n",
              "    </tr>\n",
              "    <tr>\n",
              "      <th>942</th>\n",
              "      <td>0.042242</td>\n",
              "      <td>-0.010927</td>\n",
              "    </tr>\n",
              "  </tbody>\n",
              "</table>\n",
              "<p>943 rows × 2 columns</p>\n",
              "</div>"
            ],
            "text/plain": [
              "            0         1\n",
              "0    0.065804  0.005975\n",
              "1    0.014021 -0.046626\n",
              "2    0.005658 -0.025618\n",
              "3    0.005993 -0.020698\n",
              "4    0.032747  0.009159\n",
              "..        ...       ...\n",
              "938  0.011282 -0.041178\n",
              "939  0.030006 -0.008428\n",
              "940  0.007445 -0.025021\n",
              "941  0.024031  0.008096\n",
              "942  0.042242 -0.010927\n",
              "\n",
              "[943 rows x 2 columns]"
            ]
          },
          "execution_count": 49,
          "metadata": {},
          "output_type": "execute_result"
        }
      ],
      "source": [
        "df_U=pd.DataFrame(U)\n",
        "df_U"
      ]
    },
    {
      "cell_type": "markdown",
      "metadata": {
        "id": "3pSBMfF7d74E"
      },
      "source": [
        "* 사용자 기반 추천\n",
        "* 나와 비슷한 취향을 가진 다른 사용자의 행동을 추천\n",
        "* 사용자 특징 벡터의 유사도 사용"
      ]
    },
    {
      "cell_type": "markdown",
      "metadata": {},
      "source": [
        "* 코사인 유사도를 사용해 추천\n",
        "\n",
        "\\begin{equation}\n",
        "cos \\theta = \\frac{A \\cdot B}{||A|| \\times ||B||}\n",
        "\\end{equation}\n",
        "* 두 벡터가 이루고 있는 각을 계산"
      ]
    },
    {
      "cell_type": "code",
      "execution_count": 50,
      "metadata": {},
      "outputs": [],
      "source": [
        "def compute_cos_similarity(v1,v2):\n",
        "  norm1=np.sqrt(np.sum(np.square(v1)))\n",
        "  norm2=np.sqrt(np.sum(np.square(v2)))\n",
        "  dot=np.dot(v1,v2)\n",
        "  return dot/(norm1*norm2)"
      ]
    },
    {
      "cell_type": "code",
      "execution_count": 51,
      "metadata": {},
      "outputs": [
        {
          "name": "stdout",
          "output_type": "stream",
          "text": [
            "best Match: 0.9999942295956321, Best Match ID : 235\n"
          ]
        }
      ],
      "source": [
        "my_id,my_vector=0,U[0]\n",
        "best_match,best_match_id,best_match_vector=-1,-1,[]\n",
        "\n",
        "for user_id,user_vector in enumerate(U):\n",
        "  if my_id !=user_id:\n",
        "    cos_similarity=compute_cos_similarity(my_vector,user_vector)\n",
        "    if cos_similarity > best_match:\n",
        "      best_match=cos_similarity\n",
        "      best_match_id=user_id\n",
        "      best_match_vector=user_vector\n",
        "\n",
        "  \n",
        "print('best Match: {}, Best Match ID : {}'.format(best_match,best_match_id))"
      ]
    },
    {
      "cell_type": "code",
      "execution_count": 52,
      "metadata": {},
      "outputs": [
        {
          "name": "stdout",
          "output_type": "stream",
          "text": [
            "[272, 273, 274, 281, 285, 288, 293, 297, 303, 306, 312, 317, 327, 332, 369, 410, 418, 419, 422, 426, 428, 431, 434, 442, 461, 475, 477, 482, 495, 503, 504, 505, 506, 509, 519, 520, 522, 525, 531, 545, 548, 590, 594, 595, 613, 631, 654, 658, 660, 672, 684, 685, 691, 695, 698, 704, 716, 728, 734, 749, 755, 863, 865, 933, 1012, 1038, 1101, 1327, 1400]\n"
          ]
        }
      ],
      "source": [
        "recommend_list=[]\n",
        "for i, log in enumerate(zip(adj_matrix[my_id],adj_matrix[best_match_id])):\n",
        "  log1,log2=log\n",
        "  if log1<1. and log2 > 0.:\n",
        "    recommend_list.append(i)\n",
        "print(recommend_list)"
      ]
    },
    {
      "cell_type": "code",
      "execution_count": 53,
      "metadata": {
        "colab": {
          "base_uri": "https://localhost:8080/"
        },
        "id": "N6nYexy6cq9V",
        "outputId": "235be995-c017-4da0-df9a-4596fea3f6df"
      },
      "outputs": [
        {
          "name": "stdout",
          "output_type": "stream",
          "text": [
            "best Match: 0.9999942295956321, Best Match ID : 235\n"
          ]
        }
      ],
      "source": [
        "my_id,my_vector=0,U[0]\n",
        "best_match,best_match_id,best_match_vector=-1,-1,[]\n",
        "\n",
        "for user_id,user_vector in enumerate(U):\n",
        "  if my_id !=user_id:\n",
        "    cos_similarity=compute_cos_similarity(my_vector,user_vector)\n",
        "    if cos_similarity > best_match:\n",
        "      best_match=cos_similarity\n",
        "      best_match_id=user_id\n",
        "      best_match_vector=user_vector\n",
        "\n",
        "  \n",
        "print('best Match: {}, Best Match ID : {}'.format(best_match,best_match_id))"
      ]
    },
    {
      "cell_type": "code",
      "execution_count": 54,
      "metadata": {},
      "outputs": [
        {
          "data": {
            "text/plain": [
              "array([5, 3, 4, ..., 0, 0, 0])"
            ]
          },
          "execution_count": 54,
          "metadata": {},
          "output_type": "execute_result"
        }
      ],
      "source": [
        "adj_matrix[my_id]"
      ]
    },
    {
      "cell_type": "code",
      "execution_count": 55,
      "metadata": {},
      "outputs": [
        {
          "data": {
            "text/plain": [
              "array([0, 0, 0, ..., 0, 0, 0])"
            ]
          },
          "execution_count": 55,
          "metadata": {},
          "output_type": "execute_result"
        }
      ],
      "source": [
        "adj_matrix[best_match_id]"
      ]
    },
    {
      "cell_type": "markdown",
      "metadata": {},
      "source": [
        "we can append both of the movie that I havn't seen and the movie that is similar"
      ]
    },
    {
      "cell_type": "code",
      "execution_count": 56,
      "metadata": {
        "colab": {
          "base_uri": "https://localhost:8080/"
        },
        "id": "wdISUAEIfoHi",
        "outputId": "614ffeee-25a7-4166-edda-8927fa957752"
      },
      "outputs": [
        {
          "name": "stdout",
          "output_type": "stream",
          "text": [
            "[272, 273, 274, 281, 285, 288, 293, 297, 303, 306, 312, 317, 327, 332, 369, 410, 418, 419, 422, 426, 428, 431, 434, 442, 461, 475, 477, 482, 495, 503, 504, 505, 506, 509, 519, 520, 522, 525, 531, 545, 548, 590, 594, 595, 613, 631, 654, 658, 660, 672, 684, 685, 691, 695, 698, 704, 716, 728, 734, 749, 755, 863, 865, 933, 1012, 1038, 1101, 1327, 1400]\n"
          ]
        }
      ],
      "source": [
        "recommend_list=[]\n",
        "for i, log in enumerate(zip(adj_matrix[my_id],adj_matrix[best_match_id])):\n",
        "  log1,log2=log\n",
        "  if log1<1. and log2 > 0.:\n",
        "    recommend_list.append(i)\n",
        "print(recommend_list)"
      ]
    },
    {
      "cell_type": "markdown",
      "metadata": {
        "id": "0nSD2izbhJix"
      },
      "source": [
        "* 항목 기반 추천\n",
        "* 내가 본 항목과 비슷한 항목을 추천\n",
        "* 항목 특징 벡터의 유사도 사용"
      ]
    },
    {
      "cell_type": "code",
      "execution_count": 57,
      "metadata": {
        "colab": {
          "base_uri": "https://localhost:8080/"
        },
        "id": "vCLxtkLdgM-s",
        "outputId": "3c8646d0-5eb2-46ad-c7ed-d9eb42993175"
      },
      "outputs": [
        {
          "name": "stdout",
          "output_type": "stream",
          "text": [
            "best Match: 0.9999999951364141, Best Match ID : 1287\n"
          ]
        }
      ],
      "source": [
        "my_id,my_vector=0,V.T[0]\n",
        "best_match,best_match_id,best_match_vector=-1,-1,[]\n",
        "\n",
        "for user_id,user_vector in enumerate(V.T):\n",
        "  if my_id !=user_id:\n",
        "    cos_similarity=compute_cos_similarity(my_vector,user_vector)\n",
        "    if cos_similarity > best_match:\n",
        "      best_match=cos_similarity\n",
        "      best_match_id=user_id\n",
        "      best_match_vector=user_vector\n",
        "\n",
        "  \n",
        "print('best Match: {}, Best Match ID : {}'.format(best_match,best_match_id))"
      ]
    },
    {
      "cell_type": "code",
      "execution_count": 58,
      "metadata": {
        "colab": {
          "base_uri": "https://localhost:8080/"
        },
        "id": "IZ49Abk7iBeU",
        "outputId": "a0f6428a-9b43-4db4-b6b5-efdbdbc5ea91"
      },
      "outputs": [
        {
          "name": "stdout",
          "output_type": "stream",
          "text": [
            "[0, 1, 4, 5, 9, 12, 14, 15, 16, 17, 19, 20, 22, 24, 25, 37, 40, 41, 42, 43, 44, 48, 53, 55, 56, 57, 58, 61, 62, 63, 64, 65, 66, 69, 71, 72, 74, 76, 78, 80, 81, 82, 83, 88, 91, 92, 93, 94, 95, 96, 98, 100, 101, 105, 107, 108, 116, 119, 120, 123, 124, 127, 129, 130, 133, 136, 137, 140, 143, 144, 147, 149, 150, 156, 157, 159, 161, 167, 173, 176, 177, 180, 181, 183, 188, 192, 193, 197, 198, 199, 200, 201, 202, 203, 208, 209, 212, 215, 221, 222, 229, 230, 231, 233, 234, 241, 242, 243, 245, 246, 247, 248, 249, 250, 251, 252, 253, 255, 261, 262, 264, 267, 270, 273, 274, 275, 276, 278, 279, 285, 286, 288, 289, 290, 291, 292, 293, 294, 295, 296, 297, 298, 300, 302, 304, 306, 307, 310, 311, 312, 313, 319, 321, 323, 324, 325, 326, 329, 330, 331, 335, 337, 338, 339, 342, 343, 344, 346, 347, 349, 356, 358, 359, 362, 364, 370, 373, 377, 378, 379, 380, 386, 387, 388, 389, 392, 393, 394, 395, 397, 398, 400, 401, 402, 405, 406, 410, 411, 415, 416, 418, 421, 423, 424, 428, 431, 433, 434, 437, 440, 444, 446, 449, 453, 454, 455, 456, 457, 458, 459, 462, 464, 466, 467, 469, 470, 471, 477, 478, 482, 483, 485, 486, 487, 489, 492, 493, 494, 496, 499, 502, 504, 507, 511, 513, 516, 517, 520, 522, 524, 525, 531, 532, 533, 534, 535, 536, 539, 540, 541, 544, 547, 548, 549, 551, 552, 553, 559, 560, 561, 566, 568, 575, 576, 578, 579, 581, 587, 591, 592, 596, 598, 601, 604, 605, 608, 609, 611, 612, 613, 617, 619, 620, 621, 623, 629, 631, 633, 634, 635, 636, 641, 642, 647, 648, 649, 652, 653, 654, 656, 657, 659, 660, 662, 663, 664, 668, 673, 675, 676, 677, 678, 679, 681, 683, 688, 689, 690, 691, 696, 697, 698, 700, 702, 704, 705, 707, 708, 709, 713, 714, 715, 720, 722, 725, 726, 729, 730, 732, 734, 737, 741, 743, 744, 745, 746, 747, 748, 750, 755, 756, 758, 760, 762, 763, 766, 767, 768, 769, 770, 772, 776, 778, 784, 785, 787, 788, 789, 791, 792, 793, 794, 795, 797, 799, 803, 804, 805, 806, 814, 816, 820, 821, 822, 825, 828, 829, 830, 834, 837, 838, 842, 846, 851, 853, 863, 864, 866, 867, 869, 871, 878, 879, 880, 881, 882, 884, 885, 886, 888, 889, 891, 892, 893, 894, 895, 896, 898, 900, 901, 902, 906, 909, 912, 915, 916, 917, 918, 920, 921, 922, 923, 926, 928, 929, 931, 932, 933, 934, 935, 937, 940]\n"
          ]
        }
      ],
      "source": [
        "recommend_list=[]\n",
        "for i, log in enumerate(adj_matrix):\n",
        "  if adj_matrix[i][my_id]>0.9:\n",
        "    recommend_list.append(i)\n",
        "print(recommend_list)"
      ]
    }
  ],
  "metadata": {
    "accelerator": "GPU",
    "colab": {
      "collapsed_sections": [],
      "name": "_13 추천 시스템(Recommender System).ipynb",
      "provenance": [],
      "toc_visible": true
    },
    "kernelspec": {
      "display_name": "Python 3",
      "name": "python3"
    },
    "language_info": {
      "codemirror_mode": {
        "name": "ipython",
        "version": 3
      },
      "file_extension": ".py",
      "mimetype": "text/x-python",
      "name": "python",
      "nbconvert_exporter": "python",
      "pygments_lexer": "ipython3",
      "version": "3.9.12"
    }
  },
  "nbformat": 4,
  "nbformat_minor": 0
}
